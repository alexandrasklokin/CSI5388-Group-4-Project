{
 "cells": [
  {
   "cell_type": "markdown",
   "metadata": {},
   "source": [
    "# 1. Imports"
   ]
  },
  {
   "cell_type": "code",
   "execution_count": 1,
   "metadata": {},
   "outputs": [],
   "source": [
    "import pandas as pd\n",
    "import numpy as np\n",
    "import glob\n",
    "import os"
   ]
  },
  {
   "cell_type": "markdown",
   "metadata": {},
   "source": [
    "# 2. Importing the Ranks"
   ]
  },
  {
   "cell_type": "code",
   "execution_count": 50,
   "metadata": {},
   "outputs": [
    {
     "name": "stdout",
     "output_type": "stream",
     "text": [
      "Processing file: ../ranking/CSE_CIC_IDS2018\\ddos_portmap_2018_BackwardElimination.csv\n",
      "Processing file: ../ranking/CSE_CIC_IDS2018\\ddos_portmap_2018_MutualInformation.csv\n",
      "Processing file: ../ranking/CSE_CIC_IDS2018\\ddos_portmap_2018_RFE.csv\n",
      "Processing file: ../ranking/CSE_CIC_IDS2018\\ddos_portmap_2018_SelectKBest.csv\n",
      "Processing file: ../ranking/CSE_CIC_IDS2018\\ddos_portmap_2018_VarianceThreshold.csv\n",
      "Processing file: ../ranking/CSE_CIC_IDS2018\\ddos_portmap_2018_VIF.csv\n"
     ]
    }
   ],
   "source": [
    "path_to_ranking = r'../ranking/CSE_CIC_IDS2018/ddos_portmap_2018_*.csv'\n",
    "\n",
    "dataframes_portmap = []\n",
    "\n",
    "for file in glob.glob(path_to_ranking):\n",
    "    print(f\"Processing file: {file}\")\n",
    "    df = pd.read_csv(file, index_col=0)\n",
    "    df = df[~df['feature'].str.contains('Unnamed', na=False)]\n",
    "    dataframes_portmap.append(df)"
   ]
  },
  {
   "cell_type": "code",
   "execution_count": 51,
   "metadata": {},
   "outputs": [
    {
     "name": "stdout",
     "output_type": "stream",
     "text": [
      "Processing file: ../ranking/CIC_DDoS2019\\ddos_ldap_2019_BackwardElimination.csv\n",
      "Processing file: ../ranking/CIC_DDoS2019\\ddos_ldap_2019_MutualInformation.csv\n",
      "Processing file: ../ranking/CIC_DDoS2019\\ddos_ldap_2019_RFE.csv\n",
      "Processing file: ../ranking/CIC_DDoS2019\\ddos_ldap_2019_SelectKBest.csv\n",
      "Processing file: ../ranking/CIC_DDoS2019\\ddos_ldap_2019_VarianceThreshold.csv\n",
      "Processing file: ../ranking/CIC_DDoS2019\\ddos_ldap_2019_VIF.csv\n"
     ]
    }
   ],
   "source": [
    "path_to_ranking = r'../ranking/CIC_DDoS2019/ddos_ldap_2019_*.csv'\n",
    "\n",
    "dataframes_ldap= []\n",
    "#features = []\n",
    "\n",
    "for file in glob.glob(path_to_ranking):\n",
    "    print(f\"Processing file: {file}\")\n",
    "    df = pd.read_csv(file, index_col=0)\n",
    "    df = df[~df['feature'].str.contains('Unnamed', na=False)]\n",
    "    feature = df['feature'].tolist()\n",
    "    #print(df['feature'].tolist())\n",
    "    #print(len(df['feature'].tolist()))\n",
    "    #print(df['feature'].isna().sum())\n",
    "    dataframes_ldap.append(df)\n",
    "    #features.append(feature)\n",
    "    \n",
    "#all_same = all(len(lst) == len(features[0]) and all(a == b for a, b in zip(lst, features[0])) for lst in features)\n",
    "\n",
    "#print(\"All lists are the same:\", all_same)"
   ]
  },
  {
   "cell_type": "code",
   "execution_count": 52,
   "metadata": {},
   "outputs": [
    {
     "name": "stdout",
     "output_type": "stream",
     "text": [
      "Processing file: ../ranking/CIC_DDoS2019\\ddos_udp_2019_BackwardElimination.csv\n",
      "Processing file: ../ranking/CIC_DDoS2019\\ddos_udp_2019_MutualInformation.csv\n",
      "Processing file: ../ranking/CIC_DDoS2019\\ddos_udp_2019_RFE.csv\n",
      "Processing file: ../ranking/CIC_DDoS2019\\ddos_udp_2019_SelectKBest.csv\n",
      "Processing file: ../ranking/CIC_DDoS2019\\ddos_udp_2019_VarianceThreshold.csv\n",
      "Processing file: ../ranking/CIC_DDoS2019\\ddos_udp_2019_VIF.csv\n"
     ]
    }
   ],
   "source": [
    "path_to_ranking = r'../ranking/CIC_DDoS2019/ddos_udp_2019_*.csv'\n",
    "\n",
    "dataframes_udp= []\n",
    "\n",
    "for file in glob.glob(path_to_ranking):\n",
    "    print(f\"Processing file: {file}\")\n",
    "    df = pd.read_csv(file, index_col=0)\n",
    "    df = df[~df['feature'].str.contains('Unnamed', na=False)]\n",
    "    dataframes_udp.append(df)"
   ]
  },
  {
   "cell_type": "code",
   "execution_count": 53,
   "metadata": {},
   "outputs": [
    {
     "name": "stdout",
     "output_type": "stream",
     "text": [
      "Processing file: ../ranking/CIC_DDoS2019\\ddos_netbios_2019_BackwardElimination.csv\n",
      "Processing file: ../ranking/CIC_DDoS2019\\ddos_netbios_2019_MutualInformation.csv\n",
      "Processing file: ../ranking/CIC_DDoS2019\\ddos_netbios_2019_RFE.csv\n",
      "Processing file: ../ranking/CIC_DDoS2019\\ddos_netbios_2019_SelectKBest.csv\n",
      "Processing file: ../ranking/CIC_DDoS2019\\ddos_netbios_2019_VarianceThreshold.csv\n",
      "Processing file: ../ranking/CIC_DDoS2019\\ddos_netbios_2019_VIF.csv\n"
     ]
    }
   ],
   "source": [
    "path_to_ranking = r'../ranking/CIC_DDoS2019/ddos_netbios_2019_*.csv'\n",
    "\n",
    "dataframes_netbios= []\n",
    "\n",
    "for file in glob.glob(path_to_ranking):\n",
    "    print(f\"Processing file: {file}\")\n",
    "    df = pd.read_csv(file, index_col=0)\n",
    "    df = df[~df['feature'].str.contains('Unnamed', na=False)]\n",
    "    dataframes_netbios.append(df)"
   ]
  },
  {
   "cell_type": "code",
   "execution_count": 54,
   "metadata": {},
   "outputs": [
    {
     "name": "stdout",
     "output_type": "stream",
     "text": [
      "Processing file: ../ranking/CIC_DDoS2019\\ddos_syn_2019_BackwardElimination.csv\n",
      "Processing file: ../ranking/CIC_DDoS2019\\ddos_syn_2019_MutualInformation.csv\n",
      "Processing file: ../ranking/CIC_DDoS2019\\ddos_syn_2019_RFE.csv\n",
      "Processing file: ../ranking/CIC_DDoS2019\\ddos_syn_2019_SelectKBest.csv\n",
      "Processing file: ../ranking/CIC_DDoS2019\\ddos_syn_2019_VarianceThreshold.csv\n",
      "Processing file: ../ranking/CIC_DDoS2019\\ddos_syn_2019_VIF.csv\n"
     ]
    }
   ],
   "source": [
    "path_to_ranking = r'../ranking/CIC_DDoS2019/ddos_syn_2019_*.csv'\n",
    "\n",
    "dataframes_syn= []\n",
    "\n",
    "for file in glob.glob(path_to_ranking):\n",
    "    print(f\"Processing file: {file}\")\n",
    "    df = pd.read_csv(file, index_col=0)\n",
    "    df = df[~df['feature'].str.contains('Unnamed', na=False)]\n",
    "    dataframes_syn.append(df)"
   ]
  },
  {
   "cell_type": "markdown",
   "metadata": {},
   "source": [
    "# 3. Creating STEF-Rank Results"
   ]
  },
  {
   "cell_type": "code",
   "execution_count": 5,
   "metadata": {},
   "outputs": [],
   "source": [
    "def STEF_Rank(ranking_dfs):\n",
    "    \n",
    "    aggregated_data = []\n",
    "    \n",
    "    features = ranking_dfs[0]['feature']\n",
    "    \n",
    "    for feature in features:\n",
    "        \n",
    "        total_ranking = 0\n",
    "        \n",
    "        # Add up the rankings\n",
    "        for method in ranking_dfs:\n",
    "            \n",
    "            total_ranking += method.loc[method['feature'] == feature, 'rank'].sum()\n",
    "            \n",
    "        # Save the final ranking    \n",
    "        aggregated_data.append({'feature': feature, 'rank': total_ranking/len(ranking_dfs)})\n",
    "        \n",
    "    # Create Dataframe    \n",
    "    result_df = pd.DataFrame(columns=['feature', 'rank'])\n",
    "    result_df['feature'] = pd.Series(dtype='str')\n",
    "    result_df['rank'] = pd.Series(dtype='float')\n",
    "    \n",
    "    result_df = pd.DataFrame(aggregated_data)\n",
    "        \n",
    "    return result_df"
   ]
  },
  {
   "cell_type": "code",
   "execution_count": 56,
   "metadata": {},
   "outputs": [
    {
     "data": {
      "text/html": [
       "<div>\n",
       "<style scoped>\n",
       "    .dataframe tbody tr th:only-of-type {\n",
       "        vertical-align: middle;\n",
       "    }\n",
       "\n",
       "    .dataframe tbody tr th {\n",
       "        vertical-align: top;\n",
       "    }\n",
       "\n",
       "    .dataframe thead th {\n",
       "        text-align: right;\n",
       "    }\n",
       "</style>\n",
       "<table border=\"1\" class=\"dataframe\">\n",
       "  <thead>\n",
       "    <tr style=\"text-align: right;\">\n",
       "      <th></th>\n",
       "      <th>feature</th>\n",
       "      <th>rank</th>\n",
       "    </tr>\n",
       "  </thead>\n",
       "  <tbody>\n",
       "    <tr>\n",
       "      <th>0</th>\n",
       "      <td>DestinationPort</td>\n",
       "      <td>1.000000</td>\n",
       "    </tr>\n",
       "    <tr>\n",
       "      <th>1</th>\n",
       "      <td>FlowDuration</td>\n",
       "      <td>0.566667</td>\n",
       "    </tr>\n",
       "    <tr>\n",
       "      <th>2</th>\n",
       "      <td>TotalFwdPackets</td>\n",
       "      <td>0.450000</td>\n",
       "    </tr>\n",
       "  </tbody>\n",
       "</table>\n",
       "</div>"
      ],
      "text/plain": [
       "           feature      rank\n",
       "0  DestinationPort  1.000000\n",
       "1     FlowDuration  0.566667\n",
       "2  TotalFwdPackets  0.450000"
      ]
     },
     "execution_count": 56,
     "metadata": {},
     "output_type": "execute_result"
    }
   ],
   "source": [
    "stef_rank_portmap = STEF_Rank(dataframes_portmap)\n",
    "stef_rank_portmap.to_csv(\"../stef_ranking/CSE_CIC_IDS2018/ddos_portmap_2018.csv\")\n",
    "stef_rank_portmap.head(3)"
   ]
  },
  {
   "cell_type": "code",
   "execution_count": 57,
   "metadata": {},
   "outputs": [
    {
     "data": {
      "text/html": [
       "<div>\n",
       "<style scoped>\n",
       "    .dataframe tbody tr th:only-of-type {\n",
       "        vertical-align: middle;\n",
       "    }\n",
       "\n",
       "    .dataframe tbody tr th {\n",
       "        vertical-align: top;\n",
       "    }\n",
       "\n",
       "    .dataframe thead th {\n",
       "        text-align: right;\n",
       "    }\n",
       "</style>\n",
       "<table border=\"1\" class=\"dataframe\">\n",
       "  <thead>\n",
       "    <tr style=\"text-align: right;\">\n",
       "      <th></th>\n",
       "      <th>feature</th>\n",
       "      <th>rank</th>\n",
       "    </tr>\n",
       "  </thead>\n",
       "  <tbody>\n",
       "    <tr>\n",
       "      <th>0</th>\n",
       "      <td>FlowID</td>\n",
       "      <td>0.566667</td>\n",
       "    </tr>\n",
       "    <tr>\n",
       "      <th>1</th>\n",
       "      <td>SourceIP</td>\n",
       "      <td>0.983333</td>\n",
       "    </tr>\n",
       "    <tr>\n",
       "      <th>2</th>\n",
       "      <td>SourcePort</td>\n",
       "      <td>0.750000</td>\n",
       "    </tr>\n",
       "  </tbody>\n",
       "</table>\n",
       "</div>"
      ],
      "text/plain": [
       "      feature      rank\n",
       "0      FlowID  0.566667\n",
       "1    SourceIP  0.983333\n",
       "2  SourcePort  0.750000"
      ]
     },
     "execution_count": 57,
     "metadata": {},
     "output_type": "execute_result"
    }
   ],
   "source": [
    "stef_rank_ldap = STEF_Rank(dataframes_ldap)\n",
    "stef_rank_ldap.to_csv(\"../stef_ranking/CIC_DDoS2019/ddos_ldap_2019.csv\")\n",
    "stef_rank_ldap.head(3)"
   ]
  },
  {
   "cell_type": "code",
   "execution_count": 58,
   "metadata": {},
   "outputs": [
    {
     "data": {
      "text/html": [
       "<div>\n",
       "<style scoped>\n",
       "    .dataframe tbody tr th:only-of-type {\n",
       "        vertical-align: middle;\n",
       "    }\n",
       "\n",
       "    .dataframe tbody tr th {\n",
       "        vertical-align: top;\n",
       "    }\n",
       "\n",
       "    .dataframe thead th {\n",
       "        text-align: right;\n",
       "    }\n",
       "</style>\n",
       "<table border=\"1\" class=\"dataframe\">\n",
       "  <thead>\n",
       "    <tr style=\"text-align: right;\">\n",
       "      <th></th>\n",
       "      <th>feature</th>\n",
       "      <th>rank</th>\n",
       "    </tr>\n",
       "  </thead>\n",
       "  <tbody>\n",
       "    <tr>\n",
       "      <th>0</th>\n",
       "      <td>FlowID</td>\n",
       "      <td>0.8</td>\n",
       "    </tr>\n",
       "    <tr>\n",
       "      <th>1</th>\n",
       "      <td>SourceIP</td>\n",
       "      <td>0.8</td>\n",
       "    </tr>\n",
       "    <tr>\n",
       "      <th>2</th>\n",
       "      <td>SourcePort</td>\n",
       "      <td>0.8</td>\n",
       "    </tr>\n",
       "  </tbody>\n",
       "</table>\n",
       "</div>"
      ],
      "text/plain": [
       "      feature  rank\n",
       "0      FlowID   0.8\n",
       "1    SourceIP   0.8\n",
       "2  SourcePort   0.8"
      ]
     },
     "execution_count": 58,
     "metadata": {},
     "output_type": "execute_result"
    }
   ],
   "source": [
    "stef_rank_udp = STEF_Rank(dataframes_udp)\n",
    "stef_rank_udp.to_csv(\"../stef_ranking/CIC_DDoS2019/ddos_udp_2019.csv\")\n",
    "stef_rank_udp.head(3)"
   ]
  },
  {
   "cell_type": "code",
   "execution_count": 59,
   "metadata": {},
   "outputs": [
    {
     "data": {
      "text/html": [
       "<div>\n",
       "<style scoped>\n",
       "    .dataframe tbody tr th:only-of-type {\n",
       "        vertical-align: middle;\n",
       "    }\n",
       "\n",
       "    .dataframe tbody tr th {\n",
       "        vertical-align: top;\n",
       "    }\n",
       "\n",
       "    .dataframe thead th {\n",
       "        text-align: right;\n",
       "    }\n",
       "</style>\n",
       "<table border=\"1\" class=\"dataframe\">\n",
       "  <thead>\n",
       "    <tr style=\"text-align: right;\">\n",
       "      <th></th>\n",
       "      <th>feature</th>\n",
       "      <th>rank</th>\n",
       "    </tr>\n",
       "  </thead>\n",
       "  <tbody>\n",
       "    <tr>\n",
       "      <th>0</th>\n",
       "      <td>FlowID</td>\n",
       "      <td>0.600000</td>\n",
       "    </tr>\n",
       "    <tr>\n",
       "      <th>1</th>\n",
       "      <td>SourceIP</td>\n",
       "      <td>0.616667</td>\n",
       "    </tr>\n",
       "    <tr>\n",
       "      <th>2</th>\n",
       "      <td>SourcePort</td>\n",
       "      <td>0.733333</td>\n",
       "    </tr>\n",
       "  </tbody>\n",
       "</table>\n",
       "</div>"
      ],
      "text/plain": [
       "      feature      rank\n",
       "0      FlowID  0.600000\n",
       "1    SourceIP  0.616667\n",
       "2  SourcePort  0.733333"
      ]
     },
     "execution_count": 59,
     "metadata": {},
     "output_type": "execute_result"
    }
   ],
   "source": [
    "stef_rank_netbios = STEF_Rank(dataframes_netbios)\n",
    "stef_rank_netbios.to_csv(\"../stef_ranking/CIC_DDoS2019/ddos_netbios_2019.csv\")\n",
    "stef_rank_netbios.head(3)"
   ]
  },
  {
   "cell_type": "code",
   "execution_count": 60,
   "metadata": {},
   "outputs": [
    {
     "data": {
      "text/html": [
       "<div>\n",
       "<style scoped>\n",
       "    .dataframe tbody tr th:only-of-type {\n",
       "        vertical-align: middle;\n",
       "    }\n",
       "\n",
       "    .dataframe tbody tr th {\n",
       "        vertical-align: top;\n",
       "    }\n",
       "\n",
       "    .dataframe thead th {\n",
       "        text-align: right;\n",
       "    }\n",
       "</style>\n",
       "<table border=\"1\" class=\"dataframe\">\n",
       "  <thead>\n",
       "    <tr style=\"text-align: right;\">\n",
       "      <th></th>\n",
       "      <th>feature</th>\n",
       "      <th>rank</th>\n",
       "    </tr>\n",
       "  </thead>\n",
       "  <tbody>\n",
       "    <tr>\n",
       "      <th>0</th>\n",
       "      <td>FlowID</td>\n",
       "      <td>0.700000</td>\n",
       "    </tr>\n",
       "    <tr>\n",
       "      <th>1</th>\n",
       "      <td>SourceIP</td>\n",
       "      <td>0.666667</td>\n",
       "    </tr>\n",
       "    <tr>\n",
       "      <th>2</th>\n",
       "      <td>SourcePort</td>\n",
       "      <td>0.550000</td>\n",
       "    </tr>\n",
       "  </tbody>\n",
       "</table>\n",
       "</div>"
      ],
      "text/plain": [
       "      feature      rank\n",
       "0      FlowID  0.700000\n",
       "1    SourceIP  0.666667\n",
       "2  SourcePort  0.550000"
      ]
     },
     "execution_count": 60,
     "metadata": {},
     "output_type": "execute_result"
    }
   ],
   "source": [
    "stef_rank_syn = STEF_Rank(dataframes_syn)\n",
    "stef_rank_syn.to_csv(\"../stef_ranking/CIC_DDoS2019/ddos_syn_2019.csv\")\n",
    "stef_rank_syn.head(3)"
   ]
  },
  {
   "cell_type": "markdown",
   "metadata": {},
   "source": [
    "# 4. Repeating with Assignment Datasets"
   ]
  },
  {
   "cell_type": "code",
   "execution_count": 2,
   "metadata": {},
   "outputs": [
    {
     "name": "stdout",
     "output_type": "stream",
     "text": [
      "Processing file: ../ranking/csi5388_assignment2_3_data\\assignment2_BackwardElimination.csv\n",
      "Processing file: ../ranking/csi5388_assignment2_3_data\\assignment2_MutualInformation.csv\n",
      "Processing file: ../ranking/csi5388_assignment2_3_data\\assignment2_RFE.csv\n",
      "Processing file: ../ranking/csi5388_assignment2_3_data\\assignment2_SelectKBest.csv\n",
      "Processing file: ../ranking/csi5388_assignment2_3_data\\assignment2_VarianceThreshold.csv\n",
      "Processing file: ../ranking/csi5388_assignment2_3_data\\assignment2_VIF.csv\n"
     ]
    }
   ],
   "source": [
    "path_to_ranking = r'../ranking/csi5388_assignment2_3_data/assignment2_*.csv'\n",
    "\n",
    "dataframes_a2 = []\n",
    "\n",
    "for file in glob.glob(path_to_ranking):\n",
    "    print(f\"Processing file: {file}\")\n",
    "    df = pd.read_csv(file, index_col=0)\n",
    "    df = df[~df['feature'].str.contains('Unnamed', na=False)]\n",
    "    dataframes_a2.append(df)"
   ]
  },
  {
   "cell_type": "code",
   "execution_count": 3,
   "metadata": {},
   "outputs": [
    {
     "name": "stdout",
     "output_type": "stream",
     "text": [
      "Processing file: ../ranking/csi5388_assignment2_3_data\\assignment3_BackwardElimination.csv\n",
      "Processing file: ../ranking/csi5388_assignment2_3_data\\assignment3_MutualInformation.csv\n",
      "Processing file: ../ranking/csi5388_assignment2_3_data\\assignment3_RFE.csv\n",
      "Processing file: ../ranking/csi5388_assignment2_3_data\\assignment3_SelectKBest.csv\n",
      "Processing file: ../ranking/csi5388_assignment2_3_data\\assignment3_VarianceThreshold.csv\n",
      "Processing file: ../ranking/csi5388_assignment2_3_data\\assignment3_VIF.csv\n"
     ]
    }
   ],
   "source": [
    "path_to_ranking = r'../ranking/csi5388_assignment2_3_data/assignment3_*.csv'\n",
    "\n",
    "dataframes_a3 = []\n",
    "\n",
    "for file in glob.glob(path_to_ranking):\n",
    "    print(f\"Processing file: {file}\")\n",
    "    df = pd.read_csv(file, index_col=0)\n",
    "    df = df[~df['feature'].str.contains('Unnamed', na=False)]\n",
    "    dataframes_a3.append(df)"
   ]
  },
  {
   "cell_type": "code",
   "execution_count": 8,
   "metadata": {},
   "outputs": [
    {
     "data": {
      "text/html": [
       "<div>\n",
       "<style scoped>\n",
       "    .dataframe tbody tr th:only-of-type {\n",
       "        vertical-align: middle;\n",
       "    }\n",
       "\n",
       "    .dataframe tbody tr th {\n",
       "        vertical-align: top;\n",
       "    }\n",
       "\n",
       "    .dataframe thead th {\n",
       "        text-align: right;\n",
       "    }\n",
       "</style>\n",
       "<table border=\"1\" class=\"dataframe\">\n",
       "  <thead>\n",
       "    <tr style=\"text-align: right;\">\n",
       "      <th></th>\n",
       "      <th>feature</th>\n",
       "      <th>rank</th>\n",
       "    </tr>\n",
       "  </thead>\n",
       "  <tbody>\n",
       "    <tr>\n",
       "      <th>0</th>\n",
       "      <td>duration</td>\n",
       "      <td>0.816667</td>\n",
       "    </tr>\n",
       "    <tr>\n",
       "      <th>1</th>\n",
       "      <td>protocol_type</td>\n",
       "      <td>0.833333</td>\n",
       "    </tr>\n",
       "    <tr>\n",
       "      <th>2</th>\n",
       "      <td>service</td>\n",
       "      <td>0.733333</td>\n",
       "    </tr>\n",
       "  </tbody>\n",
       "</table>\n",
       "</div>"
      ],
      "text/plain": [
       "         feature      rank\n",
       "0       duration  0.816667\n",
       "1  protocol_type  0.833333\n",
       "2        service  0.733333"
      ]
     },
     "execution_count": 8,
     "metadata": {},
     "output_type": "execute_result"
    }
   ],
   "source": [
    "stef_rank_syn = STEF_Rank(dataframes_a2)\n",
    "stef_rank_syn.to_csv(\"../stef_ranking/csi5388_assignment2_3_data/assignment2.csv\")\n",
    "stef_rank_syn.head(3)"
   ]
  },
  {
   "cell_type": "code",
   "execution_count": 9,
   "metadata": {},
   "outputs": [
    {
     "data": {
      "text/html": [
       "<div>\n",
       "<style scoped>\n",
       "    .dataframe tbody tr th:only-of-type {\n",
       "        vertical-align: middle;\n",
       "    }\n",
       "\n",
       "    .dataframe tbody tr th {\n",
       "        vertical-align: top;\n",
       "    }\n",
       "\n",
       "    .dataframe thead th {\n",
       "        text-align: right;\n",
       "    }\n",
       "</style>\n",
       "<table border=\"1\" class=\"dataframe\">\n",
       "  <thead>\n",
       "    <tr style=\"text-align: right;\">\n",
       "      <th></th>\n",
       "      <th>feature</th>\n",
       "      <th>rank</th>\n",
       "    </tr>\n",
       "  </thead>\n",
       "  <tbody>\n",
       "    <tr>\n",
       "      <th>0</th>\n",
       "      <td>length_longest_word</td>\n",
       "      <td>0.666667</td>\n",
       "    </tr>\n",
       "    <tr>\n",
       "      <th>1</th>\n",
       "      <td>FQDN_count</td>\n",
       "      <td>0.833333</td>\n",
       "    </tr>\n",
       "    <tr>\n",
       "      <th>2</th>\n",
       "      <td>sld_vec</td>\n",
       "      <td>0.333333</td>\n",
       "    </tr>\n",
       "  </tbody>\n",
       "</table>\n",
       "</div>"
      ],
      "text/plain": [
       "               feature      rank\n",
       "0  length_longest_word  0.666667\n",
       "1           FQDN_count  0.833333\n",
       "2              sld_vec  0.333333"
      ]
     },
     "execution_count": 9,
     "metadata": {},
     "output_type": "execute_result"
    }
   ],
   "source": [
    "stef_rank_syn = STEF_Rank(dataframes_a3)\n",
    "stef_rank_syn.to_csv(\"../stef_ranking/csi5388_assignment2_3_data/assignment3.csv\")\n",
    "stef_rank_syn.head(3)"
   ]
  },
  {
   "cell_type": "code",
   "execution_count": null,
   "metadata": {},
   "outputs": [],
   "source": []
  }
 ],
 "metadata": {
  "kernelspec": {
   "display_name": "Python 3",
   "language": "python",
   "name": "python3"
  },
  "language_info": {
   "codemirror_mode": {
    "name": "ipython",
    "version": 3
   },
   "file_extension": ".py",
   "mimetype": "text/x-python",
   "name": "python",
   "nbconvert_exporter": "python",
   "pygments_lexer": "ipython3",
   "version": "3.8.5"
  }
 },
 "nbformat": 4,
 "nbformat_minor": 4
}
