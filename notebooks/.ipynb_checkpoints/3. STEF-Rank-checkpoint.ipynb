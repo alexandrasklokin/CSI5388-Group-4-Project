{
 "cells": [
  {
   "cell_type": "markdown",
   "metadata": {},
   "source": [
    "# 1. Imports"
   ]
  },
  {
   "cell_type": "code",
   "execution_count": 2,
   "metadata": {},
   "outputs": [],
   "source": [
    "import pandas as pd\n",
    "import numpy as np\n",
    "import glob\n",
    "import os"
   ]
  },
  {
   "cell_type": "markdown",
   "metadata": {},
   "source": [
    "# 2. Importing the Ranks"
   ]
  },
  {
   "cell_type": "code",
   "execution_count": 16,
   "metadata": {},
   "outputs": [
    {
     "name": "stdout",
     "output_type": "stream",
     "text": [
      "Processing file: ../ranking/CSE_CIC_IDS2018\\ddos_portmap_2018_BackwardElimination.csv\n",
      "Processing file: ../ranking/CSE_CIC_IDS2018\\ddos_portmap_2018_MutualInformation.csv\n",
      "Processing file: ../ranking/CSE_CIC_IDS2018\\ddos_portmap_2018_VarianceThreshold.csv\n",
      "Processing file: ../ranking/CSE_CIC_IDS2018\\ddos_portmap_2018_VIF.csv\n"
     ]
    }
   ],
   "source": [
    "path_to_ranking = r'../ranking/CSE_CIC_IDS2018/ddos_portmap_2018_*.csv'\n",
    "\n",
    "dataframes_portmap = []\n",
    "\n",
    "for file in glob.glob(path_to_ranking):\n",
    "    print(f\"Processing file: {file}\")\n",
    "    df = pd.read_csv(file, index_col=0)\n",
    "    dataframes_portmap.append(df)"
   ]
  },
  {
   "cell_type": "code",
   "execution_count": 18,
   "metadata": {},
   "outputs": [
    {
     "name": "stdout",
     "output_type": "stream",
     "text": [
      "Processing file: ../ranking/CIC_DDoS2019\\ddos_ldap_2019_BackwardElimination.csv\n",
      "Processing file: ../ranking/CIC_DDoS2019\\ddos_ldap_2019_MutualInformation.csv\n",
      "Processing file: ../ranking/CIC_DDoS2019\\ddos_ldap_2019_VarianceThreshold.csv\n",
      "Processing file: ../ranking/CIC_DDoS2019\\ddos_ldap_2019_VIF.csv\n"
     ]
    }
   ],
   "source": [
    "path_to_ranking = r'../ranking/CIC_DDoS2019/ddos_ldap_2019_*.csv'\n",
    "\n",
    "dataframes_ldap= []\n",
    "\n",
    "for file in glob.glob(path_to_ranking):\n",
    "    print(f\"Processing file: {file}\")\n",
    "    df = pd.read_csv(file, index_col=0)\n",
    "    dataframes_ldap.append(df)"
   ]
  },
  {
   "cell_type": "code",
   "execution_count": null,
   "metadata": {},
   "outputs": [],
   "source": [
    "path_to_ranking = r'../ranking/CIC_DDoS2019/ddos_udp_2019_*.csv'\n",
    "\n",
    "dataframes_udp= []\n",
    "\n",
    "for file in glob.glob(path_to_ranking):\n",
    "    print(f\"Processing file: {file}\")\n",
    "    df = pd.read_csv(file, index_col=0)\n",
    "    dataframes_udp.append(df)"
   ]
  }
 ],
 "metadata": {
  "kernelspec": {
   "display_name": "Python 3",
   "language": "python",
   "name": "python3"
  },
  "language_info": {
   "codemirror_mode": {
    "name": "ipython",
    "version": 3
   },
   "file_extension": ".py",
   "mimetype": "text/x-python",
   "name": "python",
   "nbconvert_exporter": "python",
   "pygments_lexer": "ipython3",
   "version": "3.8.5"
  }
 },
 "nbformat": 4,
 "nbformat_minor": 4
}
