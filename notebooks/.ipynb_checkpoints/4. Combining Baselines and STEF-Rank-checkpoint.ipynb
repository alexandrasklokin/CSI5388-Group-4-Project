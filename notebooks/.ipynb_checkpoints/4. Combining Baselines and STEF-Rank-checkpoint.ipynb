{
 "cells": [
  {
   "cell_type": "markdown",
   "metadata": {},
   "source": [
    "# 1. Imports"
   ]
  },
  {
   "cell_type": "code",
   "execution_count": 10,
   "metadata": {},
   "outputs": [],
   "source": [
    "import pandas as pd\n",
    "import numpy as np\n",
    "import glob\n",
    "import os"
   ]
  },
  {
   "cell_type": "markdown",
   "metadata": {},
   "source": [
    "# 2. Importing the Data"
   ]
  },
  {
   "cell_type": "code",
   "execution_count": 76,
   "metadata": {},
   "outputs": [],
   "source": [
    "def importAllMethods(folder, generic, year):\n",
    "    path_to_ranking = r'../baseline_ranking/'+folder+'/ddos_'+generic+'_'+year+'_*.csv'\n",
    "\n",
    "    dataframes_generic = []\n",
    "    methods = []\n",
    "\n",
    "    for file in glob.glob(path_to_ranking):\n",
    "        print(f\"Processing file: {file}\")\n",
    "        method = file.split('\\\\')[1].split('_')[3].split('.')[0]\n",
    "        methods.append(method)\n",
    "        df = pd.read_csv(file, index_col=0)\n",
    "        df = df[~df['feature'].str.contains('Unnamed', na=False)]\n",
    "        dataframes_generic.append(df)\n",
    "\n",
    "    file = '../stef_ranking/'+folder+'/ddos_'+generic+'_'+year+'.csv'\n",
    "    print(f\"Processing file: {file}\")\n",
    "    stef_rank = pd.read_csv(file, index_col=0)\n",
    "    dataframes_generic.append(stef_rank)\n",
    "    methods.append('STEF-Rank')\n",
    "\n",
    "    return (dataframes_generic, methods)"
   ]
  },
  {
   "cell_type": "code",
   "execution_count": 77,
   "metadata": {},
   "outputs": [
    {
     "name": "stdout",
     "output_type": "stream",
     "text": [
      "Processing file: ../baseline_ranking/CSE_CIC_IDS2018\\ddos_portmap_2018_BackwardElimination.csv\n",
      "Processing file: ../baseline_ranking/CSE_CIC_IDS2018\\ddos_portmap_2018_MutualInformation.csv\n",
      "Processing file: ../baseline_ranking/CSE_CIC_IDS2018\\ddos_portmap_2018_RFE.csv\n",
      "Processing file: ../baseline_ranking/CSE_CIC_IDS2018\\ddos_portmap_2018_VarianceThreshold.csv\n",
      "Processing file: ../baseline_ranking/CSE_CIC_IDS2018\\ddos_portmap_2018_VIF.csv\n",
      "Processing file: ../stef_ranking/CSE_CIC_IDS2018/ddos_portmap_2018.csv\n"
     ]
    }
   ],
   "source": [
    "(dataframes_portmap, methods_portmap) = importAllMethods('CSE_CIC_IDS2018', 'portmap', '2018')"
   ]
  },
  {
   "cell_type": "code",
   "execution_count": 78,
   "metadata": {},
   "outputs": [
    {
     "name": "stdout",
     "output_type": "stream",
     "text": [
      "Processing file: ../baseline_ranking/CIC_DDoS2019\\ddos_syn_2019_MutualInformation.csv\n",
      "Processing file: ../baseline_ranking/CIC_DDoS2019\\ddos_syn_2019_RFE.csv\n",
      "Processing file: ../baseline_ranking/CIC_DDoS2019\\ddos_syn_2019_VarianceThreshold.csv\n",
      "Processing file: ../baseline_ranking/CIC_DDoS2019\\ddos_syn_2019_VIF.csv\n",
      "Processing file: ../stef_ranking/CIC_DDoS2019/ddos_syn_2019.csv\n"
     ]
    }
   ],
   "source": [
    "(dataframes_syn, methods_syn) = importAllMethods('CIC_DDoS2019', 'syn', '2019')"
   ]
  },
  {
   "cell_type": "code",
   "execution_count": 79,
   "metadata": {},
   "outputs": [
    {
     "name": "stdout",
     "output_type": "stream",
     "text": [
      "Processing file: ../baseline_ranking/CIC_DDoS2019\\ddos_udp_2019_BackwardElimination.csv\n",
      "Processing file: ../baseline_ranking/CIC_DDoS2019\\ddos_udp_2019_MutualInformation.csv\n",
      "Processing file: ../baseline_ranking/CIC_DDoS2019\\ddos_udp_2019_RFE.csv\n",
      "Processing file: ../baseline_ranking/CIC_DDoS2019\\ddos_udp_2019_VarianceThreshold.csv\n",
      "Processing file: ../baseline_ranking/CIC_DDoS2019\\ddos_udp_2019_VIF.csv\n",
      "Processing file: ../stef_ranking/CIC_DDoS2019/ddos_udp_2019.csv\n"
     ]
    }
   ],
   "source": [
    "(dataframes_udp, methods_udp) = importAllMethods('CIC_DDoS2019', 'udp', '2019')"
   ]
  },
  {
   "cell_type": "code",
   "execution_count": 86,
   "metadata": {},
   "outputs": [
    {
     "name": "stdout",
     "output_type": "stream",
     "text": [
      "Processing file: ../baseline_ranking/CIC_DDoS2019\\ddos_netbios_2019_MutualInformation.csv\n",
      "Processing file: ../baseline_ranking/CIC_DDoS2019\\ddos_netbios_2019_RFE.csv\n",
      "Processing file: ../baseline_ranking/CIC_DDoS2019\\ddos_netbios_2019_VarianceThreshold.csv\n",
      "Processing file: ../baseline_ranking/CIC_DDoS2019\\ddos_netbios_2019_VIF.csv\n",
      "Processing file: ../stef_ranking/CIC_DDoS2019/ddos_netbios_2019.csv\n"
     ]
    }
   ],
   "source": [
    "(dataframes_netbios, methods_netbios) = importAllMethods('CIC_DDoS2019', 'netbios', '2019')"
   ]
  },
  {
   "cell_type": "code",
   "execution_count": 81,
   "metadata": {},
   "outputs": [
    {
     "name": "stdout",
     "output_type": "stream",
     "text": [
      "Processing file: ../baseline_ranking/CIC_DDoS2019\\ddos_ldap_2019_BackwardElimination.csv\n",
      "Processing file: ../baseline_ranking/CIC_DDoS2019\\ddos_ldap_2019_MutualInformation.csv\n",
      "Processing file: ../baseline_ranking/CIC_DDoS2019\\ddos_ldap_2019_RFE.csv\n",
      "Processing file: ../baseline_ranking/CIC_DDoS2019\\ddos_ldap_2019_VarianceThreshold.csv\n",
      "Processing file: ../baseline_ranking/CIC_DDoS2019\\ddos_ldap_2019_VIF.csv\n",
      "Processing file: ../stef_ranking/CIC_DDoS2019/ddos_ldap_2019.csv\n"
     ]
    }
   ],
   "source": [
    "(dataframes_ldap, methods_ldap) = importAllMethods('CIC_DDoS2019', 'ldap', '2019')"
   ]
  },
  {
   "cell_type": "markdown",
   "metadata": {},
   "source": [
    "# 3. Putting it all Together"
   ]
  },
  {
   "cell_type": "code",
   "execution_count": 82,
   "metadata": {},
   "outputs": [],
   "source": [
    "def puttingItAllTogether(dataframes_generic, methods, verbose):\n",
    "    aggregated_data = []\n",
    "    \n",
    "    # Assuming all dataframes have the same 'feature' column\n",
    "    features = dataframes_generic[0]['feature'].tolist()\n",
    "    \n",
    "    for current_feature in features:\n",
    "        if current_feature != 'Label':\n",
    "            temp = {'feature': current_feature}\n",
    "            if verbose: print(current_feature)\n",
    "\n",
    "            for temp_dataframe, current_method in zip(dataframes_generic, methods):\n",
    "                if verbose: print(current_method)\n",
    "\n",
    "                # Check if 'rank' column exists\n",
    "                if 'rank' in temp_dataframe.columns:\n",
    "                    current_ranking = temp_dataframe.loc[temp_dataframe['feature'] == current_feature, 'rank'].sum()\n",
    "                    temp[current_method] = current_ranking\n",
    "                else:\n",
    "                    temp[current_method] = None  # or some default value like 0\n",
    "\n",
    "            aggregated_data.append(temp)\n",
    "\n",
    "    # Create DataFrame\n",
    "    result_df = pd.DataFrame(aggregated_data)\n",
    "    \n",
    "    return result_df"
   ]
  },
  {
   "cell_type": "code",
   "execution_count": 87,
   "metadata": {},
   "outputs": [
    {
     "data": {
      "text/html": [
       "<div>\n",
       "<style scoped>\n",
       "    .dataframe tbody tr th:only-of-type {\n",
       "        vertical-align: middle;\n",
       "    }\n",
       "\n",
       "    .dataframe tbody tr th {\n",
       "        vertical-align: top;\n",
       "    }\n",
       "\n",
       "    .dataframe thead th {\n",
       "        text-align: right;\n",
       "    }\n",
       "</style>\n",
       "<table border=\"1\" class=\"dataframe\">\n",
       "  <thead>\n",
       "    <tr style=\"text-align: right;\">\n",
       "      <th></th>\n",
       "      <th>feature</th>\n",
       "      <th>BackwardElimination</th>\n",
       "      <th>MutualInformation</th>\n",
       "      <th>RFE</th>\n",
       "      <th>VarianceThreshold</th>\n",
       "      <th>VIF</th>\n",
       "      <th>STEF-Rank</th>\n",
       "    </tr>\n",
       "  </thead>\n",
       "  <tbody>\n",
       "    <tr>\n",
       "      <th>0</th>\n",
       "      <td>DestinationPort</td>\n",
       "      <td>1</td>\n",
       "      <td>1</td>\n",
       "      <td>1</td>\n",
       "      <td>1</td>\n",
       "      <td>1</td>\n",
       "      <td>1.000</td>\n",
       "    </tr>\n",
       "    <tr>\n",
       "      <th>1</th>\n",
       "      <td>FlowDuration</td>\n",
       "      <td>1</td>\n",
       "      <td>1</td>\n",
       "      <td>0</td>\n",
       "      <td>1</td>\n",
       "      <td>0</td>\n",
       "      <td>0.700</td>\n",
       "    </tr>\n",
       "    <tr>\n",
       "      <th>2</th>\n",
       "      <td>TotalFwdPackets</td>\n",
       "      <td>1</td>\n",
       "      <td>1</td>\n",
       "      <td>1</td>\n",
       "      <td>0</td>\n",
       "      <td>0</td>\n",
       "      <td>0.425</td>\n",
       "    </tr>\n",
       "    <tr>\n",
       "      <th>3</th>\n",
       "      <td>TotalBackwardPackets</td>\n",
       "      <td>1</td>\n",
       "      <td>1</td>\n",
       "      <td>1</td>\n",
       "      <td>0</td>\n",
       "      <td>0</td>\n",
       "      <td>0.525</td>\n",
       "    </tr>\n",
       "    <tr>\n",
       "      <th>4</th>\n",
       "      <td>TotalLengthofFwdPackets</td>\n",
       "      <td>0</td>\n",
       "      <td>1</td>\n",
       "      <td>1</td>\n",
       "      <td>0</td>\n",
       "      <td>0</td>\n",
       "      <td>0.600</td>\n",
       "    </tr>\n",
       "  </tbody>\n",
       "</table>\n",
       "</div>"
      ],
      "text/plain": [
       "                   feature  BackwardElimination  MutualInformation  RFE  \\\n",
       "0          DestinationPort                    1                  1    1   \n",
       "1             FlowDuration                    1                  1    0   \n",
       "2          TotalFwdPackets                    1                  1    1   \n",
       "3     TotalBackwardPackets                    1                  1    1   \n",
       "4  TotalLengthofFwdPackets                    0                  1    1   \n",
       "\n",
       "   VarianceThreshold  VIF  STEF-Rank  \n",
       "0                  1    1      1.000  \n",
       "1                  1    0      0.700  \n",
       "2                  0    0      0.425  \n",
       "3                  0    0      0.525  \n",
       "4                  0    0      0.600  "
      ]
     },
     "execution_count": 87,
     "metadata": {},
     "output_type": "execute_result"
    }
   ],
   "source": [
    "master_portmap = puttingItAllTogether(dataframes_portmap, methods_portmap, verbose=False)\n",
    "master_portmap.to_csv(\"../final_ranking/CSE_CIC_IDS2018/ddos_portmap_2018.csv\")\n",
    "master_portmap.head(5)"
   ]
  },
  {
   "cell_type": "code",
   "execution_count": 89,
   "metadata": {
    "scrolled": true
   },
   "outputs": [
    {
     "data": {
      "text/html": [
       "<div>\n",
       "<style scoped>\n",
       "    .dataframe tbody tr th:only-of-type {\n",
       "        vertical-align: middle;\n",
       "    }\n",
       "\n",
       "    .dataframe tbody tr th {\n",
       "        vertical-align: top;\n",
       "    }\n",
       "\n",
       "    .dataframe thead th {\n",
       "        text-align: right;\n",
       "    }\n",
       "</style>\n",
       "<table border=\"1\" class=\"dataframe\">\n",
       "  <thead>\n",
       "    <tr style=\"text-align: right;\">\n",
       "      <th></th>\n",
       "      <th>feature</th>\n",
       "      <th>MutualInformation</th>\n",
       "      <th>RFE</th>\n",
       "      <th>VarianceThreshold</th>\n",
       "      <th>VIF</th>\n",
       "      <th>STEF-Rank</th>\n",
       "    </tr>\n",
       "  </thead>\n",
       "  <tbody>\n",
       "    <tr>\n",
       "      <th>0</th>\n",
       "      <td>FlowID</td>\n",
       "      <td>1</td>\n",
       "      <td>0</td>\n",
       "      <td>1</td>\n",
       "      <td>1</td>\n",
       "      <td>0.825</td>\n",
       "    </tr>\n",
       "    <tr>\n",
       "      <th>1</th>\n",
       "      <td>SourceIP</td>\n",
       "      <td>1</td>\n",
       "      <td>1</td>\n",
       "      <td>0</td>\n",
       "      <td>1</td>\n",
       "      <td>0.675</td>\n",
       "    </tr>\n",
       "    <tr>\n",
       "      <th>2</th>\n",
       "      <td>SourcePort</td>\n",
       "      <td>1</td>\n",
       "      <td>0</td>\n",
       "      <td>1</td>\n",
       "      <td>1</td>\n",
       "      <td>0.850</td>\n",
       "    </tr>\n",
       "    <tr>\n",
       "      <th>3</th>\n",
       "      <td>DestinationIP</td>\n",
       "      <td>1</td>\n",
       "      <td>1</td>\n",
       "      <td>0</td>\n",
       "      <td>1</td>\n",
       "      <td>0.975</td>\n",
       "    </tr>\n",
       "    <tr>\n",
       "      <th>4</th>\n",
       "      <td>DestinationPort</td>\n",
       "      <td>1</td>\n",
       "      <td>0</td>\n",
       "      <td>1</td>\n",
       "      <td>1</td>\n",
       "      <td>0.850</td>\n",
       "    </tr>\n",
       "  </tbody>\n",
       "</table>\n",
       "</div>"
      ],
      "text/plain": [
       "           feature  MutualInformation  RFE  VarianceThreshold  VIF  STEF-Rank\n",
       "0           FlowID                  1    0                  1    1      0.825\n",
       "1         SourceIP                  1    1                  0    1      0.675\n",
       "2       SourcePort                  1    0                  1    1      0.850\n",
       "3    DestinationIP                  1    1                  0    1      0.975\n",
       "4  DestinationPort                  1    0                  1    1      0.850"
      ]
     },
     "execution_count": 89,
     "metadata": {},
     "output_type": "execute_result"
    }
   ],
   "source": [
    "master_netbios = puttingItAllTogether(dataframes_netbios, methods_netbios, verbose=False)\n",
    "master_netbios.to_csv(\"../final_ranking/CIC_DDoS2019/ddos_netbios_2019.csv\")\n",
    "master_netbios.head(5)"
   ]
  },
  {
   "cell_type": "code",
   "execution_count": 90,
   "metadata": {},
   "outputs": [
    {
     "data": {
      "text/html": [
       "<div>\n",
       "<style scoped>\n",
       "    .dataframe tbody tr th:only-of-type {\n",
       "        vertical-align: middle;\n",
       "    }\n",
       "\n",
       "    .dataframe tbody tr th {\n",
       "        vertical-align: top;\n",
       "    }\n",
       "\n",
       "    .dataframe thead th {\n",
       "        text-align: right;\n",
       "    }\n",
       "</style>\n",
       "<table border=\"1\" class=\"dataframe\">\n",
       "  <thead>\n",
       "    <tr style=\"text-align: right;\">\n",
       "      <th></th>\n",
       "      <th>feature</th>\n",
       "      <th>MutualInformation</th>\n",
       "      <th>RFE</th>\n",
       "      <th>VarianceThreshold</th>\n",
       "      <th>VIF</th>\n",
       "      <th>STEF-Rank</th>\n",
       "    </tr>\n",
       "  </thead>\n",
       "  <tbody>\n",
       "    <tr>\n",
       "      <th>0</th>\n",
       "      <td>FlowID</td>\n",
       "      <td>1</td>\n",
       "      <td>0</td>\n",
       "      <td>1</td>\n",
       "      <td>1</td>\n",
       "      <td>0.800</td>\n",
       "    </tr>\n",
       "    <tr>\n",
       "      <th>1</th>\n",
       "      <td>SourceIP</td>\n",
       "      <td>1</td>\n",
       "      <td>1</td>\n",
       "      <td>0</td>\n",
       "      <td>1</td>\n",
       "      <td>0.700</td>\n",
       "    </tr>\n",
       "    <tr>\n",
       "      <th>2</th>\n",
       "      <td>SourcePort</td>\n",
       "      <td>1</td>\n",
       "      <td>0</td>\n",
       "      <td>1</td>\n",
       "      <td>1</td>\n",
       "      <td>0.825</td>\n",
       "    </tr>\n",
       "    <tr>\n",
       "      <th>3</th>\n",
       "      <td>DestinationIP</td>\n",
       "      <td>1</td>\n",
       "      <td>1</td>\n",
       "      <td>0</td>\n",
       "      <td>1</td>\n",
       "      <td>0.725</td>\n",
       "    </tr>\n",
       "    <tr>\n",
       "      <th>4</th>\n",
       "      <td>DestinationPort</td>\n",
       "      <td>1</td>\n",
       "      <td>0</td>\n",
       "      <td>1</td>\n",
       "      <td>1</td>\n",
       "      <td>0.800</td>\n",
       "    </tr>\n",
       "  </tbody>\n",
       "</table>\n",
       "</div>"
      ],
      "text/plain": [
       "           feature  MutualInformation  RFE  VarianceThreshold  VIF  STEF-Rank\n",
       "0           FlowID                  1    0                  1    1      0.800\n",
       "1         SourceIP                  1    1                  0    1      0.700\n",
       "2       SourcePort                  1    0                  1    1      0.825\n",
       "3    DestinationIP                  1    1                  0    1      0.725\n",
       "4  DestinationPort                  1    0                  1    1      0.800"
      ]
     },
     "execution_count": 90,
     "metadata": {},
     "output_type": "execute_result"
    }
   ],
   "source": [
    "master_syn = puttingItAllTogether(dataframes_syn, methods_syn, verbose=False)\n",
    "master_syn.to_csv(\"../final_ranking/CIC_DDoS2019/ddos_syn_2019.csv\")\n",
    "master_syn.head(5)"
   ]
  },
  {
   "cell_type": "code",
   "execution_count": 91,
   "metadata": {},
   "outputs": [
    {
     "data": {
      "text/html": [
       "<div>\n",
       "<style scoped>\n",
       "    .dataframe tbody tr th:only-of-type {\n",
       "        vertical-align: middle;\n",
       "    }\n",
       "\n",
       "    .dataframe tbody tr th {\n",
       "        vertical-align: top;\n",
       "    }\n",
       "\n",
       "    .dataframe thead th {\n",
       "        text-align: right;\n",
       "    }\n",
       "</style>\n",
       "<table border=\"1\" class=\"dataframe\">\n",
       "  <thead>\n",
       "    <tr style=\"text-align: right;\">\n",
       "      <th></th>\n",
       "      <th>feature</th>\n",
       "      <th>BackwardElimination</th>\n",
       "      <th>MutualInformation</th>\n",
       "      <th>RFE</th>\n",
       "      <th>VarianceThreshold</th>\n",
       "      <th>VIF</th>\n",
       "      <th>STEF-Rank</th>\n",
       "    </tr>\n",
       "  </thead>\n",
       "  <tbody>\n",
       "    <tr>\n",
       "      <th>0</th>\n",
       "      <td>FlowID</td>\n",
       "      <td>1</td>\n",
       "      <td>1</td>\n",
       "      <td>0</td>\n",
       "      <td>1</td>\n",
       "      <td>1</td>\n",
       "      <td>0.95</td>\n",
       "    </tr>\n",
       "    <tr>\n",
       "      <th>1</th>\n",
       "      <td>SourceIP</td>\n",
       "      <td>1</td>\n",
       "      <td>1</td>\n",
       "      <td>1</td>\n",
       "      <td>1</td>\n",
       "      <td>1</td>\n",
       "      <td>0.90</td>\n",
       "    </tr>\n",
       "    <tr>\n",
       "      <th>2</th>\n",
       "      <td>SourcePort</td>\n",
       "      <td>1</td>\n",
       "      <td>1</td>\n",
       "      <td>0</td>\n",
       "      <td>1</td>\n",
       "      <td>1</td>\n",
       "      <td>1.00</td>\n",
       "    </tr>\n",
       "    <tr>\n",
       "      <th>3</th>\n",
       "      <td>DestinationIP</td>\n",
       "      <td>1</td>\n",
       "      <td>1</td>\n",
       "      <td>1</td>\n",
       "      <td>1</td>\n",
       "      <td>1</td>\n",
       "      <td>0.95</td>\n",
       "    </tr>\n",
       "    <tr>\n",
       "      <th>4</th>\n",
       "      <td>DestinationPort</td>\n",
       "      <td>0</td>\n",
       "      <td>1</td>\n",
       "      <td>0</td>\n",
       "      <td>1</td>\n",
       "      <td>1</td>\n",
       "      <td>0.85</td>\n",
       "    </tr>\n",
       "  </tbody>\n",
       "</table>\n",
       "</div>"
      ],
      "text/plain": [
       "           feature  BackwardElimination  MutualInformation  RFE  \\\n",
       "0           FlowID                    1                  1    0   \n",
       "1         SourceIP                    1                  1    1   \n",
       "2       SourcePort                    1                  1    0   \n",
       "3    DestinationIP                    1                  1    1   \n",
       "4  DestinationPort                    0                  1    0   \n",
       "\n",
       "   VarianceThreshold  VIF  STEF-Rank  \n",
       "0                  1    1       0.95  \n",
       "1                  1    1       0.90  \n",
       "2                  1    1       1.00  \n",
       "3                  1    1       0.95  \n",
       "4                  1    1       0.85  "
      ]
     },
     "execution_count": 91,
     "metadata": {},
     "output_type": "execute_result"
    }
   ],
   "source": [
    "master_udp = puttingItAllTogether(dataframes_udp, methods_udp, verbose=False)\n",
    "master_udp.to_csv(\"../final_ranking/CIC_DDoS2019/ddos_udp_2019.csv\")\n",
    "master_udp.head(5)"
   ]
  },
  {
   "cell_type": "code",
   "execution_count": 92,
   "metadata": {},
   "outputs": [
    {
     "data": {
      "text/html": [
       "<div>\n",
       "<style scoped>\n",
       "    .dataframe tbody tr th:only-of-type {\n",
       "        vertical-align: middle;\n",
       "    }\n",
       "\n",
       "    .dataframe tbody tr th {\n",
       "        vertical-align: top;\n",
       "    }\n",
       "\n",
       "    .dataframe thead th {\n",
       "        text-align: right;\n",
       "    }\n",
       "</style>\n",
       "<table border=\"1\" class=\"dataframe\">\n",
       "  <thead>\n",
       "    <tr style=\"text-align: right;\">\n",
       "      <th></th>\n",
       "      <th>feature</th>\n",
       "      <th>BackwardElimination</th>\n",
       "      <th>MutualInformation</th>\n",
       "      <th>RFE</th>\n",
       "      <th>VarianceThreshold</th>\n",
       "      <th>VIF</th>\n",
       "      <th>STEF-Rank</th>\n",
       "    </tr>\n",
       "  </thead>\n",
       "  <tbody>\n",
       "    <tr>\n",
       "      <th>0</th>\n",
       "      <td>FlowID</td>\n",
       "      <td>1</td>\n",
       "      <td>1</td>\n",
       "      <td>0</td>\n",
       "      <td>1</td>\n",
       "      <td>1</td>\n",
       "      <td>0.850</td>\n",
       "    </tr>\n",
       "    <tr>\n",
       "      <th>1</th>\n",
       "      <td>SourceIP</td>\n",
       "      <td>0</td>\n",
       "      <td>1</td>\n",
       "      <td>1</td>\n",
       "      <td>0</td>\n",
       "      <td>1</td>\n",
       "      <td>0.975</td>\n",
       "    </tr>\n",
       "    <tr>\n",
       "      <th>2</th>\n",
       "      <td>SourcePort</td>\n",
       "      <td>0</td>\n",
       "      <td>1</td>\n",
       "      <td>1</td>\n",
       "      <td>1</td>\n",
       "      <td>1</td>\n",
       "      <td>0.700</td>\n",
       "    </tr>\n",
       "    <tr>\n",
       "      <th>3</th>\n",
       "      <td>DestinationIP</td>\n",
       "      <td>1</td>\n",
       "      <td>1</td>\n",
       "      <td>1</td>\n",
       "      <td>0</td>\n",
       "      <td>1</td>\n",
       "      <td>0.950</td>\n",
       "    </tr>\n",
       "    <tr>\n",
       "      <th>4</th>\n",
       "      <td>DestinationPort</td>\n",
       "      <td>1</td>\n",
       "      <td>1</td>\n",
       "      <td>0</td>\n",
       "      <td>1</td>\n",
       "      <td>1</td>\n",
       "      <td>0.800</td>\n",
       "    </tr>\n",
       "  </tbody>\n",
       "</table>\n",
       "</div>"
      ],
      "text/plain": [
       "           feature  BackwardElimination  MutualInformation  RFE  \\\n",
       "0           FlowID                    1                  1    0   \n",
       "1         SourceIP                    0                  1    1   \n",
       "2       SourcePort                    0                  1    1   \n",
       "3    DestinationIP                    1                  1    1   \n",
       "4  DestinationPort                    1                  1    0   \n",
       "\n",
       "   VarianceThreshold  VIF  STEF-Rank  \n",
       "0                  1    1      0.850  \n",
       "1                  0    1      0.975  \n",
       "2                  1    1      0.700  \n",
       "3                  0    1      0.950  \n",
       "4                  1    1      0.800  "
      ]
     },
     "execution_count": 92,
     "metadata": {},
     "output_type": "execute_result"
    }
   ],
   "source": [
    "master_ldap = puttingItAllTogether(dataframes_ldap, methods_ldap, verbose=False)\n",
    "master_ldap.to_csv(\"../final_ranking/CIC_DDoS2019/ddos_ldap_2019.csv\")\n",
    "master_ldap.head(5)"
   ]
  },
  {
   "cell_type": "code",
   "execution_count": null,
   "metadata": {},
   "outputs": [],
   "source": [
    "# Note: We will now need to select a threshold for the STEF-Rank feature! Such as 0.5"
   ]
  }
 ],
 "metadata": {
  "kernelspec": {
   "display_name": "Python 3",
   "language": "python",
   "name": "python3"
  },
  "language_info": {
   "codemirror_mode": {
    "name": "ipython",
    "version": 3
   },
   "file_extension": ".py",
   "mimetype": "text/x-python",
   "name": "python",
   "nbconvert_exporter": "python",
   "pygments_lexer": "ipython3",
   "version": "3.8.5"
  }
 },
 "nbformat": 4,
 "nbformat_minor": 4
}
