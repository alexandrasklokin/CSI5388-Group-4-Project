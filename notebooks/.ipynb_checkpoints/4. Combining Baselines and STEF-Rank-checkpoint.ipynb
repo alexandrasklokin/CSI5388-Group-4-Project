{
 "cells": [
  {
   "cell_type": "markdown",
   "metadata": {},
   "source": [
    "# 1. Imports"
   ]
  },
  {
   "cell_type": "code",
   "execution_count": 1,
   "metadata": {},
   "outputs": [],
   "source": [
    "import pandas as pd\n",
    "import numpy as np\n",
    "import glob\n",
    "import os"
   ]
  },
  {
   "cell_type": "markdown",
   "metadata": {},
   "source": [
    "# 2. Importing the Data"
   ]
  },
  {
   "cell_type": "code",
   "execution_count": 11,
   "metadata": {},
   "outputs": [],
   "source": [
    "def importAllMethods(folder, generic, year, assignmentDataset=False):\n",
    "    path_to_ranking = r'../baseline_ranking/'+folder+'/ddos_'+generic+'_'+year+'_*.csv'\n",
    "    \n",
    "    if assignmentDataset:\n",
    "        path_to_ranking = r'../baseline_ranking/'+folder+'/'+generic+'*.csv'\n",
    "\n",
    "    dataframes_generic = []\n",
    "    methods = []\n",
    "\n",
    "    for file in glob.glob(path_to_ranking):\n",
    "        print(f\"Processing file: {file}\")\n",
    "        if assignmentDataset:\n",
    "            method = file.split('\\\\')[1].split('_')[1].split('.')[0]\n",
    "        else:\n",
    "            method = file.split('\\\\')[1].split('_')[3].split('.')[0]\n",
    "        methods.append(method)\n",
    "        df = pd.read_csv(file, index_col=0)\n",
    "        df = df[~df['feature'].str.contains('Unnamed', na=False)]\n",
    "        dataframes_generic.append(df)\n",
    "\n",
    "    file = '../stef_ranking/'+folder+'/ddos_'+generic+'_'+year+'.csv'\n",
    "    if assignmentDataset:\n",
    "        path_to_ranking = r'../stef_ranking/'+folder+'/'+generic+'*.csv'\n",
    "    print(f\"Processing file: {file}\")\n",
    "    stef_rank = pd.read_csv(file, index_col=0)\n",
    "    dataframes_generic.append(stef_rank)\n",
    "    methods.append('STEF-Rank')\n",
    "\n",
    "    return (dataframes_generic, methods)"
   ]
  },
  {
   "cell_type": "code",
   "execution_count": 93,
   "metadata": {},
   "outputs": [
    {
     "name": "stdout",
     "output_type": "stream",
     "text": [
      "Processing file: ../baseline_ranking/CSE_CIC_IDS2018\\ddos_portmap_2018_BackwardElimination.csv\n",
      "Processing file: ../baseline_ranking/CSE_CIC_IDS2018\\ddos_portmap_2018_MutualInformation.csv\n",
      "Processing file: ../baseline_ranking/CSE_CIC_IDS2018\\ddos_portmap_2018_RFE.csv\n",
      "Processing file: ../baseline_ranking/CSE_CIC_IDS2018\\ddos_portmap_2018_SelectKBest.csv\n",
      "Processing file: ../baseline_ranking/CSE_CIC_IDS2018\\ddos_portmap_2018_VarianceThreshold.csv\n",
      "Processing file: ../baseline_ranking/CSE_CIC_IDS2018\\ddos_portmap_2018_VIF.csv\n",
      "Processing file: ../stef_ranking/CSE_CIC_IDS2018/ddos_portmap_2018.csv\n"
     ]
    }
   ],
   "source": [
    "(dataframes_portmap, methods_portmap) = importAllMethods('CSE_CIC_IDS2018', 'portmap', '2018')"
   ]
  },
  {
   "cell_type": "code",
   "execution_count": 94,
   "metadata": {},
   "outputs": [
    {
     "name": "stdout",
     "output_type": "stream",
     "text": [
      "Processing file: ../baseline_ranking/CIC_DDoS2019\\ddos_syn_2019_BackwardElimination.csv\n",
      "Processing file: ../baseline_ranking/CIC_DDoS2019\\ddos_syn_2019_MutualInformation.csv\n",
      "Processing file: ../baseline_ranking/CIC_DDoS2019\\ddos_syn_2019_RFE.csv\n",
      "Processing file: ../baseline_ranking/CIC_DDoS2019\\ddos_syn_2019_SelectKBest.csv\n",
      "Processing file: ../baseline_ranking/CIC_DDoS2019\\ddos_syn_2019_VarianceThreshold.csv\n",
      "Processing file: ../baseline_ranking/CIC_DDoS2019\\ddos_syn_2019_VIF.csv\n",
      "Processing file: ../stef_ranking/CIC_DDoS2019/ddos_syn_2019.csv\n"
     ]
    }
   ],
   "source": [
    "(dataframes_syn, methods_syn) = importAllMethods('CIC_DDoS2019', 'syn', '2019')"
   ]
  },
  {
   "cell_type": "code",
   "execution_count": 95,
   "metadata": {},
   "outputs": [
    {
     "name": "stdout",
     "output_type": "stream",
     "text": [
      "Processing file: ../baseline_ranking/CIC_DDoS2019\\ddos_udp_2019_BackwardElimination.csv\n",
      "Processing file: ../baseline_ranking/CIC_DDoS2019\\ddos_udp_2019_MutualInformation.csv\n",
      "Processing file: ../baseline_ranking/CIC_DDoS2019\\ddos_udp_2019_RFE.csv\n",
      "Processing file: ../baseline_ranking/CIC_DDoS2019\\ddos_udp_2019_SelectKBest.csv\n",
      "Processing file: ../baseline_ranking/CIC_DDoS2019\\ddos_udp_2019_VarianceThreshold.csv\n",
      "Processing file: ../baseline_ranking/CIC_DDoS2019\\ddos_udp_2019_VIF.csv\n",
      "Processing file: ../stef_ranking/CIC_DDoS2019/ddos_udp_2019.csv\n"
     ]
    }
   ],
   "source": [
    "(dataframes_udp, methods_udp) = importAllMethods('CIC_DDoS2019', 'udp', '2019')"
   ]
  },
  {
   "cell_type": "code",
   "execution_count": 96,
   "metadata": {},
   "outputs": [
    {
     "name": "stdout",
     "output_type": "stream",
     "text": [
      "Processing file: ../baseline_ranking/CIC_DDoS2019\\ddos_netbios_2019_BackwardElimination.csv\n",
      "Processing file: ../baseline_ranking/CIC_DDoS2019\\ddos_netbios_2019_MutualInformation.csv\n",
      "Processing file: ../baseline_ranking/CIC_DDoS2019\\ddos_netbios_2019_RFE.csv\n",
      "Processing file: ../baseline_ranking/CIC_DDoS2019\\ddos_netbios_2019_SelectKBest.csv\n",
      "Processing file: ../baseline_ranking/CIC_DDoS2019\\ddos_netbios_2019_VarianceThreshold.csv\n",
      "Processing file: ../baseline_ranking/CIC_DDoS2019\\ddos_netbios_2019_VIF.csv\n",
      "Processing file: ../stef_ranking/CIC_DDoS2019/ddos_netbios_2019.csv\n"
     ]
    }
   ],
   "source": [
    "(dataframes_netbios, methods_netbios) = importAllMethods('CIC_DDoS2019', 'netbios', '2019')"
   ]
  },
  {
   "cell_type": "code",
   "execution_count": 97,
   "metadata": {},
   "outputs": [
    {
     "name": "stdout",
     "output_type": "stream",
     "text": [
      "Processing file: ../baseline_ranking/CIC_DDoS2019\\ddos_ldap_2019_BackwardElimination.csv\n",
      "Processing file: ../baseline_ranking/CIC_DDoS2019\\ddos_ldap_2019_MutualInformation.csv\n",
      "Processing file: ../baseline_ranking/CIC_DDoS2019\\ddos_ldap_2019_RFE.csv\n",
      "Processing file: ../baseline_ranking/CIC_DDoS2019\\ddos_ldap_2019_SelectKBest.csv\n",
      "Processing file: ../baseline_ranking/CIC_DDoS2019\\ddos_ldap_2019_VarianceThreshold.csv\n",
      "Processing file: ../baseline_ranking/CIC_DDoS2019\\ddos_ldap_2019_VIF.csv\n",
      "Processing file: ../stef_ranking/CIC_DDoS2019/ddos_ldap_2019.csv\n"
     ]
    }
   ],
   "source": [
    "(dataframes_ldap, methods_ldap) = importAllMethods('CIC_DDoS2019', 'ldap', '2019')"
   ]
  },
  {
   "cell_type": "markdown",
   "metadata": {},
   "source": [
    "# 3. Putting it all Together"
   ]
  },
  {
   "cell_type": "code",
   "execution_count": 98,
   "metadata": {},
   "outputs": [],
   "source": [
    "def puttingItAllTogether(dataframes_generic, methods, verbose):\n",
    "    aggregated_data = []\n",
    "    \n",
    "    # Assuming all dataframes have the same 'feature' column\n",
    "    features = dataframes_generic[0]['feature'].tolist()\n",
    "    \n",
    "    for current_feature in features:\n",
    "        if current_feature != 'Label':\n",
    "            temp = {'feature': current_feature}\n",
    "            if verbose: print(current_feature)\n",
    "\n",
    "            for temp_dataframe, current_method in zip(dataframes_generic, methods):\n",
    "                if verbose: print(current_method)\n",
    "\n",
    "                # Check if 'rank' column exists\n",
    "                if 'rank' in temp_dataframe.columns:\n",
    "                    current_ranking = temp_dataframe.loc[temp_dataframe['feature'] == current_feature, 'rank'].sum()\n",
    "                    temp[current_method] = current_ranking\n",
    "                else:\n",
    "                    temp[current_method] = None  # or some default value like 0\n",
    "\n",
    "            aggregated_data.append(temp)\n",
    "\n",
    "    # Create DataFrame\n",
    "    result_df = pd.DataFrame(aggregated_data)\n",
    "    \n",
    "    return result_df"
   ]
  },
  {
   "cell_type": "code",
   "execution_count": 99,
   "metadata": {},
   "outputs": [
    {
     "data": {
      "text/html": [
       "<div>\n",
       "<style scoped>\n",
       "    .dataframe tbody tr th:only-of-type {\n",
       "        vertical-align: middle;\n",
       "    }\n",
       "\n",
       "    .dataframe tbody tr th {\n",
       "        vertical-align: top;\n",
       "    }\n",
       "\n",
       "    .dataframe thead th {\n",
       "        text-align: right;\n",
       "    }\n",
       "</style>\n",
       "<table border=\"1\" class=\"dataframe\">\n",
       "  <thead>\n",
       "    <tr style=\"text-align: right;\">\n",
       "      <th></th>\n",
       "      <th>feature</th>\n",
       "      <th>BackwardElimination</th>\n",
       "      <th>MutualInformation</th>\n",
       "      <th>RFE</th>\n",
       "      <th>SelectKBest</th>\n",
       "      <th>VarianceThreshold</th>\n",
       "      <th>VIF</th>\n",
       "      <th>STEF-Rank</th>\n",
       "    </tr>\n",
       "  </thead>\n",
       "  <tbody>\n",
       "    <tr>\n",
       "      <th>0</th>\n",
       "      <td>DestinationPort</td>\n",
       "      <td>1</td>\n",
       "      <td>1</td>\n",
       "      <td>1</td>\n",
       "      <td>1</td>\n",
       "      <td>1</td>\n",
       "      <td>1</td>\n",
       "      <td>1.000000</td>\n",
       "    </tr>\n",
       "    <tr>\n",
       "      <th>1</th>\n",
       "      <td>FlowDuration</td>\n",
       "      <td>1</td>\n",
       "      <td>1</td>\n",
       "      <td>0</td>\n",
       "      <td>0</td>\n",
       "      <td>1</td>\n",
       "      <td>0</td>\n",
       "      <td>0.566667</td>\n",
       "    </tr>\n",
       "    <tr>\n",
       "      <th>2</th>\n",
       "      <td>TotalFwdPackets</td>\n",
       "      <td>1</td>\n",
       "      <td>1</td>\n",
       "      <td>1</td>\n",
       "      <td>0</td>\n",
       "      <td>0</td>\n",
       "      <td>0</td>\n",
       "      <td>0.450000</td>\n",
       "    </tr>\n",
       "    <tr>\n",
       "      <th>3</th>\n",
       "      <td>TotalBackwardPackets</td>\n",
       "      <td>1</td>\n",
       "      <td>1</td>\n",
       "      <td>1</td>\n",
       "      <td>0</td>\n",
       "      <td>0</td>\n",
       "      <td>0</td>\n",
       "      <td>0.516667</td>\n",
       "    </tr>\n",
       "    <tr>\n",
       "      <th>4</th>\n",
       "      <td>TotalLengthofFwdPackets</td>\n",
       "      <td>0</td>\n",
       "      <td>1</td>\n",
       "      <td>1</td>\n",
       "      <td>1</td>\n",
       "      <td>0</td>\n",
       "      <td>0</td>\n",
       "      <td>0.700000</td>\n",
       "    </tr>\n",
       "  </tbody>\n",
       "</table>\n",
       "</div>"
      ],
      "text/plain": [
       "                   feature  BackwardElimination  MutualInformation  RFE  \\\n",
       "0          DestinationPort                    1                  1    1   \n",
       "1             FlowDuration                    1                  1    0   \n",
       "2          TotalFwdPackets                    1                  1    1   \n",
       "3     TotalBackwardPackets                    1                  1    1   \n",
       "4  TotalLengthofFwdPackets                    0                  1    1   \n",
       "\n",
       "   SelectKBest  VarianceThreshold  VIF  STEF-Rank  \n",
       "0            1                  1    1   1.000000  \n",
       "1            0                  1    0   0.566667  \n",
       "2            0                  0    0   0.450000  \n",
       "3            0                  0    0   0.516667  \n",
       "4            1                  0    0   0.700000  "
      ]
     },
     "execution_count": 99,
     "metadata": {},
     "output_type": "execute_result"
    }
   ],
   "source": [
    "master_portmap = puttingItAllTogether(dataframes_portmap, methods_portmap, verbose=False)\n",
    "master_portmap.to_csv(\"../final_ranking/CSE_CIC_IDS2018/ddos_portmap_2018.csv\")\n",
    "master_portmap.head(5)"
   ]
  },
  {
   "cell_type": "code",
   "execution_count": 100,
   "metadata": {
    "scrolled": true
   },
   "outputs": [
    {
     "data": {
      "text/html": [
       "<div>\n",
       "<style scoped>\n",
       "    .dataframe tbody tr th:only-of-type {\n",
       "        vertical-align: middle;\n",
       "    }\n",
       "\n",
       "    .dataframe tbody tr th {\n",
       "        vertical-align: top;\n",
       "    }\n",
       "\n",
       "    .dataframe thead th {\n",
       "        text-align: right;\n",
       "    }\n",
       "</style>\n",
       "<table border=\"1\" class=\"dataframe\">\n",
       "  <thead>\n",
       "    <tr style=\"text-align: right;\">\n",
       "      <th></th>\n",
       "      <th>feature</th>\n",
       "      <th>BackwardElimination</th>\n",
       "      <th>MutualInformation</th>\n",
       "      <th>RFE</th>\n",
       "      <th>SelectKBest</th>\n",
       "      <th>VarianceThreshold</th>\n",
       "      <th>VIF</th>\n",
       "      <th>STEF-Rank</th>\n",
       "    </tr>\n",
       "  </thead>\n",
       "  <tbody>\n",
       "    <tr>\n",
       "      <th>0</th>\n",
       "      <td>FlowID</td>\n",
       "      <td>0</td>\n",
       "      <td>1</td>\n",
       "      <td>0</td>\n",
       "      <td>0</td>\n",
       "      <td>1</td>\n",
       "      <td>1</td>\n",
       "      <td>0.600000</td>\n",
       "    </tr>\n",
       "    <tr>\n",
       "      <th>1</th>\n",
       "      <td>SourceIP</td>\n",
       "      <td>1</td>\n",
       "      <td>1</td>\n",
       "      <td>1</td>\n",
       "      <td>1</td>\n",
       "      <td>0</td>\n",
       "      <td>1</td>\n",
       "      <td>0.616667</td>\n",
       "    </tr>\n",
       "    <tr>\n",
       "      <th>2</th>\n",
       "      <td>SourcePort</td>\n",
       "      <td>1</td>\n",
       "      <td>1</td>\n",
       "      <td>0</td>\n",
       "      <td>1</td>\n",
       "      <td>1</td>\n",
       "      <td>1</td>\n",
       "      <td>0.733333</td>\n",
       "    </tr>\n",
       "    <tr>\n",
       "      <th>3</th>\n",
       "      <td>DestinationIP</td>\n",
       "      <td>1</td>\n",
       "      <td>1</td>\n",
       "      <td>1</td>\n",
       "      <td>0</td>\n",
       "      <td>0</td>\n",
       "      <td>1</td>\n",
       "      <td>0.650000</td>\n",
       "    </tr>\n",
       "    <tr>\n",
       "      <th>4</th>\n",
       "      <td>DestinationPort</td>\n",
       "      <td>0</td>\n",
       "      <td>1</td>\n",
       "      <td>0</td>\n",
       "      <td>0</td>\n",
       "      <td>1</td>\n",
       "      <td>1</td>\n",
       "      <td>0.566667</td>\n",
       "    </tr>\n",
       "  </tbody>\n",
       "</table>\n",
       "</div>"
      ],
      "text/plain": [
       "           feature  BackwardElimination  MutualInformation  RFE  SelectKBest  \\\n",
       "0           FlowID                    0                  1    0            0   \n",
       "1         SourceIP                    1                  1    1            1   \n",
       "2       SourcePort                    1                  1    0            1   \n",
       "3    DestinationIP                    1                  1    1            0   \n",
       "4  DestinationPort                    0                  1    0            0   \n",
       "\n",
       "   VarianceThreshold  VIF  STEF-Rank  \n",
       "0                  1    1   0.600000  \n",
       "1                  0    1   0.616667  \n",
       "2                  1    1   0.733333  \n",
       "3                  0    1   0.650000  \n",
       "4                  1    1   0.566667  "
      ]
     },
     "execution_count": 100,
     "metadata": {},
     "output_type": "execute_result"
    }
   ],
   "source": [
    "master_netbios = puttingItAllTogether(dataframes_netbios, methods_netbios, verbose=False)\n",
    "master_netbios.to_csv(\"../final_ranking/CIC_DDoS2019/ddos_netbios_2019.csv\")\n",
    "master_netbios.head(5)"
   ]
  },
  {
   "cell_type": "code",
   "execution_count": 101,
   "metadata": {},
   "outputs": [
    {
     "data": {
      "text/html": [
       "<div>\n",
       "<style scoped>\n",
       "    .dataframe tbody tr th:only-of-type {\n",
       "        vertical-align: middle;\n",
       "    }\n",
       "\n",
       "    .dataframe tbody tr th {\n",
       "        vertical-align: top;\n",
       "    }\n",
       "\n",
       "    .dataframe thead th {\n",
       "        text-align: right;\n",
       "    }\n",
       "</style>\n",
       "<table border=\"1\" class=\"dataframe\">\n",
       "  <thead>\n",
       "    <tr style=\"text-align: right;\">\n",
       "      <th></th>\n",
       "      <th>feature</th>\n",
       "      <th>BackwardElimination</th>\n",
       "      <th>MutualInformation</th>\n",
       "      <th>RFE</th>\n",
       "      <th>SelectKBest</th>\n",
       "      <th>VarianceThreshold</th>\n",
       "      <th>VIF</th>\n",
       "      <th>STEF-Rank</th>\n",
       "    </tr>\n",
       "  </thead>\n",
       "  <tbody>\n",
       "    <tr>\n",
       "      <th>0</th>\n",
       "      <td>FlowID</td>\n",
       "      <td>1</td>\n",
       "      <td>1</td>\n",
       "      <td>0</td>\n",
       "      <td>1</td>\n",
       "      <td>1</td>\n",
       "      <td>1</td>\n",
       "      <td>0.700000</td>\n",
       "    </tr>\n",
       "    <tr>\n",
       "      <th>1</th>\n",
       "      <td>SourceIP</td>\n",
       "      <td>0</td>\n",
       "      <td>1</td>\n",
       "      <td>1</td>\n",
       "      <td>1</td>\n",
       "      <td>0</td>\n",
       "      <td>1</td>\n",
       "      <td>0.666667</td>\n",
       "    </tr>\n",
       "    <tr>\n",
       "      <th>2</th>\n",
       "      <td>SourcePort</td>\n",
       "      <td>1</td>\n",
       "      <td>1</td>\n",
       "      <td>0</td>\n",
       "      <td>0</td>\n",
       "      <td>1</td>\n",
       "      <td>1</td>\n",
       "      <td>0.550000</td>\n",
       "    </tr>\n",
       "    <tr>\n",
       "      <th>3</th>\n",
       "      <td>DestinationIP</td>\n",
       "      <td>0</td>\n",
       "      <td>1</td>\n",
       "      <td>1</td>\n",
       "      <td>0</td>\n",
       "      <td>0</td>\n",
       "      <td>1</td>\n",
       "      <td>0.550000</td>\n",
       "    </tr>\n",
       "    <tr>\n",
       "      <th>4</th>\n",
       "      <td>DestinationPort</td>\n",
       "      <td>1</td>\n",
       "      <td>1</td>\n",
       "      <td>0</td>\n",
       "      <td>1</td>\n",
       "      <td>1</td>\n",
       "      <td>1</td>\n",
       "      <td>0.633333</td>\n",
       "    </tr>\n",
       "  </tbody>\n",
       "</table>\n",
       "</div>"
      ],
      "text/plain": [
       "           feature  BackwardElimination  MutualInformation  RFE  SelectKBest  \\\n",
       "0           FlowID                    1                  1    0            1   \n",
       "1         SourceIP                    0                  1    1            1   \n",
       "2       SourcePort                    1                  1    0            0   \n",
       "3    DestinationIP                    0                  1    1            0   \n",
       "4  DestinationPort                    1                  1    0            1   \n",
       "\n",
       "   VarianceThreshold  VIF  STEF-Rank  \n",
       "0                  1    1   0.700000  \n",
       "1                  0    1   0.666667  \n",
       "2                  1    1   0.550000  \n",
       "3                  0    1   0.550000  \n",
       "4                  1    1   0.633333  "
      ]
     },
     "execution_count": 101,
     "metadata": {},
     "output_type": "execute_result"
    }
   ],
   "source": [
    "master_syn = puttingItAllTogether(dataframes_syn, methods_syn, verbose=False)\n",
    "master_syn.to_csv(\"../final_ranking/CIC_DDoS2019/ddos_syn_2019.csv\")\n",
    "master_syn.head(5)"
   ]
  },
  {
   "cell_type": "code",
   "execution_count": 102,
   "metadata": {},
   "outputs": [
    {
     "data": {
      "text/html": [
       "<div>\n",
       "<style scoped>\n",
       "    .dataframe tbody tr th:only-of-type {\n",
       "        vertical-align: middle;\n",
       "    }\n",
       "\n",
       "    .dataframe tbody tr th {\n",
       "        vertical-align: top;\n",
       "    }\n",
       "\n",
       "    .dataframe thead th {\n",
       "        text-align: right;\n",
       "    }\n",
       "</style>\n",
       "<table border=\"1\" class=\"dataframe\">\n",
       "  <thead>\n",
       "    <tr style=\"text-align: right;\">\n",
       "      <th></th>\n",
       "      <th>feature</th>\n",
       "      <th>BackwardElimination</th>\n",
       "      <th>MutualInformation</th>\n",
       "      <th>RFE</th>\n",
       "      <th>SelectKBest</th>\n",
       "      <th>VarianceThreshold</th>\n",
       "      <th>VIF</th>\n",
       "      <th>STEF-Rank</th>\n",
       "    </tr>\n",
       "  </thead>\n",
       "  <tbody>\n",
       "    <tr>\n",
       "      <th>0</th>\n",
       "      <td>FlowID</td>\n",
       "      <td>1</td>\n",
       "      <td>1</td>\n",
       "      <td>0</td>\n",
       "      <td>1</td>\n",
       "      <td>1</td>\n",
       "      <td>1</td>\n",
       "      <td>0.800000</td>\n",
       "    </tr>\n",
       "    <tr>\n",
       "      <th>1</th>\n",
       "      <td>SourceIP</td>\n",
       "      <td>1</td>\n",
       "      <td>1</td>\n",
       "      <td>1</td>\n",
       "      <td>1</td>\n",
       "      <td>1</td>\n",
       "      <td>1</td>\n",
       "      <td>0.800000</td>\n",
       "    </tr>\n",
       "    <tr>\n",
       "      <th>2</th>\n",
       "      <td>SourcePort</td>\n",
       "      <td>1</td>\n",
       "      <td>1</td>\n",
       "      <td>0</td>\n",
       "      <td>1</td>\n",
       "      <td>1</td>\n",
       "      <td>1</td>\n",
       "      <td>0.800000</td>\n",
       "    </tr>\n",
       "    <tr>\n",
       "      <th>3</th>\n",
       "      <td>DestinationIP</td>\n",
       "      <td>1</td>\n",
       "      <td>1</td>\n",
       "      <td>1</td>\n",
       "      <td>0</td>\n",
       "      <td>1</td>\n",
       "      <td>1</td>\n",
       "      <td>0.633333</td>\n",
       "    </tr>\n",
       "    <tr>\n",
       "      <th>4</th>\n",
       "      <td>DestinationPort</td>\n",
       "      <td>0</td>\n",
       "      <td>1</td>\n",
       "      <td>0</td>\n",
       "      <td>1</td>\n",
       "      <td>1</td>\n",
       "      <td>1</td>\n",
       "      <td>0.733333</td>\n",
       "    </tr>\n",
       "  </tbody>\n",
       "</table>\n",
       "</div>"
      ],
      "text/plain": [
       "           feature  BackwardElimination  MutualInformation  RFE  SelectKBest  \\\n",
       "0           FlowID                    1                  1    0            1   \n",
       "1         SourceIP                    1                  1    1            1   \n",
       "2       SourcePort                    1                  1    0            1   \n",
       "3    DestinationIP                    1                  1    1            0   \n",
       "4  DestinationPort                    0                  1    0            1   \n",
       "\n",
       "   VarianceThreshold  VIF  STEF-Rank  \n",
       "0                  1    1   0.800000  \n",
       "1                  1    1   0.800000  \n",
       "2                  1    1   0.800000  \n",
       "3                  1    1   0.633333  \n",
       "4                  1    1   0.733333  "
      ]
     },
     "execution_count": 102,
     "metadata": {},
     "output_type": "execute_result"
    }
   ],
   "source": [
    "master_udp = puttingItAllTogether(dataframes_udp, methods_udp, verbose=False)\n",
    "master_udp.to_csv(\"../final_ranking/CIC_DDoS2019/ddos_udp_2019.csv\")\n",
    "master_udp.head(5)"
   ]
  },
  {
   "cell_type": "code",
   "execution_count": 103,
   "metadata": {},
   "outputs": [
    {
     "data": {
      "text/html": [
       "<div>\n",
       "<style scoped>\n",
       "    .dataframe tbody tr th:only-of-type {\n",
       "        vertical-align: middle;\n",
       "    }\n",
       "\n",
       "    .dataframe tbody tr th {\n",
       "        vertical-align: top;\n",
       "    }\n",
       "\n",
       "    .dataframe thead th {\n",
       "        text-align: right;\n",
       "    }\n",
       "</style>\n",
       "<table border=\"1\" class=\"dataframe\">\n",
       "  <thead>\n",
       "    <tr style=\"text-align: right;\">\n",
       "      <th></th>\n",
       "      <th>feature</th>\n",
       "      <th>BackwardElimination</th>\n",
       "      <th>MutualInformation</th>\n",
       "      <th>RFE</th>\n",
       "      <th>SelectKBest</th>\n",
       "      <th>VarianceThreshold</th>\n",
       "      <th>VIF</th>\n",
       "      <th>STEF-Rank</th>\n",
       "    </tr>\n",
       "  </thead>\n",
       "  <tbody>\n",
       "    <tr>\n",
       "      <th>0</th>\n",
       "      <td>FlowID</td>\n",
       "      <td>1</td>\n",
       "      <td>1</td>\n",
       "      <td>0</td>\n",
       "      <td>0</td>\n",
       "      <td>1</td>\n",
       "      <td>1</td>\n",
       "      <td>0.566667</td>\n",
       "    </tr>\n",
       "    <tr>\n",
       "      <th>1</th>\n",
       "      <td>SourceIP</td>\n",
       "      <td>0</td>\n",
       "      <td>1</td>\n",
       "      <td>1</td>\n",
       "      <td>1</td>\n",
       "      <td>0</td>\n",
       "      <td>1</td>\n",
       "      <td>0.983333</td>\n",
       "    </tr>\n",
       "    <tr>\n",
       "      <th>2</th>\n",
       "      <td>SourcePort</td>\n",
       "      <td>0</td>\n",
       "      <td>1</td>\n",
       "      <td>1</td>\n",
       "      <td>1</td>\n",
       "      <td>1</td>\n",
       "      <td>1</td>\n",
       "      <td>0.750000</td>\n",
       "    </tr>\n",
       "    <tr>\n",
       "      <th>3</th>\n",
       "      <td>DestinationIP</td>\n",
       "      <td>1</td>\n",
       "      <td>1</td>\n",
       "      <td>1</td>\n",
       "      <td>0</td>\n",
       "      <td>0</td>\n",
       "      <td>1</td>\n",
       "      <td>0.700000</td>\n",
       "    </tr>\n",
       "    <tr>\n",
       "      <th>4</th>\n",
       "      <td>DestinationPort</td>\n",
       "      <td>1</td>\n",
       "      <td>1</td>\n",
       "      <td>0</td>\n",
       "      <td>0</td>\n",
       "      <td>1</td>\n",
       "      <td>1</td>\n",
       "      <td>0.533333</td>\n",
       "    </tr>\n",
       "  </tbody>\n",
       "</table>\n",
       "</div>"
      ],
      "text/plain": [
       "           feature  BackwardElimination  MutualInformation  RFE  SelectKBest  \\\n",
       "0           FlowID                    1                  1    0            0   \n",
       "1         SourceIP                    0                  1    1            1   \n",
       "2       SourcePort                    0                  1    1            1   \n",
       "3    DestinationIP                    1                  1    1            0   \n",
       "4  DestinationPort                    1                  1    0            0   \n",
       "\n",
       "   VarianceThreshold  VIF  STEF-Rank  \n",
       "0                  1    1   0.566667  \n",
       "1                  0    1   0.983333  \n",
       "2                  1    1   0.750000  \n",
       "3                  0    1   0.700000  \n",
       "4                  1    1   0.533333  "
      ]
     },
     "execution_count": 103,
     "metadata": {},
     "output_type": "execute_result"
    }
   ],
   "source": [
    "master_ldap = puttingItAllTogether(dataframes_ldap, methods_ldap, verbose=False)\n",
    "master_ldap.to_csv(\"../final_ranking/CIC_DDoS2019/ddos_ldap_2019.csv\")\n",
    "master_ldap.head(5)"
   ]
  },
  {
   "cell_type": "markdown",
   "metadata": {},
   "source": [
    "### Note: We will now need to select a threshold for the STEF-Rank feature! Such as 0.5\n",
    "\n",
    "# 4. Repeating with Assignment Datasets"
   ]
  },
  {
   "cell_type": "code",
   "execution_count": 12,
   "metadata": {},
   "outputs": [
    {
     "name": "stdout",
     "output_type": "stream",
     "text": [
      "Processing file: ../baseline_ranking/csi5388_assignment2_3_data\\assignment2_BackwardElimination.csv\n",
      "Processing file: ../baseline_ranking/csi5388_assignment2_3_data\\assignment2_MutualInformation.csv\n",
      "Processing file: ../baseline_ranking/csi5388_assignment2_3_data\\assignment2_RFE.csv\n",
      "Processing file: ../baseline_ranking/csi5388_assignment2_3_data\\assignment2_SelectKBest.csv\n",
      "Processing file: ../baseline_ranking/csi5388_assignment2_3_data\\assignment2_VarianceThreshold.csv\n",
      "Processing file: ../baseline_ranking/csi5388_assignment2_3_data\\assignment2_VIF.csv\n",
      "Processing file: ../stef_ranking/csi5388_assignment2_3_data/ddos_assignment2_.csv\n"
     ]
    },
    {
     "ename": "FileNotFoundError",
     "evalue": "[Errno 2] No such file or directory: '../stef_ranking/csi5388_assignment2_3_data/ddos_assignment2_.csv'",
     "output_type": "error",
     "traceback": [
      "\u001b[1;31m---------------------------------------------------------------------------\u001b[0m",
      "\u001b[1;31mFileNotFoundError\u001b[0m                         Traceback (most recent call last)",
      "\u001b[1;32m<ipython-input-12-f670b63633c8>\u001b[0m in \u001b[0;36m<module>\u001b[1;34m\u001b[0m\n\u001b[1;32m----> 1\u001b[1;33m \u001b[1;33m(\u001b[0m\u001b[0mdataframes_a2\u001b[0m\u001b[1;33m,\u001b[0m \u001b[0mmethods_a2\u001b[0m\u001b[1;33m)\u001b[0m \u001b[1;33m=\u001b[0m \u001b[0mimportAllMethods\u001b[0m\u001b[1;33m(\u001b[0m\u001b[1;34m'csi5388_assignment2_3_data'\u001b[0m\u001b[1;33m,\u001b[0m \u001b[1;34m'assignment2'\u001b[0m\u001b[1;33m,\u001b[0m \u001b[1;34m''\u001b[0m\u001b[1;33m,\u001b[0m \u001b[0massignmentDataset\u001b[0m\u001b[1;33m=\u001b[0m\u001b[1;32mTrue\u001b[0m\u001b[1;33m)\u001b[0m\u001b[1;33m\u001b[0m\u001b[1;33m\u001b[0m\u001b[0m\n\u001b[0m",
      "\u001b[1;32m<ipython-input-11-163d97b8e52d>\u001b[0m in \u001b[0;36mimportAllMethods\u001b[1;34m(folder, generic, year, assignmentDataset)\u001b[0m\n\u001b[0;32m     21\u001b[0m     \u001b[0mfile\u001b[0m \u001b[1;33m=\u001b[0m \u001b[1;34m'../stef_ranking/'\u001b[0m\u001b[1;33m+\u001b[0m\u001b[0mfolder\u001b[0m\u001b[1;33m+\u001b[0m\u001b[1;34m'/ddos_'\u001b[0m\u001b[1;33m+\u001b[0m\u001b[0mgeneric\u001b[0m\u001b[1;33m+\u001b[0m\u001b[1;34m'_'\u001b[0m\u001b[1;33m+\u001b[0m\u001b[0myear\u001b[0m\u001b[1;33m+\u001b[0m\u001b[1;34m'.csv'\u001b[0m\u001b[1;33m\u001b[0m\u001b[1;33m\u001b[0m\u001b[0m\n\u001b[0;32m     22\u001b[0m     \u001b[0mprint\u001b[0m\u001b[1;33m(\u001b[0m\u001b[1;34mf\"Processing file: {file}\"\u001b[0m\u001b[1;33m)\u001b[0m\u001b[1;33m\u001b[0m\u001b[1;33m\u001b[0m\u001b[0m\n\u001b[1;32m---> 23\u001b[1;33m     \u001b[0mstef_rank\u001b[0m \u001b[1;33m=\u001b[0m \u001b[0mpd\u001b[0m\u001b[1;33m.\u001b[0m\u001b[0mread_csv\u001b[0m\u001b[1;33m(\u001b[0m\u001b[0mfile\u001b[0m\u001b[1;33m,\u001b[0m \u001b[0mindex_col\u001b[0m\u001b[1;33m=\u001b[0m\u001b[1;36m0\u001b[0m\u001b[1;33m)\u001b[0m\u001b[1;33m\u001b[0m\u001b[1;33m\u001b[0m\u001b[0m\n\u001b[0m\u001b[0;32m     24\u001b[0m     \u001b[0mdataframes_generic\u001b[0m\u001b[1;33m.\u001b[0m\u001b[0mappend\u001b[0m\u001b[1;33m(\u001b[0m\u001b[0mstef_rank\u001b[0m\u001b[1;33m)\u001b[0m\u001b[1;33m\u001b[0m\u001b[1;33m\u001b[0m\u001b[0m\n\u001b[0;32m     25\u001b[0m     \u001b[0mmethods\u001b[0m\u001b[1;33m.\u001b[0m\u001b[0mappend\u001b[0m\u001b[1;33m(\u001b[0m\u001b[1;34m'STEF-Rank'\u001b[0m\u001b[1;33m)\u001b[0m\u001b[1;33m\u001b[0m\u001b[1;33m\u001b[0m\u001b[0m\n",
      "\u001b[1;32mc:\\users\\alexa\\appdata\\local\\programs\\python\\python38\\lib\\site-packages\\pandas\\io\\parsers.py\u001b[0m in \u001b[0;36mread_csv\u001b[1;34m(filepath_or_buffer, sep, delimiter, header, names, index_col, usecols, squeeze, prefix, mangle_dupe_cols, dtype, engine, converters, true_values, false_values, skipinitialspace, skiprows, skipfooter, nrows, na_values, keep_default_na, na_filter, verbose, skip_blank_lines, parse_dates, infer_datetime_format, keep_date_col, date_parser, dayfirst, cache_dates, iterator, chunksize, compression, thousands, decimal, lineterminator, quotechar, quoting, doublequote, escapechar, comment, encoding, dialect, error_bad_lines, warn_bad_lines, delim_whitespace, low_memory, memory_map, float_precision)\u001b[0m\n\u001b[0;32m    684\u001b[0m     )\n\u001b[0;32m    685\u001b[0m \u001b[1;33m\u001b[0m\u001b[0m\n\u001b[1;32m--> 686\u001b[1;33m     \u001b[1;32mreturn\u001b[0m \u001b[0m_read\u001b[0m\u001b[1;33m(\u001b[0m\u001b[0mfilepath_or_buffer\u001b[0m\u001b[1;33m,\u001b[0m \u001b[0mkwds\u001b[0m\u001b[1;33m)\u001b[0m\u001b[1;33m\u001b[0m\u001b[1;33m\u001b[0m\u001b[0m\n\u001b[0m\u001b[0;32m    687\u001b[0m \u001b[1;33m\u001b[0m\u001b[0m\n\u001b[0;32m    688\u001b[0m \u001b[1;33m\u001b[0m\u001b[0m\n",
      "\u001b[1;32mc:\\users\\alexa\\appdata\\local\\programs\\python\\python38\\lib\\site-packages\\pandas\\io\\parsers.py\u001b[0m in \u001b[0;36m_read\u001b[1;34m(filepath_or_buffer, kwds)\u001b[0m\n\u001b[0;32m    450\u001b[0m \u001b[1;33m\u001b[0m\u001b[0m\n\u001b[0;32m    451\u001b[0m     \u001b[1;31m# Create the parser.\u001b[0m\u001b[1;33m\u001b[0m\u001b[1;33m\u001b[0m\u001b[1;33m\u001b[0m\u001b[0m\n\u001b[1;32m--> 452\u001b[1;33m     \u001b[0mparser\u001b[0m \u001b[1;33m=\u001b[0m \u001b[0mTextFileReader\u001b[0m\u001b[1;33m(\u001b[0m\u001b[0mfp_or_buf\u001b[0m\u001b[1;33m,\u001b[0m \u001b[1;33m**\u001b[0m\u001b[0mkwds\u001b[0m\u001b[1;33m)\u001b[0m\u001b[1;33m\u001b[0m\u001b[1;33m\u001b[0m\u001b[0m\n\u001b[0m\u001b[0;32m    453\u001b[0m \u001b[1;33m\u001b[0m\u001b[0m\n\u001b[0;32m    454\u001b[0m     \u001b[1;32mif\u001b[0m \u001b[0mchunksize\u001b[0m \u001b[1;32mor\u001b[0m \u001b[0miterator\u001b[0m\u001b[1;33m:\u001b[0m\u001b[1;33m\u001b[0m\u001b[1;33m\u001b[0m\u001b[0m\n",
      "\u001b[1;32mc:\\users\\alexa\\appdata\\local\\programs\\python\\python38\\lib\\site-packages\\pandas\\io\\parsers.py\u001b[0m in \u001b[0;36m__init__\u001b[1;34m(self, f, engine, **kwds)\u001b[0m\n\u001b[0;32m    944\u001b[0m             \u001b[0mself\u001b[0m\u001b[1;33m.\u001b[0m\u001b[0moptions\u001b[0m\u001b[1;33m[\u001b[0m\u001b[1;34m\"has_index_names\"\u001b[0m\u001b[1;33m]\u001b[0m \u001b[1;33m=\u001b[0m \u001b[0mkwds\u001b[0m\u001b[1;33m[\u001b[0m\u001b[1;34m\"has_index_names\"\u001b[0m\u001b[1;33m]\u001b[0m\u001b[1;33m\u001b[0m\u001b[1;33m\u001b[0m\u001b[0m\n\u001b[0;32m    945\u001b[0m \u001b[1;33m\u001b[0m\u001b[0m\n\u001b[1;32m--> 946\u001b[1;33m         \u001b[0mself\u001b[0m\u001b[1;33m.\u001b[0m\u001b[0m_make_engine\u001b[0m\u001b[1;33m(\u001b[0m\u001b[0mself\u001b[0m\u001b[1;33m.\u001b[0m\u001b[0mengine\u001b[0m\u001b[1;33m)\u001b[0m\u001b[1;33m\u001b[0m\u001b[1;33m\u001b[0m\u001b[0m\n\u001b[0m\u001b[0;32m    947\u001b[0m \u001b[1;33m\u001b[0m\u001b[0m\n\u001b[0;32m    948\u001b[0m     \u001b[1;32mdef\u001b[0m \u001b[0mclose\u001b[0m\u001b[1;33m(\u001b[0m\u001b[0mself\u001b[0m\u001b[1;33m)\u001b[0m\u001b[1;33m:\u001b[0m\u001b[1;33m\u001b[0m\u001b[1;33m\u001b[0m\u001b[0m\n",
      "\u001b[1;32mc:\\users\\alexa\\appdata\\local\\programs\\python\\python38\\lib\\site-packages\\pandas\\io\\parsers.py\u001b[0m in \u001b[0;36m_make_engine\u001b[1;34m(self, engine)\u001b[0m\n\u001b[0;32m   1176\u001b[0m     \u001b[1;32mdef\u001b[0m \u001b[0m_make_engine\u001b[0m\u001b[1;33m(\u001b[0m\u001b[0mself\u001b[0m\u001b[1;33m,\u001b[0m \u001b[0mengine\u001b[0m\u001b[1;33m=\u001b[0m\u001b[1;34m\"c\"\u001b[0m\u001b[1;33m)\u001b[0m\u001b[1;33m:\u001b[0m\u001b[1;33m\u001b[0m\u001b[1;33m\u001b[0m\u001b[0m\n\u001b[0;32m   1177\u001b[0m         \u001b[1;32mif\u001b[0m \u001b[0mengine\u001b[0m \u001b[1;33m==\u001b[0m \u001b[1;34m\"c\"\u001b[0m\u001b[1;33m:\u001b[0m\u001b[1;33m\u001b[0m\u001b[1;33m\u001b[0m\u001b[0m\n\u001b[1;32m-> 1178\u001b[1;33m             \u001b[0mself\u001b[0m\u001b[1;33m.\u001b[0m\u001b[0m_engine\u001b[0m \u001b[1;33m=\u001b[0m \u001b[0mCParserWrapper\u001b[0m\u001b[1;33m(\u001b[0m\u001b[0mself\u001b[0m\u001b[1;33m.\u001b[0m\u001b[0mf\u001b[0m\u001b[1;33m,\u001b[0m \u001b[1;33m**\u001b[0m\u001b[0mself\u001b[0m\u001b[1;33m.\u001b[0m\u001b[0moptions\u001b[0m\u001b[1;33m)\u001b[0m\u001b[1;33m\u001b[0m\u001b[1;33m\u001b[0m\u001b[0m\n\u001b[0m\u001b[0;32m   1179\u001b[0m         \u001b[1;32melse\u001b[0m\u001b[1;33m:\u001b[0m\u001b[1;33m\u001b[0m\u001b[1;33m\u001b[0m\u001b[0m\n\u001b[0;32m   1180\u001b[0m             \u001b[1;32mif\u001b[0m \u001b[0mengine\u001b[0m \u001b[1;33m==\u001b[0m \u001b[1;34m\"python\"\u001b[0m\u001b[1;33m:\u001b[0m\u001b[1;33m\u001b[0m\u001b[1;33m\u001b[0m\u001b[0m\n",
      "\u001b[1;32mc:\\users\\alexa\\appdata\\local\\programs\\python\\python38\\lib\\site-packages\\pandas\\io\\parsers.py\u001b[0m in \u001b[0;36m__init__\u001b[1;34m(self, src, **kwds)\u001b[0m\n\u001b[0;32m   2006\u001b[0m         \u001b[0mkwds\u001b[0m\u001b[1;33m[\u001b[0m\u001b[1;34m\"usecols\"\u001b[0m\u001b[1;33m]\u001b[0m \u001b[1;33m=\u001b[0m \u001b[0mself\u001b[0m\u001b[1;33m.\u001b[0m\u001b[0musecols\u001b[0m\u001b[1;33m\u001b[0m\u001b[1;33m\u001b[0m\u001b[0m\n\u001b[0;32m   2007\u001b[0m \u001b[1;33m\u001b[0m\u001b[0m\n\u001b[1;32m-> 2008\u001b[1;33m         \u001b[0mself\u001b[0m\u001b[1;33m.\u001b[0m\u001b[0m_reader\u001b[0m \u001b[1;33m=\u001b[0m \u001b[0mparsers\u001b[0m\u001b[1;33m.\u001b[0m\u001b[0mTextReader\u001b[0m\u001b[1;33m(\u001b[0m\u001b[0msrc\u001b[0m\u001b[1;33m,\u001b[0m \u001b[1;33m**\u001b[0m\u001b[0mkwds\u001b[0m\u001b[1;33m)\u001b[0m\u001b[1;33m\u001b[0m\u001b[1;33m\u001b[0m\u001b[0m\n\u001b[0m\u001b[0;32m   2009\u001b[0m         \u001b[0mself\u001b[0m\u001b[1;33m.\u001b[0m\u001b[0munnamed_cols\u001b[0m \u001b[1;33m=\u001b[0m \u001b[0mself\u001b[0m\u001b[1;33m.\u001b[0m\u001b[0m_reader\u001b[0m\u001b[1;33m.\u001b[0m\u001b[0munnamed_cols\u001b[0m\u001b[1;33m\u001b[0m\u001b[1;33m\u001b[0m\u001b[0m\n\u001b[0;32m   2010\u001b[0m \u001b[1;33m\u001b[0m\u001b[0m\n",
      "\u001b[1;32mpandas\\_libs\\parsers.pyx\u001b[0m in \u001b[0;36mpandas._libs.parsers.TextReader.__cinit__\u001b[1;34m()\u001b[0m\n",
      "\u001b[1;32mpandas\\_libs\\parsers.pyx\u001b[0m in \u001b[0;36mpandas._libs.parsers.TextReader._setup_parser_source\u001b[1;34m()\u001b[0m\n",
      "\u001b[1;31mFileNotFoundError\u001b[0m: [Errno 2] No such file or directory: '../stef_ranking/csi5388_assignment2_3_data/ddos_assignment2_.csv'"
     ]
    }
   ],
   "source": [
    "(dataframes_a2, methods_a2) = importAllMethods('csi5388_assignment2_3_data', 'assignment2', '', assignmentDataset=True)"
   ]
  },
  {
   "cell_type": "code",
   "execution_count": null,
   "metadata": {},
   "outputs": [],
   "source": [
    "(dataframes_a3, methods_a3) = importAllMethods('csi5388_assignment2_3_data', 'assignment3', '', assignmentDataset=True)"
   ]
  },
  {
   "cell_type": "code",
   "execution_count": null,
   "metadata": {},
   "outputs": [],
   "source": [
    "master_a2 = puttingItAllTogether(dataframes_a2, methods_a2, verbose=False)\n",
    "master_a2.to_csv(\"../final_ranking/csi5388_assignment2_3_data/assignment2.csv\")\n",
    "master_a2.head(5)"
   ]
  },
  {
   "cell_type": "code",
   "execution_count": null,
   "metadata": {},
   "outputs": [],
   "source": [
    "master_a3 = puttingItAllTogether(dataframes_a3, methods_a3, verbose=False)\n",
    "master_a3.to_csv(\"../final_ranking/csi5388_assignment2_3_data/assignment3.csv\")\n",
    "master_a3.head(5)"
   ]
  }
 ],
 "metadata": {
  "kernelspec": {
   "display_name": "Python 3",
   "language": "python",
   "name": "python3"
  },
  "language_info": {
   "codemirror_mode": {
    "name": "ipython",
    "version": 3
   },
   "file_extension": ".py",
   "mimetype": "text/x-python",
   "name": "python",
   "nbconvert_exporter": "python",
   "pygments_lexer": "ipython3",
   "version": "3.8.5"
  }
 },
 "nbformat": 4,
 "nbformat_minor": 4
}
