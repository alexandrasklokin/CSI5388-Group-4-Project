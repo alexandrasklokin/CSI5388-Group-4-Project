{
 "cells": [
  {
   "cell_type": "markdown",
   "metadata": {},
   "source": [
    "# 1. Imports"
   ]
  },
  {
   "cell_type": "code",
   "execution_count": 14,
   "metadata": {},
   "outputs": [],
   "source": [
    "import pandas as pd\n",
    "from sklearn import preprocessing\n",
    "import numpy as np\n",
    "from collinearity import SelectNonCollinear\n",
    "from sklearn.linear_model import LinearRegression"
   ]
  },
  {
   "cell_type": "markdown",
   "metadata": {},
   "source": [
    "# 2. Importing the Datasets"
   ]
  },
  {
   "cell_type": "code",
   "execution_count": 2,
   "metadata": {},
   "outputs": [],
   "source": [
    "ddos_portmap_2018_df = pd.read_csv(\"../data/train_test/CSE_CIC_IDS2018/ddos_portmap_2018_train.csv\", index_col=0)"
   ]
  },
  {
   "cell_type": "code",
   "execution_count": 3,
   "metadata": {},
   "outputs": [],
   "source": [
    "ddos_ldap_2019_df = pd.read_csv(\"../data/train_test/CIC_DDoS2019/ddos_ldap_2019_train.csv\", index_col=0)"
   ]
  },
  {
   "cell_type": "code",
   "execution_count": 4,
   "metadata": {},
   "outputs": [],
   "source": [
    "ddos_netbios_2019_df = pd.read_csv(\"../data/train_test/CIC_DDoS2019/ddos_netbios_2019_train.csv\", index_col=0)"
   ]
  },
  {
   "cell_type": "code",
   "execution_count": 5,
   "metadata": {},
   "outputs": [],
   "source": [
    "ddos_syn_2019_df = pd.read_csv(\"../data/train_test/CIC_DDoS2019/ddos_syn_2019_train.csv\", index_col=0)"
   ]
  },
  {
   "cell_type": "code",
   "execution_count": 6,
   "metadata": {},
   "outputs": [],
   "source": [
    "ddos_udp_2019_df = pd.read_csv(\"../data/train_test/CIC_DDoS2019/ddos_udp_2019_train.csv\", index_col=0)"
   ]
  },
  {
   "cell_type": "code",
   "execution_count": 7,
   "metadata": {},
   "outputs": [],
   "source": [
    "target_feature = 'Label'"
   ]
  },
  {
   "cell_type": "markdown",
   "metadata": {},
   "source": [
    "# 3. Feature Selection - Variance Inflation Factor\n",
    "\n",
    "### Helper Functions"
   ]
  },
  {
   "cell_type": "code",
   "execution_count": 71,
   "metadata": {},
   "outputs": [],
   "source": [
    "def VIF_Helper(X_train, threshold):\n",
    "    \n",
    "    new_X_train = X_train.copy()\n",
    "    features = new_X_train.columns.tolist()\n",
    "    \n",
    "    selected_features = []\n",
    "\n",
    "    for feature in features:\n",
    "        X = [f for f in features if f != feature]\n",
    "        X, y = X_train[X], X_train[feature]\n",
    "        r2 = LinearRegression().fit(X, y).score(X, y)\n",
    "        if r2==1.0:\n",
    "            vif = 50\n",
    "        else:\n",
    "            vif = 1/(1 - r2)\n",
    "            \n",
    "        #print(feature)\n",
    "        #print(vif)\n",
    "            \n",
    "        if vif < threshold:\n",
    "            selected_features.append(feature)\n",
    "\n",
    "    return selected_features"
   ]
  },
  {
   "cell_type": "code",
   "execution_count": 62,
   "metadata": {},
   "outputs": [],
   "source": [
    "def stable_VIF(train_df, num_splits, threshold, verbose):\n",
    "    \n",
    "    selectedFeatures = []\n",
    "    \n",
    "    df_split = np.array_split(train_df, num_splits)\n",
    "    \n",
    "    for small_df in df_split:\n",
    "        X_train = small_df.drop([target_feature], axis=1)\n",
    "        y_train = small_df[target_feature]\n",
    "        \n",
    "        selectedFeatures = selectedFeatures + VIF_Helper(X_train, threshold)\n",
    "        # NOTE TO ARYAN, PRANAV, AND ANISHA: THIS IS THE LINE YOU SHOULD CHANGE, AFTER IMPLEMENTING YOUR FEATURE\n",
    "        # SELECTION METHOD\n",
    "        \n",
    "    rank_data = {}\n",
    "    features = train_df.columns.tolist()\n",
    "    ranks = []\n",
    "        \n",
    "    for feature in features:\n",
    "        if verbose :\n",
    "            print(\"Feature: \"+feature+\". Count: \"+str(selectedFeatures.count(feature))+\"/\"+str(num_splits))\n",
    "        ranks.append(selectedFeatures.count(feature)/num_splits)\n",
    "    \n",
    "    rank_data = {'feature':features, 'rank':ranks}\n",
    "    rank_df = pd.DataFrame(rank_data) \n",
    "    \n",
    "    return rank_df"
   ]
  },
  {
   "cell_type": "markdown",
   "metadata": {},
   "source": [
    "### Investigating a Good Choice of Threshold"
   ]
  },
  {
   "cell_type": "code",
   "execution_count": 63,
   "metadata": {},
   "outputs": [],
   "source": [
    "X_train_portmap = ddos_portmap_2018_df.drop([target_feature], axis=1)\n",
    "y_train_portmap = ddos_portmap_2018_df[target_feature]"
   ]
  },
  {
   "cell_type": "code",
   "execution_count": 64,
   "metadata": {},
   "outputs": [
    {
     "data": {
      "text/plain": [
       "78"
      ]
     },
     "execution_count": 64,
     "metadata": {},
     "output_type": "execute_result"
    }
   ],
   "source": [
    "len(X_train_portmap.columns.tolist())"
   ]
  },
  {
   "cell_type": "markdown",
   "metadata": {},
   "source": [
    "- 1 — features are not correlated\n",
    "- 1<VIF<5 — features are moderately correlated\n",
    "- VIF>5 — features are highly correlated\n",
    "- VIF>10 — high correlation between features and is cause for concern"
   ]
  },
  {
   "cell_type": "code",
   "execution_count": 65,
   "metadata": {},
   "outputs": [
    {
     "name": "stdout",
     "output_type": "stream",
     "text": [
      "NonCollinear Threshold 10.0: . Features: (10) ['DestinationPort', 'BwdPacketLengthMin', 'FlowBytes/s', 'MinPacketLength', 'FINFlagCount', 'URGFlagCount', 'Down/UpRatio', 'Init_Win_bytes_forward', 'Init_Win_bytes_backward', 'min_seg_size_forward']\n",
      "_______________________________________________________________________________\n"
     ]
    }
   ],
   "source": [
    "t=10.0\n",
    "features = VIF_Helper(X_train_portmap, threshold = t)\n",
    "print(\"NonCollinear Threshold \"+str(t)+\": \"+\". Features: (\"+str(len(features))+\") \"+str(features))\n",
    "print(\"_______________________________________________________________________________\")"
   ]
  },
  {
   "cell_type": "code",
   "execution_count": 66,
   "metadata": {},
   "outputs": [
    {
     "name": "stdout",
     "output_type": "stream",
     "text": [
      "NonCollinear Threshold 9.0: . Features: (10) ['DestinationPort', 'BwdPacketLengthMin', 'FlowBytes/s', 'MinPacketLength', 'FINFlagCount', 'URGFlagCount', 'Down/UpRatio', 'Init_Win_bytes_forward', 'Init_Win_bytes_backward', 'min_seg_size_forward']\n",
      "_______________________________________________________________________________\n"
     ]
    }
   ],
   "source": [
    "t=9.0\n",
    "features = VIF_Helper(X_train_portmap, threshold = t)\n",
    "print(\"NonCollinear Threshold \"+str(t)+\": \"+\". Features: (\"+str(len(features))+\") \"+str(features))\n",
    "print(\"_______________________________________________________________________________\")"
   ]
  },
  {
   "cell_type": "code",
   "execution_count": 67,
   "metadata": {},
   "outputs": [
    {
     "name": "stdout",
     "output_type": "stream",
     "text": [
      "NonCollinear Threshold 5.0: . Features: (7) ['DestinationPort', 'BwdPacketLengthMin', 'FlowBytes/s', 'FINFlagCount', 'Init_Win_bytes_forward', 'Init_Win_bytes_backward', 'min_seg_size_forward']\n",
      "_______________________________________________________________________________\n"
     ]
    }
   ],
   "source": [
    "t=5.0\n",
    "features = VIF_Helper(X_train_portmap, threshold = t)\n",
    "print(\"NonCollinear Threshold \"+str(t)+\": \"+\". Features: (\"+str(len(features))+\") \"+str(features))\n",
    "print(\"_______________________________________________________________________________\")"
   ]
  },
  {
   "cell_type": "code",
   "execution_count": 68,
   "metadata": {},
   "outputs": [
    {
     "name": "stdout",
     "output_type": "stream",
     "text": [
      "NonCollinear Threshold 4.0: . Features: (6) ['BwdPacketLengthMin', 'FlowBytes/s', 'FINFlagCount', 'Init_Win_bytes_forward', 'Init_Win_bytes_backward', 'min_seg_size_forward']\n",
      "_______________________________________________________________________________\n"
     ]
    }
   ],
   "source": [
    "t=4.0\n",
    "features = VIF_Helper(X_train_portmap, threshold = t)\n",
    "print(\"NonCollinear Threshold \"+str(t)+\": \"+\". Features: (\"+str(len(features))+\") \"+str(features))\n",
    "print(\"_______________________________________________________________________________\")"
   ]
  },
  {
   "cell_type": "code",
   "execution_count": 69,
   "metadata": {},
   "outputs": [
    {
     "name": "stdout",
     "output_type": "stream",
     "text": [
      "NonCollinear Threshold 1.0: . Features: (0) []\n",
      "_______________________________________________________________________________\n"
     ]
    }
   ],
   "source": [
    "t=1.0\n",
    "features = VIF_Helper(X_train_portmap, threshold = t)\n",
    "print(\"NonCollinear Threshold \"+str(t)+\": \"+\". Features: (\"+str(len(features))+\") \"+str(features))\n",
    "print(\"_______________________________________________________________________________\")"
   ]
  },
  {
   "cell_type": "markdown",
   "metadata": {},
   "source": [
    "# 4. Saving the Rankings"
   ]
  },
  {
   "cell_type": "code",
   "execution_count": null,
   "metadata": {},
   "outputs": [],
   "source": [
    "portmap_ranking = stable_VIF(ddos_portmap_2018_df, 10, 10.0, verbose=False)\n",
    "portmap_ranking.to_csv(\"../ranking/CSE_CIC_IDS2018/ddos_portmap_2018_VIF.csv\")\n",
    "portmap_ranking.head(20)"
   ]
  },
  {
   "cell_type": "code",
   "execution_count": null,
   "metadata": {},
   "outputs": [],
   "source": [
    "ldap_ranking = stable_VIF(ddos_ldap_2019_df, 10, 10.0, verbose=False)\n",
    "ldap_ranking.to_csv(\"../ranking/CIC_DDoS2019/ddos_ldap_2019_VIF.csv\")\n",
    "ldap_ranking.head(20)"
   ]
  },
  {
   "cell_type": "code",
   "execution_count": null,
   "metadata": {},
   "outputs": [],
   "source": [
    "netbios_ranking = stable_VIF(ddos_netbios_2019_df, 10, 10.0, verbose=False)\n",
    "netbios_ranking.to_csv(\"../ranking/CIC_DDoS2019/ddos_netbios_2019_VIF.csv\")\n",
    "netbios_ranking.head(20)"
   ]
  },
  {
   "cell_type": "code",
   "execution_count": null,
   "metadata": {},
   "outputs": [],
   "source": [
    "syn_ranking = stable_VIF(ddos_syn_2019_df, 10, 10.0, verbose=False)\n",
    "syn_ranking.to_csv(\"../ranking/CIC_DDoS2019/ddos_syn_2019_VIF.csv\")\n",
    "syn_ranking.head(20)"
   ]
  },
  {
   "cell_type": "code",
   "execution_count": null,
   "metadata": {},
   "outputs": [],
   "source": [
    "udp_ranking = stable_VIF(ddos_udp_2019_df, 10, 10.0, verbose=False)\n",
    "udp_ranking.to_csv(\"../ranking/CIC_DDoS2019/ddos_udp_2019_VIF.csv\")\n",
    "udp_ranking.head(20)"
   ]
  },
  {
   "cell_type": "code",
   "execution_count": null,
   "metadata": {},
   "outputs": [],
   "source": []
  }
 ],
 "metadata": {
  "kernelspec": {
   "display_name": "Python 3",
   "language": "python",
   "name": "python3"
  },
  "language_info": {
   "codemirror_mode": {
    "name": "ipython",
    "version": 3
   },
   "file_extension": ".py",
   "mimetype": "text/x-python",
   "name": "python",
   "nbconvert_exporter": "python",
   "pygments_lexer": "ipython3",
   "version": "3.8.5"
  }
 },
 "nbformat": 4,
 "nbformat_minor": 4
}
