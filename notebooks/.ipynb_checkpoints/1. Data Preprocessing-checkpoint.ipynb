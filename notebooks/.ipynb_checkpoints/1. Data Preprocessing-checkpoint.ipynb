{
 "cells": [
  {
   "cell_type": "markdown",
   "metadata": {},
   "source": [
    "# 1. Imports"
   ]
  },
  {
   "cell_type": "code",
   "execution_count": 57,
   "metadata": {},
   "outputs": [],
   "source": [
    "import pandas as pd\n",
    "from sklearn import preprocessing\n",
    "import numpy as np\n",
    "from sklearn.utils import shuffle"
   ]
  },
  {
   "cell_type": "markdown",
   "metadata": {},
   "source": [
    "# 2. Importing the Datasets"
   ]
  },
  {
   "cell_type": "code",
   "execution_count": 48,
   "metadata": {},
   "outputs": [],
   "source": [
    "ddos_portmap_2018_df = pd.read_csv(\"../data/original/CSE_CIC_IDS2018/ddos_portmap_2018.csv\")"
   ]
  },
  {
   "cell_type": "code",
   "execution_count": 68,
   "metadata": {},
   "outputs": [
    {
     "name": "stderr",
     "output_type": "stream",
     "text": [
      "c:\\users\\alexa\\appdata\\local\\programs\\python\\python38\\lib\\site-packages\\IPython\\core\\interactiveshell.py:3145: DtypeWarning: Columns (85) have mixed types.Specify dtype option on import or set low_memory=False.\n",
      "  has_raised = await self.run_ast_nodes(code_ast.body, cell_name,\n"
     ]
    }
   ],
   "source": [
    "ddos_ldap_2019_df = pd.read_csv(\"../data/original/CIC_DDoS2019/ddos_ldap_2019.csv\")"
   ]
  },
  {
   "cell_type": "code",
   "execution_count": 12,
   "metadata": {},
   "outputs": [],
   "source": [
    "ddos_netbios_2019_df = pd.read_csv(\"../data/original/CIC_DDoS2019/ddos_netbios_2019.csv\")"
   ]
  },
  {
   "cell_type": "code",
   "execution_count": 91,
   "metadata": {},
   "outputs": [
    {
     "name": "stderr",
     "output_type": "stream",
     "text": [
      "c:\\users\\alexa\\appdata\\local\\programs\\python\\python38\\lib\\site-packages\\IPython\\core\\interactiveshell.py:3145: DtypeWarning: Columns (85) have mixed types.Specify dtype option on import or set low_memory=False.\n",
      "  has_raised = await self.run_ast_nodes(code_ast.body, cell_name,\n"
     ]
    }
   ],
   "source": [
    "ddos_syn_2019_df = pd.read_csv(\"../data/original/CIC_DDoS2019/ddos_syn_2019.csv\")"
   ]
  },
  {
   "cell_type": "code",
   "execution_count": 28,
   "metadata": {},
   "outputs": [
    {
     "name": "stderr",
     "output_type": "stream",
     "text": [
      "c:\\users\\alexa\\appdata\\local\\programs\\python\\python38\\lib\\site-packages\\IPython\\core\\interactiveshell.py:3145: DtypeWarning: Columns (85) have mixed types.Specify dtype option on import or set low_memory=False.\n",
      "  has_raised = await self.run_ast_nodes(code_ast.body, cell_name,\n"
     ]
    }
   ],
   "source": [
    "ddos_udp_2019_df = pd.read_csv(\"../data/original/CIC_DDoS2019/ddos_udp_2019.csv\")"
   ]
  },
  {
   "cell_type": "code",
   "execution_count": 73,
   "metadata": {},
   "outputs": [],
   "source": [
    "target_feature = 'Label'"
   ]
  },
  {
   "cell_type": "markdown",
   "metadata": {},
   "source": [
    "# 3. Reducing the Size of the Datasets\n",
    "\n",
    "The datasets are way too large to even store in GitHub. We will reduce the size while keeping the distribution of target feature.\n",
    "\n",
    "## 3.1 PORTMAN_2018 Dataset\n",
    "\n",
    "This dataset is not too large to save in GitHub. Only need to convert categorical features to numerical and save in new location. Also remove spaces from column titles, and remove time dependant features."
   ]
  },
  {
   "cell_type": "code",
   "execution_count": 50,
   "metadata": {},
   "outputs": [
    {
     "name": "stdout",
     "output_type": "stream",
     "text": [
      "<class 'pandas.core.frame.DataFrame'>\n",
      "RangeIndex: 225745 entries, 0 to 225744\n",
      "Data columns (total 79 columns):\n",
      " #   Column                        Non-Null Count   Dtype  \n",
      "---  ------                        --------------   -----  \n",
      " 0    Destination Port             225745 non-null  int64  \n",
      " 1    Flow Duration                225745 non-null  int64  \n",
      " 2    Total Fwd Packets            225745 non-null  int64  \n",
      " 3    Total Backward Packets       225745 non-null  int64  \n",
      " 4   Total Length of Fwd Packets   225745 non-null  int64  \n",
      " 5    Total Length of Bwd Packets  225745 non-null  int64  \n",
      " 6    Fwd Packet Length Max        225745 non-null  int64  \n",
      " 7    Fwd Packet Length Min        225745 non-null  int64  \n",
      " 8    Fwd Packet Length Mean       225745 non-null  float64\n",
      " 9    Fwd Packet Length Std        225745 non-null  float64\n",
      " 10  Bwd Packet Length Max         225745 non-null  int64  \n",
      " 11   Bwd Packet Length Min        225745 non-null  int64  \n",
      " 12   Bwd Packet Length Mean       225745 non-null  float64\n",
      " 13   Bwd Packet Length Std        225745 non-null  float64\n",
      " 14  Flow Bytes/s                  225741 non-null  float64\n",
      " 15   Flow Packets/s               225745 non-null  float64\n",
      " 16   Flow IAT Mean                225745 non-null  float64\n",
      " 17   Flow IAT Std                 225745 non-null  float64\n",
      " 18   Flow IAT Max                 225745 non-null  int64  \n",
      " 19   Flow IAT Min                 225745 non-null  int64  \n",
      " 20  Fwd IAT Total                 225745 non-null  int64  \n",
      " 21   Fwd IAT Mean                 225745 non-null  float64\n",
      " 22   Fwd IAT Std                  225745 non-null  float64\n",
      " 23   Fwd IAT Max                  225745 non-null  int64  \n",
      " 24   Fwd IAT Min                  225745 non-null  int64  \n",
      " 25  Bwd IAT Total                 225745 non-null  int64  \n",
      " 26   Bwd IAT Mean                 225745 non-null  float64\n",
      " 27   Bwd IAT Std                  225745 non-null  float64\n",
      " 28   Bwd IAT Max                  225745 non-null  int64  \n",
      " 29   Bwd IAT Min                  225745 non-null  int64  \n",
      " 30  Fwd PSH Flags                 225745 non-null  int64  \n",
      " 31   Bwd PSH Flags                225745 non-null  int64  \n",
      " 32   Fwd URG Flags                225745 non-null  int64  \n",
      " 33   Bwd URG Flags                225745 non-null  int64  \n",
      " 34   Fwd Header Length            225745 non-null  int64  \n",
      " 35   Bwd Header Length            225745 non-null  int64  \n",
      " 36  Fwd Packets/s                 225745 non-null  float64\n",
      " 37   Bwd Packets/s                225745 non-null  float64\n",
      " 38   Min Packet Length            225745 non-null  int64  \n",
      " 39   Max Packet Length            225745 non-null  int64  \n",
      " 40   Packet Length Mean           225745 non-null  float64\n",
      " 41   Packet Length Std            225745 non-null  float64\n",
      " 42   Packet Length Variance       225745 non-null  float64\n",
      " 43  FIN Flag Count                225745 non-null  int64  \n",
      " 44   SYN Flag Count               225745 non-null  int64  \n",
      " 45   RST Flag Count               225745 non-null  int64  \n",
      " 46   PSH Flag Count               225745 non-null  int64  \n",
      " 47   ACK Flag Count               225745 non-null  int64  \n",
      " 48   URG Flag Count               225745 non-null  int64  \n",
      " 49   CWE Flag Count               225745 non-null  int64  \n",
      " 50   ECE Flag Count               225745 non-null  int64  \n",
      " 51   Down/Up Ratio                225745 non-null  int64  \n",
      " 52   Average Packet Size          225745 non-null  float64\n",
      " 53   Avg Fwd Segment Size         225745 non-null  float64\n",
      " 54   Avg Bwd Segment Size         225745 non-null  float64\n",
      " 55   Fwd Header Length.1          225745 non-null  int64  \n",
      " 56  Fwd Avg Bytes/Bulk            225745 non-null  int64  \n",
      " 57   Fwd Avg Packets/Bulk         225745 non-null  int64  \n",
      " 58   Fwd Avg Bulk Rate            225745 non-null  int64  \n",
      " 59   Bwd Avg Bytes/Bulk           225745 non-null  int64  \n",
      " 60   Bwd Avg Packets/Bulk         225745 non-null  int64  \n",
      " 61  Bwd Avg Bulk Rate             225745 non-null  int64  \n",
      " 62  Subflow Fwd Packets           225745 non-null  int64  \n",
      " 63   Subflow Fwd Bytes            225745 non-null  int64  \n",
      " 64   Subflow Bwd Packets          225745 non-null  int64  \n",
      " 65   Subflow Bwd Bytes            225745 non-null  int64  \n",
      " 66  Init_Win_bytes_forward        225745 non-null  int64  \n",
      " 67   Init_Win_bytes_backward      225745 non-null  int64  \n",
      " 68   act_data_pkt_fwd             225745 non-null  int64  \n",
      " 69   min_seg_size_forward         225745 non-null  int64  \n",
      " 70  Active Mean                   225745 non-null  float64\n",
      " 71   Active Std                   225745 non-null  float64\n",
      " 72   Active Max                   225745 non-null  int64  \n",
      " 73   Active Min                   225745 non-null  int64  \n",
      " 74  Idle Mean                     225745 non-null  float64\n",
      " 75   Idle Std                     225745 non-null  float64\n",
      " 76   Idle Max                     225745 non-null  int64  \n",
      " 77   Idle Min                     225745 non-null  int64  \n",
      " 78   Label                        225745 non-null  object \n",
      "dtypes: float64(24), int64(54), object(1)\n",
      "memory usage: 136.1+ MB\n"
     ]
    }
   ],
   "source": [
    "ddos_portmap_2018_df.info()"
   ]
  },
  {
   "cell_type": "code",
   "execution_count": 51,
   "metadata": {},
   "outputs": [],
   "source": [
    "# Removing whitespace from column titles\n",
    "new_ddos_portmap_2018_df = ddos_portmap_2018_df.copy()\n",
    "new_ddos_portmap_2018_df.columns = ddos_portmap_2018_df.columns.str.replace(' ', '')"
   ]
  },
  {
   "cell_type": "code",
   "execution_count": 52,
   "metadata": {},
   "outputs": [
    {
     "data": {
      "text/plain": [
       "DDoS      128027\n",
       "BENIGN     97718\n",
       "Name: Label, dtype: int64"
      ]
     },
     "execution_count": 52,
     "metadata": {},
     "output_type": "execute_result"
    }
   ],
   "source": [
    "new_ddos_portmap_2018_df[target_feature].value_counts()"
   ]
  },
  {
   "cell_type": "code",
   "execution_count": 53,
   "metadata": {},
   "outputs": [],
   "source": [
    "le = preprocessing.LabelEncoder()\n",
    "le.fit(new_ddos_portmap_2018_df[target_feature])\n",
    "new_ddos_portmap_2018_df[target_feature] = le.transform(new_ddos_portmap_2018_df[target_feature])"
   ]
  },
  {
   "cell_type": "code",
   "execution_count": 54,
   "metadata": {},
   "outputs": [
    {
     "data": {
      "text/plain": [
       "1    128027\n",
       "0     97718\n",
       "Name: Label, dtype: int64"
      ]
     },
     "execution_count": 54,
     "metadata": {},
     "output_type": "execute_result"
    }
   ],
   "source": [
    "new_ddos_portmap_2018_df[target_feature].value_counts()"
   ]
  },
  {
   "cell_type": "code",
   "execution_count": 55,
   "metadata": {},
   "outputs": [
    {
     "name": "stdout",
     "output_type": "stream",
     "text": [
      "<class 'pandas.core.frame.DataFrame'>\n",
      "RangeIndex: 225745 entries, 0 to 225744\n",
      "Data columns (total 79 columns):\n",
      " #   Column                   Non-Null Count   Dtype  \n",
      "---  ------                   --------------   -----  \n",
      " 0   DestinationPort          225745 non-null  int64  \n",
      " 1   FlowDuration             225745 non-null  int64  \n",
      " 2   TotalFwdPackets          225745 non-null  int64  \n",
      " 3   TotalBackwardPackets     225745 non-null  int64  \n",
      " 4   TotalLengthofFwdPackets  225745 non-null  int64  \n",
      " 5   TotalLengthofBwdPackets  225745 non-null  int64  \n",
      " 6   FwdPacketLengthMax       225745 non-null  int64  \n",
      " 7   FwdPacketLengthMin       225745 non-null  int64  \n",
      " 8   FwdPacketLengthMean      225745 non-null  float64\n",
      " 9   FwdPacketLengthStd       225745 non-null  float64\n",
      " 10  BwdPacketLengthMax       225745 non-null  int64  \n",
      " 11  BwdPacketLengthMin       225745 non-null  int64  \n",
      " 12  BwdPacketLengthMean      225745 non-null  float64\n",
      " 13  BwdPacketLengthStd       225745 non-null  float64\n",
      " 14  FlowBytes/s              225741 non-null  float64\n",
      " 15  FlowPackets/s            225745 non-null  float64\n",
      " 16  FlowIATMean              225745 non-null  float64\n",
      " 17  FlowIATStd               225745 non-null  float64\n",
      " 18  FlowIATMax               225745 non-null  int64  \n",
      " 19  FlowIATMin               225745 non-null  int64  \n",
      " 20  FwdIATTotal              225745 non-null  int64  \n",
      " 21  FwdIATMean               225745 non-null  float64\n",
      " 22  FwdIATStd                225745 non-null  float64\n",
      " 23  FwdIATMax                225745 non-null  int64  \n",
      " 24  FwdIATMin                225745 non-null  int64  \n",
      " 25  BwdIATTotal              225745 non-null  int64  \n",
      " 26  BwdIATMean               225745 non-null  float64\n",
      " 27  BwdIATStd                225745 non-null  float64\n",
      " 28  BwdIATMax                225745 non-null  int64  \n",
      " 29  BwdIATMin                225745 non-null  int64  \n",
      " 30  FwdPSHFlags              225745 non-null  int64  \n",
      " 31  BwdPSHFlags              225745 non-null  int64  \n",
      " 32  FwdURGFlags              225745 non-null  int64  \n",
      " 33  BwdURGFlags              225745 non-null  int64  \n",
      " 34  FwdHeaderLength          225745 non-null  int64  \n",
      " 35  BwdHeaderLength          225745 non-null  int64  \n",
      " 36  FwdPackets/s             225745 non-null  float64\n",
      " 37  BwdPackets/s             225745 non-null  float64\n",
      " 38  MinPacketLength          225745 non-null  int64  \n",
      " 39  MaxPacketLength          225745 non-null  int64  \n",
      " 40  PacketLengthMean         225745 non-null  float64\n",
      " 41  PacketLengthStd          225745 non-null  float64\n",
      " 42  PacketLengthVariance     225745 non-null  float64\n",
      " 43  FINFlagCount             225745 non-null  int64  \n",
      " 44  SYNFlagCount             225745 non-null  int64  \n",
      " 45  RSTFlagCount             225745 non-null  int64  \n",
      " 46  PSHFlagCount             225745 non-null  int64  \n",
      " 47  ACKFlagCount             225745 non-null  int64  \n",
      " 48  URGFlagCount             225745 non-null  int64  \n",
      " 49  CWEFlagCount             225745 non-null  int64  \n",
      " 50  ECEFlagCount             225745 non-null  int64  \n",
      " 51  Down/UpRatio             225745 non-null  int64  \n",
      " 52  AveragePacketSize        225745 non-null  float64\n",
      " 53  AvgFwdSegmentSize        225745 non-null  float64\n",
      " 54  AvgBwdSegmentSize        225745 non-null  float64\n",
      " 55  FwdHeaderLength.1        225745 non-null  int64  \n",
      " 56  FwdAvgBytes/Bulk         225745 non-null  int64  \n",
      " 57  FwdAvgPackets/Bulk       225745 non-null  int64  \n",
      " 58  FwdAvgBulkRate           225745 non-null  int64  \n",
      " 59  BwdAvgBytes/Bulk         225745 non-null  int64  \n",
      " 60  BwdAvgPackets/Bulk       225745 non-null  int64  \n",
      " 61  BwdAvgBulkRate           225745 non-null  int64  \n",
      " 62  SubflowFwdPackets        225745 non-null  int64  \n",
      " 63  SubflowFwdBytes          225745 non-null  int64  \n",
      " 64  SubflowBwdPackets        225745 non-null  int64  \n",
      " 65  SubflowBwdBytes          225745 non-null  int64  \n",
      " 66  Init_Win_bytes_forward   225745 non-null  int64  \n",
      " 67  Init_Win_bytes_backward  225745 non-null  int64  \n",
      " 68  act_data_pkt_fwd         225745 non-null  int64  \n",
      " 69  min_seg_size_forward     225745 non-null  int64  \n",
      " 70  ActiveMean               225745 non-null  float64\n",
      " 71  ActiveStd                225745 non-null  float64\n",
      " 72  ActiveMax                225745 non-null  int64  \n",
      " 73  ActiveMin                225745 non-null  int64  \n",
      " 74  IdleMean                 225745 non-null  float64\n",
      " 75  IdleStd                  225745 non-null  float64\n",
      " 76  IdleMax                  225745 non-null  int64  \n",
      " 77  IdleMin                  225745 non-null  int64  \n",
      " 78  Label                    225745 non-null  int32  \n",
      "dtypes: float64(24), int32(1), int64(54)\n",
      "memory usage: 135.2 MB\n"
     ]
    }
   ],
   "source": [
    "new_ddos_portmap_2018_df.info()"
   ]
  },
  {
   "cell_type": "code",
   "execution_count": 56,
   "metadata": {},
   "outputs": [],
   "source": [
    "new_ddos_portmap_2018_df.to_csv(\"../data/processed/CSE_CIC_IDS2018/ddos_portmap_2018.csv\")"
   ]
  },
  {
   "cell_type": "markdown",
   "metadata": {},
   "source": [
    "## 3.2 LDAP_2019 Dataset"
   ]
  },
  {
   "cell_type": "code",
   "execution_count": 81,
   "metadata": {},
   "outputs": [],
   "source": [
    "# PREPROCESSING PIPELINE:\n",
    "\n",
    "def preprocess_ddos_2019 (ddos_df, remove_value, num_attacks):\n",
    "    \n",
    "    # Removing whitespace from column titles\n",
    "    new_ddos_df = ddos_df.copy()\n",
    "    new_ddos_df.columns = ddos_df.columns.str.replace(' ', '')\n",
    "    \n",
    "    # Drop extra values\n",
    "    if remove_value!=None:\n",
    "        new_ddos_df = new_ddos_df.drop(new_ddos_df[new_ddos_df[target_feature] == remove_value].index)\n",
    "    \n",
    "    # Drop time dependant variables\n",
    "    new_ddos_df = new_ddos_df.drop('Timestamp', axis=1)\n",
    "    \n",
    "    # Categorical to numerical features\n",
    "    categorical_features = ['FlowID', 'SourceIP', 'DestinationIP', 'SimillarHTTP', target_feature]\n",
    "\n",
    "    for categorical_feature in categorical_features:\n",
    "        new_ddos_df[categorical_feature] = new_ddos_df[categorical_feature].astype(\"string\")\n",
    "        le = preprocessing.LabelEncoder()\n",
    "        le.fit(new_ddos_df[categorical_feature])\n",
    "        new_ddos_df[categorical_feature] = le.transform(new_ddos_df[categorical_feature])\n",
    "        \n",
    "    # Drop a lot of the attack instances\n",
    "    attack_indices = new_ddos_df[new_ddos_df[target_feature] == 1].index\n",
    "    benign_indices = new_ddos_df[new_ddos_df[target_feature] == 0].index\n",
    "    random_indices = np.random.choice(attack_indices, num_attacks, replace=False)\n",
    "    all_indices = np.concatenate((benign_indices, random_indices))\n",
    "    new_ddos_df = new_ddos_df.loc[all_indices]\n",
    "    \n",
    "    # Shuffle entries\n",
    "    new_ddos_df = shuffle(new_ddos_df)\n",
    "    \n",
    "    return new_ddos_df"
   ]
  },
  {
   "cell_type": "code",
   "execution_count": 70,
   "metadata": {},
   "outputs": [
    {
     "name": "stdout",
     "output_type": "stream",
     "text": [
      "<class 'pandas.core.frame.DataFrame'>\n",
      "RangeIndex: 2113234 entries, 0 to 2113233\n",
      "Data columns (total 88 columns):\n",
      " #   Column                        Dtype  \n",
      "---  ------                        -----  \n",
      " 0   Unnamed: 0                    int64  \n",
      " 1   Flow ID                       object \n",
      " 2    Source IP                    object \n",
      " 3    Source Port                  int64  \n",
      " 4    Destination IP               object \n",
      " 5    Destination Port             int64  \n",
      " 6    Protocol                     int64  \n",
      " 7    Timestamp                    object \n",
      " 8    Flow Duration                int64  \n",
      " 9    Total Fwd Packets            int64  \n",
      " 10   Total Backward Packets       int64  \n",
      " 11  Total Length of Fwd Packets   float64\n",
      " 12   Total Length of Bwd Packets  float64\n",
      " 13   Fwd Packet Length Max        float64\n",
      " 14   Fwd Packet Length Min        float64\n",
      " 15   Fwd Packet Length Mean       float64\n",
      " 16   Fwd Packet Length Std        float64\n",
      " 17  Bwd Packet Length Max         float64\n",
      " 18   Bwd Packet Length Min        float64\n",
      " 19   Bwd Packet Length Mean       float64\n",
      " 20   Bwd Packet Length Std        float64\n",
      " 21  Flow Bytes/s                  float64\n",
      " 22   Flow Packets/s               float64\n",
      " 23   Flow IAT Mean                float64\n",
      " 24   Flow IAT Std                 float64\n",
      " 25   Flow IAT Max                 float64\n",
      " 26   Flow IAT Min                 float64\n",
      " 27  Fwd IAT Total                 float64\n",
      " 28   Fwd IAT Mean                 float64\n",
      " 29   Fwd IAT Std                  float64\n",
      " 30   Fwd IAT Max                  float64\n",
      " 31   Fwd IAT Min                  float64\n",
      " 32  Bwd IAT Total                 float64\n",
      " 33   Bwd IAT Mean                 float64\n",
      " 34   Bwd IAT Std                  float64\n",
      " 35   Bwd IAT Max                  float64\n",
      " 36   Bwd IAT Min                  float64\n",
      " 37  Fwd PSH Flags                 int64  \n",
      " 38   Bwd PSH Flags                int64  \n",
      " 39   Fwd URG Flags                int64  \n",
      " 40   Bwd URG Flags                int64  \n",
      " 41   Fwd Header Length            int64  \n",
      " 42   Bwd Header Length            int64  \n",
      " 43  Fwd Packets/s                 float64\n",
      " 44   Bwd Packets/s                float64\n",
      " 45   Min Packet Length            float64\n",
      " 46   Max Packet Length            float64\n",
      " 47   Packet Length Mean           float64\n",
      " 48   Packet Length Std            float64\n",
      " 49   Packet Length Variance       float64\n",
      " 50  FIN Flag Count                int64  \n",
      " 51   SYN Flag Count               int64  \n",
      " 52   RST Flag Count               int64  \n",
      " 53   PSH Flag Count               int64  \n",
      " 54   ACK Flag Count               int64  \n",
      " 55   URG Flag Count               int64  \n",
      " 56   CWE Flag Count               int64  \n",
      " 57   ECE Flag Count               int64  \n",
      " 58   Down/Up Ratio                float64\n",
      " 59   Average Packet Size          float64\n",
      " 60   Avg Fwd Segment Size         float64\n",
      " 61   Avg Bwd Segment Size         float64\n",
      " 62   Fwd Header Length.1          int64  \n",
      " 63  Fwd Avg Bytes/Bulk            int64  \n",
      " 64   Fwd Avg Packets/Bulk         int64  \n",
      " 65   Fwd Avg Bulk Rate            int64  \n",
      " 66   Bwd Avg Bytes/Bulk           int64  \n",
      " 67   Bwd Avg Packets/Bulk         int64  \n",
      " 68  Bwd Avg Bulk Rate             int64  \n",
      " 69  Subflow Fwd Packets           int64  \n",
      " 70   Subflow Fwd Bytes            int64  \n",
      " 71   Subflow Bwd Packets          int64  \n",
      " 72   Subflow Bwd Bytes            int64  \n",
      " 73  Init_Win_bytes_forward        int64  \n",
      " 74   Init_Win_bytes_backward      int64  \n",
      " 75   act_data_pkt_fwd             int64  \n",
      " 76   min_seg_size_forward         int64  \n",
      " 77  Active Mean                   float64\n",
      " 78   Active Std                   float64\n",
      " 79   Active Max                   float64\n",
      " 80   Active Min                   float64\n",
      " 81  Idle Mean                     float64\n",
      " 82   Idle Std                     float64\n",
      " 83   Idle Max                     float64\n",
      " 84   Idle Min                     float64\n",
      " 85  SimillarHTTP                  object \n",
      " 86   Inbound                      int64  \n",
      " 87   Label                        object \n",
      "dtypes: float64(45), int64(37), object(6)\n",
      "memory usage: 1.4+ GB\n"
     ]
    }
   ],
   "source": [
    "ddos_ldap_2019_df.info()"
   ]
  },
  {
   "cell_type": "code",
   "execution_count": 75,
   "metadata": {},
   "outputs": [
    {
     "data": {
      "text/plain": [
       "LDAP       1905191\n",
       "NetBIOS     202919\n",
       "BENIGN        5124\n",
       "Name:  Label, dtype: int64"
      ]
     },
     "execution_count": 75,
     "metadata": {},
     "output_type": "execute_result"
    }
   ],
   "source": [
    "ddos_ldap_2019_df[' Label'].value_counts()"
   ]
  },
  {
   "cell_type": "code",
   "execution_count": 76,
   "metadata": {},
   "outputs": [],
   "source": [
    "new_ddos_ldap_2019_df = preprocess_ddos_2019(ddos_ldap_2019_df, 'NetBIOS', 300000)"
   ]
  },
  {
   "cell_type": "code",
   "execution_count": 77,
   "metadata": {},
   "outputs": [
    {
     "name": "stdout",
     "output_type": "stream",
     "text": [
      "<class 'pandas.core.frame.DataFrame'>\n",
      "Int64Index: 305124 entries, 1925501 to 649133\n",
      "Data columns (total 87 columns):\n",
      " #   Column                   Non-Null Count   Dtype  \n",
      "---  ------                   --------------   -----  \n",
      " 0   Unnamed:0                305124 non-null  int64  \n",
      " 1   FlowID                   305124 non-null  int32  \n",
      " 2   SourceIP                 305124 non-null  int32  \n",
      " 3   SourcePort               305124 non-null  int64  \n",
      " 4   DestinationIP            305124 non-null  int32  \n",
      " 5   DestinationPort          305124 non-null  int64  \n",
      " 6   Protocol                 305124 non-null  int64  \n",
      " 7   FlowDuration             305124 non-null  int64  \n",
      " 8   TotalFwdPackets          305124 non-null  int64  \n",
      " 9   TotalBackwardPackets     305124 non-null  int64  \n",
      " 10  TotalLengthofFwdPackets  305124 non-null  float64\n",
      " 11  TotalLengthofBwdPackets  305124 non-null  float64\n",
      " 12  FwdPacketLengthMax       305124 non-null  float64\n",
      " 13  FwdPacketLengthMin       305124 non-null  float64\n",
      " 14  FwdPacketLengthMean      305124 non-null  float64\n",
      " 15  FwdPacketLengthStd       305124 non-null  float64\n",
      " 16  BwdPacketLengthMax       305124 non-null  float64\n",
      " 17  BwdPacketLengthMin       305124 non-null  float64\n",
      " 18  BwdPacketLengthMean      305124 non-null  float64\n",
      " 19  BwdPacketLengthStd       305124 non-null  float64\n",
      " 20  FlowBytes/s              305111 non-null  float64\n",
      " 21  FlowPackets/s            305124 non-null  float64\n",
      " 22  FlowIATMean              305124 non-null  float64\n",
      " 23  FlowIATStd               305124 non-null  float64\n",
      " 24  FlowIATMax               305124 non-null  float64\n",
      " 25  FlowIATMin               305124 non-null  float64\n",
      " 26  FwdIATTotal              305124 non-null  float64\n",
      " 27  FwdIATMean               305124 non-null  float64\n",
      " 28  FwdIATStd                305124 non-null  float64\n",
      " 29  FwdIATMax                305124 non-null  float64\n",
      " 30  FwdIATMin                305124 non-null  float64\n",
      " 31  BwdIATTotal              305124 non-null  float64\n",
      " 32  BwdIATMean               305124 non-null  float64\n",
      " 33  BwdIATStd                305124 non-null  float64\n",
      " 34  BwdIATMax                305124 non-null  float64\n",
      " 35  BwdIATMin                305124 non-null  float64\n",
      " 36  FwdPSHFlags              305124 non-null  int64  \n",
      " 37  BwdPSHFlags              305124 non-null  int64  \n",
      " 38  FwdURGFlags              305124 non-null  int64  \n",
      " 39  BwdURGFlags              305124 non-null  int64  \n",
      " 40  FwdHeaderLength          305124 non-null  int64  \n",
      " 41  BwdHeaderLength          305124 non-null  int64  \n",
      " 42  FwdPackets/s             305124 non-null  float64\n",
      " 43  BwdPackets/s             305124 non-null  float64\n",
      " 44  MinPacketLength          305124 non-null  float64\n",
      " 45  MaxPacketLength          305124 non-null  float64\n",
      " 46  PacketLengthMean         305124 non-null  float64\n",
      " 47  PacketLengthStd          305124 non-null  float64\n",
      " 48  PacketLengthVariance     305124 non-null  float64\n",
      " 49  FINFlagCount             305124 non-null  int64  \n",
      " 50  SYNFlagCount             305124 non-null  int64  \n",
      " 51  RSTFlagCount             305124 non-null  int64  \n",
      " 52  PSHFlagCount             305124 non-null  int64  \n",
      " 53  ACKFlagCount             305124 non-null  int64  \n",
      " 54  URGFlagCount             305124 non-null  int64  \n",
      " 55  CWEFlagCount             305124 non-null  int64  \n",
      " 56  ECEFlagCount             305124 non-null  int64  \n",
      " 57  Down/UpRatio             305124 non-null  float64\n",
      " 58  AveragePacketSize        305124 non-null  float64\n",
      " 59  AvgFwdSegmentSize        305124 non-null  float64\n",
      " 60  AvgBwdSegmentSize        305124 non-null  float64\n",
      " 61  FwdHeaderLength.1        305124 non-null  int64  \n",
      " 62  FwdAvgBytes/Bulk         305124 non-null  int64  \n",
      " 63  FwdAvgPackets/Bulk       305124 non-null  int64  \n",
      " 64  FwdAvgBulkRate           305124 non-null  int64  \n",
      " 65  BwdAvgBytes/Bulk         305124 non-null  int64  \n",
      " 66  BwdAvgPackets/Bulk       305124 non-null  int64  \n",
      " 67  BwdAvgBulkRate           305124 non-null  int64  \n",
      " 68  SubflowFwdPackets        305124 non-null  int64  \n",
      " 69  SubflowFwdBytes          305124 non-null  int64  \n",
      " 70  SubflowBwdPackets        305124 non-null  int64  \n",
      " 71  SubflowBwdBytes          305124 non-null  int64  \n",
      " 72  Init_Win_bytes_forward   305124 non-null  int64  \n",
      " 73  Init_Win_bytes_backward  305124 non-null  int64  \n",
      " 74  act_data_pkt_fwd         305124 non-null  int64  \n",
      " 75  min_seg_size_forward     305124 non-null  int64  \n",
      " 76  ActiveMean               305124 non-null  float64\n",
      " 77  ActiveStd                305124 non-null  float64\n",
      " 78  ActiveMax                305124 non-null  float64\n",
      " 79  ActiveMin                305124 non-null  float64\n",
      " 80  IdleMean                 305124 non-null  float64\n",
      " 81  IdleStd                  305124 non-null  float64\n",
      " 82  IdleMax                  305124 non-null  float64\n",
      " 83  IdleMin                  305124 non-null  float64\n",
      " 84  SimillarHTTP             305124 non-null  int32  \n",
      " 85  Inbound                  305124 non-null  int64  \n",
      " 86  Label                    305124 non-null  int32  \n",
      "dtypes: float64(45), int32(5), int64(37)\n",
      "memory usage: 199.0 MB\n"
     ]
    }
   ],
   "source": [
    "new_ddos_ldap_2019_df.info()"
   ]
  },
  {
   "cell_type": "code",
   "execution_count": 78,
   "metadata": {},
   "outputs": [
    {
     "data": {
      "text/plain": [
       "1    300000\n",
       "0      5124\n",
       "Name: Label, dtype: int64"
      ]
     },
     "execution_count": 78,
     "metadata": {},
     "output_type": "execute_result"
    }
   ],
   "source": [
    "new_ddos_ldap_2019_df['Label'].value_counts()"
   ]
  },
  {
   "cell_type": "code",
   "execution_count": 79,
   "metadata": {},
   "outputs": [],
   "source": [
    "new_ddos_ldap_2019_df.to_csv(\"../data/processed/CIC_DDoS2019/ddos_ldap_2019.csv\")"
   ]
  },
  {
   "cell_type": "markdown",
   "metadata": {},
   "source": [
    "## 3.3 NETBIOS_2019 Dataset"
   ]
  },
  {
   "cell_type": "code",
   "execution_count": 80,
   "metadata": {},
   "outputs": [
    {
     "data": {
      "text/plain": [
       "DrDoS_NetBIOS    4093279\n",
       "BENIGN              1707\n",
       "Name:  Label, dtype: int64"
      ]
     },
     "execution_count": 80,
     "metadata": {},
     "output_type": "execute_result"
    }
   ],
   "source": [
    "ddos_netbios_2019_df[' Label'].value_counts()"
   ]
  },
  {
   "cell_type": "code",
   "execution_count": 82,
   "metadata": {},
   "outputs": [],
   "source": [
    "new_ddos_netbios_2019_df = preprocess_ddos_2019(ddos_netbios_2019_df, None, 300000)"
   ]
  },
  {
   "cell_type": "code",
   "execution_count": 83,
   "metadata": {},
   "outputs": [
    {
     "data": {
      "text/plain": [
       "1    300000\n",
       "0      1707\n",
       "Name: Label, dtype: int64"
      ]
     },
     "execution_count": 83,
     "metadata": {},
     "output_type": "execute_result"
    }
   ],
   "source": [
    "new_ddos_netbios_2019_df['Label'].value_counts()"
   ]
  },
  {
   "cell_type": "code",
   "execution_count": 84,
   "metadata": {},
   "outputs": [],
   "source": [
    "new_ddos_netbios_2019_df.to_csv(\"../data/processed/CIC_DDoS2019/ddos_netbios_2019.csv\")"
   ]
  },
  {
   "cell_type": "markdown",
   "metadata": {},
   "source": [
    "## 3.4 UDP_2019 Dataset"
   ]
  },
  {
   "cell_type": "code",
   "execution_count": 85,
   "metadata": {},
   "outputs": [
    {
     "data": {
      "text/plain": [
       "UDP       3754680\n",
       "MSSQL       24392\n",
       "BENIGN       3134\n",
       "Name:  Label, dtype: int64"
      ]
     },
     "execution_count": 85,
     "metadata": {},
     "output_type": "execute_result"
    }
   ],
   "source": [
    "ddos_udp_2019_df[' Label'].value_counts()"
   ]
  },
  {
   "cell_type": "code",
   "execution_count": 86,
   "metadata": {},
   "outputs": [
    {
     "data": {
      "text/plain": [
       "1    3134\n",
       "0    3134\n",
       "Name: Label, dtype: int64"
      ]
     },
     "execution_count": 86,
     "metadata": {},
     "output_type": "execute_result"
    }
   ],
   "source": [
    "new_ddos_udp_2019_df = preprocess_ddos_2019(ddos_udp_2019_df, None, 3134)\n",
    "new_ddos_udp_2019_df['Label'].value_counts()"
   ]
  },
  {
   "cell_type": "code",
   "execution_count": 87,
   "metadata": {},
   "outputs": [],
   "source": [
    "new_ddos_udp_2019_df.to_csv(\"../data/processed/CIC_DDoS2019/ddos_udp_2019.csv\")"
   ]
  },
  {
   "cell_type": "markdown",
   "metadata": {},
   "source": [
    "## 3.5 SYN_2019 Dataset"
   ]
  },
  {
   "cell_type": "code",
   "execution_count": 92,
   "metadata": {},
   "outputs": [
    {
     "data": {
      "text/plain": [
       "Syn       1582289\n",
       "BENIGN        392\n",
       "Name:  Label, dtype: int64"
      ]
     },
     "execution_count": 92,
     "metadata": {},
     "output_type": "execute_result"
    }
   ],
   "source": [
    "ddos_syn_2019_df[' Label'].value_counts()"
   ]
  },
  {
   "cell_type": "code",
   "execution_count": 94,
   "metadata": {},
   "outputs": [
    {
     "data": {
      "text/plain": [
       "1    100000\n",
       "0       392\n",
       "Name: Label, dtype: int64"
      ]
     },
     "execution_count": 94,
     "metadata": {},
     "output_type": "execute_result"
    }
   ],
   "source": [
    "new_ddos_syn_2019_df = preprocess_ddos_2019(ddos_syn_2019_df, None, 100000)\n",
    "new_ddos_syn_2019_df['Label'].value_counts()"
   ]
  },
  {
   "cell_type": "code",
   "execution_count": 95,
   "metadata": {},
   "outputs": [],
   "source": [
    "new_ddos_syn_2019_df.to_csv(\"../data/processed/CIC_DDoS2019/ddos_syn_2019.csv\")"
   ]
  },
  {
   "cell_type": "code",
   "execution_count": null,
   "metadata": {},
   "outputs": [],
   "source": [
    "# DONE"
   ]
  }
 ],
 "metadata": {
  "kernelspec": {
   "display_name": "Python 3",
   "language": "python",
   "name": "python3"
  },
  "language_info": {
   "codemirror_mode": {
    "name": "ipython",
    "version": 3
   },
   "file_extension": ".py",
   "mimetype": "text/x-python",
   "name": "python",
   "nbconvert_exporter": "python",
   "pygments_lexer": "ipython3",
   "version": "3.8.5"
  }
 },
 "nbformat": 4,
 "nbformat_minor": 4
}
