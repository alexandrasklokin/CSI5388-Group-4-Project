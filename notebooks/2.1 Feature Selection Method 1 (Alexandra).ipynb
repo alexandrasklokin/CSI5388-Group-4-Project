{
 "cells": [
  {
   "cell_type": "markdown",
   "metadata": {},
   "source": [
    "# 1. Imports"
   ]
  },
  {
   "cell_type": "code",
   "execution_count": 1,
   "metadata": {},
   "outputs": [],
   "source": [
    "import pandas as pd\n",
    "from sklearn import preprocessing\n",
    "import numpy as np\n",
    "from sklearn.feature_selection import VarianceThreshold"
   ]
  },
  {
   "cell_type": "markdown",
   "metadata": {},
   "source": [
    "# 2. Importing the Datasets"
   ]
  },
  {
   "cell_type": "code",
   "execution_count": 2,
   "metadata": {},
   "outputs": [],
   "source": [
    "ddos_portmap_2018_df = pd.read_csv(\"../data/train_test/CSE_CIC_IDS2018/ddos_portmap_2018_train.csv\", index_col=0)"
   ]
  },
  {
   "cell_type": "code",
   "execution_count": null,
   "metadata": {},
   "outputs": [],
   "source": [
    "ddos_ldap_2019_df = pd.read_csv(\"../data/train_test/CIC_DDoS2019/ddos_ldap_2019_train.csv\")"
   ]
  },
  {
   "cell_type": "code",
   "execution_count": null,
   "metadata": {},
   "outputs": [],
   "source": [
    "ddos_netbios_2019_df = pd.read_csv(\"../data/train_test/CIC_DDoS2019/ddos_netbios_2019_train.csv\")"
   ]
  },
  {
   "cell_type": "code",
   "execution_count": null,
   "metadata": {},
   "outputs": [],
   "source": [
    "ddos_syn_2019_df = pd.read_csv(\"../data/train_test/CIC_DDoS2019/ddos_syn_2019_train.csv\")"
   ]
  },
  {
   "cell_type": "code",
   "execution_count": null,
   "metadata": {},
   "outputs": [],
   "source": [
    "ddos_udp_2019_df = pd.read_csv(\"../data/train_test/CIC_DDoS2019/ddos_udp_2019_train.csv\")"
   ]
  },
  {
   "cell_type": "code",
   "execution_count": 6,
   "metadata": {},
   "outputs": [],
   "source": [
    "target_feature = 'Label'"
   ]
  },
  {
   "cell_type": "markdown",
   "metadata": {},
   "source": [
    "# 3. Feature Selection Method 1 - Variance Threshold"
   ]
  },
  {
   "cell_type": "code",
   "execution_count": 33,
   "metadata": {},
   "outputs": [],
   "source": [
    "# Investigating the Variance Threshold Behavior\n",
    "\n",
    "def VarianceThreshold_Helper(X_train, threshold):\n",
    "    \n",
    "    new_X_train = X_train.copy()\n",
    "\n",
    "    constant_filter = VarianceThreshold(threshold= threshold)\n",
    "    constant_filter.fit(new_X_train)\n",
    "\n",
    "    len(new_X_train.columns[constant_filter.get_support()])\n",
    "\n",
    "    constant_columns = [column for column in new_X_train.columns\n",
    "                        if column not in new_X_train.columns[constant_filter.get_support()]]\n",
    "\n",
    "    new_X_train.drop(labels=constant_columns, axis=1, inplace=True)\n",
    "    \n",
    "    return new_X_train.columns.tolist()"
   ]
  },
  {
   "cell_type": "code",
   "execution_count": 34,
   "metadata": {},
   "outputs": [],
   "source": [
    "X_train_portmap = ddos_portmap_2018_df.drop([target_feature], axis=1)\n",
    "y_train_portmap = ddos_portmap_2018_df[target_feature]"
   ]
  },
  {
   "cell_type": "code",
   "execution_count": 35,
   "metadata": {},
   "outputs": [
    {
     "data": {
      "text/plain": [
       "Index(['DestinationPort', 'FlowDuration', 'TotalFwdPackets',\n",
       "       'TotalBackwardPackets', 'TotalLengthofFwdPackets',\n",
       "       'TotalLengthofBwdPackets', 'FwdPacketLengthMax', 'FwdPacketLengthMin',\n",
       "       'FwdPacketLengthMean', 'FwdPacketLengthStd', 'BwdPacketLengthMax',\n",
       "       'BwdPacketLengthMin', 'BwdPacketLengthMean', 'BwdPacketLengthStd',\n",
       "       'FlowBytes/s', 'FlowPackets/s', 'FlowIATMean', 'FlowIATStd',\n",
       "       'FlowIATMax', 'FlowIATMin', 'FwdIATTotal', 'FwdIATMean', 'FwdIATStd',\n",
       "       'FwdIATMax', 'FwdIATMin', 'BwdIATTotal', 'BwdIATMean', 'BwdIATStd',\n",
       "       'BwdIATMax', 'BwdIATMin', 'FwdPSHFlags', 'BwdPSHFlags', 'FwdURGFlags',\n",
       "       'BwdURGFlags', 'FwdHeaderLength', 'BwdHeaderLength', 'FwdPackets/s',\n",
       "       'BwdPackets/s', 'MinPacketLength', 'MaxPacketLength',\n",
       "       'PacketLengthMean', 'PacketLengthStd', 'PacketLengthVariance',\n",
       "       'FINFlagCount', 'SYNFlagCount', 'RSTFlagCount', 'PSHFlagCount',\n",
       "       'ACKFlagCount', 'URGFlagCount', 'CWEFlagCount', 'ECEFlagCount',\n",
       "       'Down/UpRatio', 'AveragePacketSize', 'AvgFwdSegmentSize',\n",
       "       'AvgBwdSegmentSize', 'FwdHeaderLength.1', 'FwdAvgBytes/Bulk',\n",
       "       'FwdAvgPackets/Bulk', 'FwdAvgBulkRate', 'BwdAvgBytes/Bulk',\n",
       "       'BwdAvgPackets/Bulk', 'BwdAvgBulkRate', 'SubflowFwdPackets',\n",
       "       'SubflowFwdBytes', 'SubflowBwdPackets', 'SubflowBwdBytes',\n",
       "       'Init_Win_bytes_forward', 'Init_Win_bytes_backward', 'act_data_pkt_fwd',\n",
       "       'min_seg_size_forward', 'ActiveMean', 'ActiveStd', 'ActiveMax',\n",
       "       'ActiveMin', 'IdleMean', 'IdleStd', 'IdleMax', 'IdleMin'],\n",
       "      dtype='object')"
      ]
     },
     "execution_count": 35,
     "metadata": {},
     "output_type": "execute_result"
    }
   ],
   "source": [
    "X_train_portmap.columns"
   ]
  },
  {
   "cell_type": "code",
   "execution_count": 37,
   "metadata": {},
   "outputs": [
    {
     "name": "stdout",
     "output_type": "stream",
     "text": [
      "Variance Threshold 1e-05: . Features: (68) ['DestinationPort', 'FlowDuration', 'TotalFwdPackets', 'TotalBackwardPackets', 'TotalLengthofFwdPackets', 'TotalLengthofBwdPackets', 'FwdPacketLengthMax', 'FwdPacketLengthMin', 'FwdPacketLengthMean', 'FwdPacketLengthStd', 'BwdPacketLengthMax', 'BwdPacketLengthMin', 'BwdPacketLengthMean', 'BwdPacketLengthStd', 'FlowBytes/s', 'FlowPackets/s', 'FlowIATMean', 'FlowIATStd', 'FlowIATMax', 'FlowIATMin', 'FwdIATTotal', 'FwdIATMean', 'FwdIATStd', 'FwdIATMax', 'FwdIATMin', 'BwdIATTotal', 'BwdIATMean', 'BwdIATStd', 'BwdIATMax', 'BwdIATMin', 'FwdPSHFlags', 'FwdHeaderLength', 'BwdHeaderLength', 'FwdPackets/s', 'BwdPackets/s', 'MinPacketLength', 'MaxPacketLength', 'PacketLengthMean', 'PacketLengthStd', 'PacketLengthVariance', 'FINFlagCount', 'SYNFlagCount', 'RSTFlagCount', 'PSHFlagCount', 'ACKFlagCount', 'URGFlagCount', 'ECEFlagCount', 'Down/UpRatio', 'AveragePacketSize', 'AvgFwdSegmentSize', 'AvgBwdSegmentSize', 'FwdHeaderLength.1', 'SubflowFwdPackets', 'SubflowFwdBytes', 'SubflowBwdPackets', 'SubflowBwdBytes', 'Init_Win_bytes_forward', 'Init_Win_bytes_backward', 'act_data_pkt_fwd', 'min_seg_size_forward', 'ActiveMean', 'ActiveStd', 'ActiveMax', 'ActiveMin', 'IdleMean', 'IdleStd', 'IdleMax', 'IdleMin']\n",
      "_______________________________________________________________________________\n",
      "Variance Threshold 0.0001: . Features: (51) ['DestinationPort', 'FlowDuration', 'TotalLengthofFwdPackets', 'FwdPacketLengthMax', 'FwdPacketLengthMin', 'FwdPacketLengthMean', 'FwdPacketLengthStd', 'BwdPacketLengthMax', 'BwdPacketLengthMin', 'BwdPacketLengthMean', 'BwdPacketLengthStd', 'FlowPackets/s', 'FlowIATMean', 'FlowIATStd', 'FlowIATMax', 'FwdIATTotal', 'FwdIATMean', 'FwdIATStd', 'FwdIATMax', 'FwdIATMin', 'BwdIATTotal', 'BwdIATMean', 'BwdIATStd', 'BwdIATMax', 'BwdIATMin', 'FwdPSHFlags', 'FwdPackets/s', 'MinPacketLength', 'MaxPacketLength', 'PacketLengthMean', 'PacketLengthStd', 'PacketLengthVariance', 'FINFlagCount', 'SYNFlagCount', 'RSTFlagCount', 'PSHFlagCount', 'ACKFlagCount', 'URGFlagCount', 'ECEFlagCount', 'Down/UpRatio', 'AveragePacketSize', 'AvgFwdSegmentSize', 'AvgBwdSegmentSize', 'SubflowFwdBytes', 'Init_Win_bytes_forward', 'Init_Win_bytes_backward', 'min_seg_size_forward', 'IdleMean', 'IdleStd', 'IdleMax', 'IdleMin']\n",
      "_______________________________________________________________________________\n",
      "Variance Threshold 0.001: . Features: (44) ['DestinationPort', 'FlowDuration', 'FwdPacketLengthMax', 'FwdPacketLengthMin', 'FwdPacketLengthMean', 'FwdPacketLengthStd', 'BwdPacketLengthMax', 'BwdPacketLengthMin', 'BwdPacketLengthMean', 'BwdPacketLengthStd', 'FlowIATStd', 'FlowIATMax', 'FwdIATTotal', 'FwdIATMean', 'FwdIATStd', 'FwdIATMax', 'BwdIATTotal', 'BwdIATMean', 'BwdIATStd', 'BwdIATMax', 'BwdIATMin', 'FwdPSHFlags', 'FwdPackets/s', 'MinPacketLength', 'MaxPacketLength', 'PacketLengthMean', 'PacketLengthStd', 'PacketLengthVariance', 'FINFlagCount', 'SYNFlagCount', 'PSHFlagCount', 'ACKFlagCount', 'URGFlagCount', 'Down/UpRatio', 'AveragePacketSize', 'AvgFwdSegmentSize', 'AvgBwdSegmentSize', 'Init_Win_bytes_forward', 'Init_Win_bytes_backward', 'min_seg_size_forward', 'IdleMean', 'IdleStd', 'IdleMax', 'IdleMin']\n",
      "_______________________________________________________________________________\n",
      "Variance Threshold 0.01: . Features: (34) ['DestinationPort', 'FlowDuration', 'FwdPacketLengthMax', 'FwdPacketLengthMin', 'FwdPacketLengthMean', 'FwdPacketLengthStd', 'BwdPacketLengthMax', 'BwdPacketLengthMean', 'BwdPacketLengthStd', 'FlowIATStd', 'FlowIATMax', 'FwdIATTotal', 'FwdIATStd', 'FwdIATMax', 'BwdIATTotal', 'BwdIATMax', 'FwdPSHFlags', 'MaxPacketLength', 'PacketLengthMean', 'PacketLengthStd', 'PacketLengthVariance', 'SYNFlagCount', 'PSHFlagCount', 'ACKFlagCount', 'URGFlagCount', 'Down/UpRatio', 'AveragePacketSize', 'AvgFwdSegmentSize', 'AvgBwdSegmentSize', 'Init_Win_bytes_forward', 'IdleMean', 'IdleStd', 'IdleMax', 'IdleMin']\n",
      "_______________________________________________________________________________\n",
      "Variance Threshold 0.02: . Features: (26) ['DestinationPort', 'FlowDuration', 'FwdPacketLengthMax', 'BwdPacketLengthMax', 'BwdPacketLengthMean', 'BwdPacketLengthStd', 'FlowIATMax', 'FwdIATTotal', 'FwdIATMax', 'BwdIATTotal', 'FwdPSHFlags', 'MaxPacketLength', 'PacketLengthMean', 'PacketLengthStd', 'PacketLengthVariance', 'SYNFlagCount', 'PSHFlagCount', 'ACKFlagCount', 'URGFlagCount', 'Down/UpRatio', 'AveragePacketSize', 'AvgBwdSegmentSize', 'IdleMean', 'IdleStd', 'IdleMax', 'IdleMin']\n",
      "_______________________________________________________________________________\n",
      "Variance Threshold 0.05: . Features: (13) ['DestinationPort', 'FlowDuration', 'BwdPacketLengthMax', 'FwdIATTotal', 'FwdIATMax', 'MaxPacketLength', 'PacketLengthMean', 'PacketLengthStd', 'PSHFlagCount', 'ACKFlagCount', 'URGFlagCount', 'AveragePacketSize', 'IdleMax']\n",
      "_______________________________________________________________________________\n",
      "Variance Threshold 0.1: . Features: (5) ['BwdPacketLengthMax', 'MaxPacketLength', 'PSHFlagCount', 'ACKFlagCount', 'URGFlagCount']\n",
      "_______________________________________________________________________________\n",
      "Variance Threshold 0.2: . Features: (2) ['PSHFlagCount', 'ACKFlagCount']\n",
      "_______________________________________________________________________________\n"
     ]
    },
    {
     "ename": "ValueError",
     "evalue": "No feature in X meets the variance threshold 0.30000",
     "output_type": "error",
     "traceback": [
      "\u001b[1;31m---------------------------------------------------------------------------\u001b[0m",
      "\u001b[1;31mValueError\u001b[0m                                Traceback (most recent call last)",
      "\u001b[1;32m<ipython-input-37-5f6825f675a7>\u001b[0m in \u001b[0;36m<module>\u001b[1;34m\u001b[0m\n\u001b[0;32m      1\u001b[0m \u001b[1;32mfor\u001b[0m \u001b[0mt\u001b[0m \u001b[1;32min\u001b[0m \u001b[1;33m[\u001b[0m\u001b[1;36m0.00001\u001b[0m\u001b[1;33m,\u001b[0m \u001b[1;36m0.0001\u001b[0m\u001b[1;33m,\u001b[0m \u001b[1;36m0.001\u001b[0m\u001b[1;33m,\u001b[0m \u001b[1;36m0.01\u001b[0m\u001b[1;33m,\u001b[0m \u001b[1;36m0.02\u001b[0m\u001b[1;33m,\u001b[0m \u001b[1;36m0.05\u001b[0m\u001b[1;33m,\u001b[0m \u001b[1;36m0.1\u001b[0m\u001b[1;33m,\u001b[0m \u001b[1;36m0.2\u001b[0m\u001b[1;33m,\u001b[0m \u001b[1;36m0.3\u001b[0m\u001b[1;33m]\u001b[0m\u001b[1;33m:\u001b[0m\u001b[1;33m\u001b[0m\u001b[1;33m\u001b[0m\u001b[0m\n\u001b[1;32m----> 2\u001b[1;33m     \u001b[0mfeatures\u001b[0m \u001b[1;33m=\u001b[0m \u001b[0mVarianceThreshold_Helper\u001b[0m\u001b[1;33m(\u001b[0m\u001b[0mX_train\u001b[0m \u001b[1;33m=\u001b[0m \u001b[0mX_train_portmap\u001b[0m\u001b[1;33m,\u001b[0m \u001b[0mthreshold\u001b[0m \u001b[1;33m=\u001b[0m \u001b[0mt\u001b[0m\u001b[1;33m)\u001b[0m\u001b[1;33m\u001b[0m\u001b[1;33m\u001b[0m\u001b[0m\n\u001b[0m\u001b[0;32m      3\u001b[0m     \u001b[0mprint\u001b[0m\u001b[1;33m(\u001b[0m\u001b[1;34m\"Variance Threshold \"\u001b[0m\u001b[1;33m+\u001b[0m\u001b[0mstr\u001b[0m\u001b[1;33m(\u001b[0m\u001b[0mt\u001b[0m\u001b[1;33m)\u001b[0m\u001b[1;33m+\u001b[0m\u001b[1;34m\": \"\u001b[0m\u001b[1;33m+\u001b[0m\u001b[1;34m\". Features: (\"\u001b[0m\u001b[1;33m+\u001b[0m\u001b[0mstr\u001b[0m\u001b[1;33m(\u001b[0m\u001b[0mlen\u001b[0m\u001b[1;33m(\u001b[0m\u001b[0mfeatures\u001b[0m\u001b[1;33m)\u001b[0m\u001b[1;33m)\u001b[0m\u001b[1;33m+\u001b[0m\u001b[1;34m\") \"\u001b[0m\u001b[1;33m+\u001b[0m\u001b[0mstr\u001b[0m\u001b[1;33m(\u001b[0m\u001b[0mfeatures\u001b[0m\u001b[1;33m)\u001b[0m\u001b[1;33m)\u001b[0m\u001b[1;33m\u001b[0m\u001b[1;33m\u001b[0m\u001b[0m\n\u001b[0;32m      4\u001b[0m     \u001b[0mprint\u001b[0m\u001b[1;33m(\u001b[0m\u001b[1;34m\"_______________________________________________________________________________\"\u001b[0m\u001b[1;33m)\u001b[0m\u001b[1;33m\u001b[0m\u001b[1;33m\u001b[0m\u001b[0m\n",
      "\u001b[1;32m<ipython-input-33-086b9d7ea596>\u001b[0m in \u001b[0;36mVarianceThreshold_Helper\u001b[1;34m(X_train, threshold)\u001b[0m\n\u001b[0;32m      6\u001b[0m \u001b[1;33m\u001b[0m\u001b[0m\n\u001b[0;32m      7\u001b[0m     \u001b[0mconstant_filter\u001b[0m \u001b[1;33m=\u001b[0m \u001b[0mVarianceThreshold\u001b[0m\u001b[1;33m(\u001b[0m\u001b[0mthreshold\u001b[0m\u001b[1;33m=\u001b[0m \u001b[0mthreshold\u001b[0m\u001b[1;33m)\u001b[0m\u001b[1;33m\u001b[0m\u001b[1;33m\u001b[0m\u001b[0m\n\u001b[1;32m----> 8\u001b[1;33m     \u001b[0mconstant_filter\u001b[0m\u001b[1;33m.\u001b[0m\u001b[0mfit\u001b[0m\u001b[1;33m(\u001b[0m\u001b[0mnew_X_train\u001b[0m\u001b[1;33m)\u001b[0m\u001b[1;33m\u001b[0m\u001b[1;33m\u001b[0m\u001b[0m\n\u001b[0m\u001b[0;32m      9\u001b[0m \u001b[1;33m\u001b[0m\u001b[0m\n\u001b[0;32m     10\u001b[0m     \u001b[0mlen\u001b[0m\u001b[1;33m(\u001b[0m\u001b[0mnew_X_train\u001b[0m\u001b[1;33m.\u001b[0m\u001b[0mcolumns\u001b[0m\u001b[1;33m[\u001b[0m\u001b[0mconstant_filter\u001b[0m\u001b[1;33m.\u001b[0m\u001b[0mget_support\u001b[0m\u001b[1;33m(\u001b[0m\u001b[1;33m)\u001b[0m\u001b[1;33m]\u001b[0m\u001b[1;33m)\u001b[0m\u001b[1;33m\u001b[0m\u001b[1;33m\u001b[0m\u001b[0m\n",
      "\u001b[1;32mc:\\users\\alexa\\appdata\\local\\programs\\python\\python38\\lib\\site-packages\\sklearn\\base.py\u001b[0m in \u001b[0;36mwrapper\u001b[1;34m(estimator, *args, **kwargs)\u001b[0m\n\u001b[0;32m   1150\u001b[0m                 )\n\u001b[0;32m   1151\u001b[0m             ):\n\u001b[1;32m-> 1152\u001b[1;33m                 \u001b[1;32mreturn\u001b[0m \u001b[0mfit_method\u001b[0m\u001b[1;33m(\u001b[0m\u001b[0mestimator\u001b[0m\u001b[1;33m,\u001b[0m \u001b[1;33m*\u001b[0m\u001b[0margs\u001b[0m\u001b[1;33m,\u001b[0m \u001b[1;33m**\u001b[0m\u001b[0mkwargs\u001b[0m\u001b[1;33m)\u001b[0m\u001b[1;33m\u001b[0m\u001b[1;33m\u001b[0m\u001b[0m\n\u001b[0m\u001b[0;32m   1153\u001b[0m \u001b[1;33m\u001b[0m\u001b[0m\n\u001b[0;32m   1154\u001b[0m         \u001b[1;32mreturn\u001b[0m \u001b[0mwrapper\u001b[0m\u001b[1;33m\u001b[0m\u001b[1;33m\u001b[0m\u001b[0m\n",
      "\u001b[1;32mc:\\users\\alexa\\appdata\\local\\programs\\python\\python38\\lib\\site-packages\\sklearn\\feature_selection\\_variance_threshold.py\u001b[0m in \u001b[0;36mfit\u001b[1;34m(self, X, y)\u001b[0m\n\u001b[0;32m    124\u001b[0m             \u001b[1;32mif\u001b[0m \u001b[0mX\u001b[0m\u001b[1;33m.\u001b[0m\u001b[0mshape\u001b[0m\u001b[1;33m[\u001b[0m\u001b[1;36m0\u001b[0m\u001b[1;33m]\u001b[0m \u001b[1;33m==\u001b[0m \u001b[1;36m1\u001b[0m\u001b[1;33m:\u001b[0m\u001b[1;33m\u001b[0m\u001b[1;33m\u001b[0m\u001b[0m\n\u001b[0;32m    125\u001b[0m                 \u001b[0mmsg\u001b[0m \u001b[1;33m+=\u001b[0m \u001b[1;34m\" (X contains only one sample)\"\u001b[0m\u001b[1;33m\u001b[0m\u001b[1;33m\u001b[0m\u001b[0m\n\u001b[1;32m--> 126\u001b[1;33m             \u001b[1;32mraise\u001b[0m \u001b[0mValueError\u001b[0m\u001b[1;33m(\u001b[0m\u001b[0mmsg\u001b[0m\u001b[1;33m.\u001b[0m\u001b[0mformat\u001b[0m\u001b[1;33m(\u001b[0m\u001b[0mself\u001b[0m\u001b[1;33m.\u001b[0m\u001b[0mthreshold\u001b[0m\u001b[1;33m)\u001b[0m\u001b[1;33m)\u001b[0m\u001b[1;33m\u001b[0m\u001b[1;33m\u001b[0m\u001b[0m\n\u001b[0m\u001b[0;32m    127\u001b[0m \u001b[1;33m\u001b[0m\u001b[0m\n\u001b[0;32m    128\u001b[0m         \u001b[1;32mreturn\u001b[0m \u001b[0mself\u001b[0m\u001b[1;33m\u001b[0m\u001b[1;33m\u001b[0m\u001b[0m\n",
      "\u001b[1;31mValueError\u001b[0m: No feature in X meets the variance threshold 0.30000"
     ]
    }
   ],
   "source": [
    "for t in [0.00001, 0.0001, 0.001, 0.01, 0.02, 0.05, 0.1, 0.2, 0.3]:\n",
    "    features = VarianceThreshold_Helper(X_train = X_train_portmap, threshold = t)\n",
    "    print(\"Variance Threshold \"+str(t)+\": \"+\". Features: (\"+str(len(features))+\") \"+str(features))\n",
    "    print(\"_______________________________________________________________________________\")"
   ]
  },
  {
   "cell_type": "code",
   "execution_count": 45,
   "metadata": {},
   "outputs": [],
   "source": [
    "def stable_VarianceThreshold(train_df, num_splits, threshold):\n",
    "    \n",
    "    selectedFeatures = []\n",
    "    \n",
    "    df_split = np.array_split(train_df, num_splits)\n",
    "    \n",
    "    for small_df in df_split:\n",
    "        X_train = small_df.drop([target_feature], axis=1)\n",
    "        y_train = small_df[target_feature]\n",
    "        \n",
    "        selectedFeatures = selectedFeatures + VarianceThreshold_Helper(X_train, threshold)\n",
    "        \n",
    "    for feature in train_df.columns.tolist():\n",
    "        print(\"Feature: \"+feature+\". Count: \"+str(selectedFeatures.count(feature))+\"/\"+str(num_splits))"
   ]
  },
  {
   "cell_type": "code",
   "execution_count": 48,
   "metadata": {},
   "outputs": [
    {
     "name": "stdout",
     "output_type": "stream",
     "text": [
      "Feature: DestinationPort. Count: 5/5\n",
      "Feature: FlowDuration. Count: 5/5\n",
      "Feature: TotalFwdPackets. Count: 3/5\n",
      "Feature: TotalBackwardPackets. Count: 3/5\n",
      "Feature: TotalLengthofFwdPackets. Count: 5/5\n",
      "Feature: TotalLengthofBwdPackets. Count: 3/5\n",
      "Feature: FwdPacketLengthMax. Count: 5/5\n",
      "Feature: FwdPacketLengthMin. Count: 5/5\n",
      "Feature: FwdPacketLengthMean. Count: 5/5\n",
      "Feature: FwdPacketLengthStd. Count: 5/5\n",
      "Feature: BwdPacketLengthMax. Count: 5/5\n",
      "Feature: BwdPacketLengthMin. Count: 5/5\n",
      "Feature: BwdPacketLengthMean. Count: 5/5\n",
      "Feature: BwdPacketLengthStd. Count: 5/5\n",
      "Feature: FlowBytes/s. Count: 4/5\n",
      "Feature: FlowPackets/s. Count: 5/5\n",
      "Feature: FlowIATMean. Count: 5/5\n",
      "Feature: FlowIATStd. Count: 5/5\n",
      "Feature: FlowIATMax. Count: 5/5\n",
      "Feature: FlowIATMin. Count: 4/5\n",
      "Feature: FwdIATTotal. Count: 5/5\n",
      "Feature: FwdIATMean. Count: 5/5\n",
      "Feature: FwdIATStd. Count: 5/5\n",
      "Feature: FwdIATMax. Count: 5/5\n",
      "Feature: FwdIATMin. Count: 5/5\n",
      "Feature: BwdIATTotal. Count: 5/5\n",
      "Feature: BwdIATMean. Count: 5/5\n",
      "Feature: BwdIATStd. Count: 5/5\n",
      "Feature: BwdIATMax. Count: 5/5\n",
      "Feature: BwdIATMin. Count: 5/5\n",
      "Feature: FwdPSHFlags. Count: 5/5\n",
      "Feature: BwdPSHFlags. Count: 0/5\n",
      "Feature: FwdURGFlags. Count: 0/5\n",
      "Feature: BwdURGFlags. Count: 0/5\n",
      "Feature: FwdHeaderLength. Count: 5/5\n",
      "Feature: BwdHeaderLength. Count: 5/5\n",
      "Feature: FwdPackets/s. Count: 5/5\n",
      "Feature: BwdPackets/s. Count: 5/5\n",
      "Feature: MinPacketLength. Count: 5/5\n",
      "Feature: MaxPacketLength. Count: 5/5\n",
      "Feature: PacketLengthMean. Count: 5/5\n",
      "Feature: PacketLengthStd. Count: 5/5\n",
      "Feature: PacketLengthVariance. Count: 5/5\n",
      "Feature: FINFlagCount. Count: 5/5\n",
      "Feature: SYNFlagCount. Count: 5/5\n",
      "Feature: RSTFlagCount. Count: 5/5\n",
      "Feature: PSHFlagCount. Count: 5/5\n",
      "Feature: ACKFlagCount. Count: 5/5\n",
      "Feature: URGFlagCount. Count: 5/5\n",
      "Feature: CWEFlagCount. Count: 0/5\n",
      "Feature: ECEFlagCount. Count: 5/5\n",
      "Feature: Down/UpRatio. Count: 5/5\n",
      "Feature: AveragePacketSize. Count: 5/5\n",
      "Feature: AvgFwdSegmentSize. Count: 5/5\n",
      "Feature: AvgBwdSegmentSize. Count: 5/5\n",
      "Feature: FwdHeaderLength.1. Count: 5/5\n",
      "Feature: FwdAvgBytes/Bulk. Count: 0/5\n",
      "Feature: FwdAvgPackets/Bulk. Count: 0/5\n",
      "Feature: FwdAvgBulkRate. Count: 0/5\n",
      "Feature: BwdAvgBytes/Bulk. Count: 0/5\n",
      "Feature: BwdAvgPackets/Bulk. Count: 0/5\n",
      "Feature: BwdAvgBulkRate. Count: 0/5\n",
      "Feature: SubflowFwdPackets. Count: 3/5\n",
      "Feature: SubflowFwdBytes. Count: 5/5\n",
      "Feature: SubflowBwdPackets. Count: 3/5\n",
      "Feature: SubflowBwdBytes. Count: 3/5\n",
      "Feature: Init_Win_bytes_forward. Count: 5/5\n",
      "Feature: Init_Win_bytes_backward. Count: 5/5\n",
      "Feature: act_data_pkt_fwd. Count: 2/5\n",
      "Feature: min_seg_size_forward. Count: 5/5\n",
      "Feature: ActiveMean. Count: 5/5\n",
      "Feature: ActiveStd. Count: 1/5\n",
      "Feature: ActiveMax. Count: 5/5\n",
      "Feature: ActiveMin. Count: 5/5\n",
      "Feature: IdleMean. Count: 5/5\n",
      "Feature: IdleStd. Count: 5/5\n",
      "Feature: IdleMax. Count: 5/5\n",
      "Feature: IdleMin. Count: 5/5\n",
      "Feature: Label. Count: 0/5\n"
     ]
    }
   ],
   "source": [
    "portmap_ranking = stable_VarianceThreshold(ddos_portmap_2018_df, 5, 0.00005)"
   ]
  },
  {
   "cell_type": "code",
   "execution_count": null,
   "metadata": {},
   "outputs": [],
   "source": [
    "# Save portmap_ranking in csv"
   ]
  },
  {
   "cell_type": "markdown",
   "metadata": {},
   "source": [
    "# 4. Saving the Ranking"
   ]
  },
  {
   "cell_type": "markdown",
   "metadata": {},
   "source": [
    "CODE TO SAVE A CSV FILE WITH:\n",
    "- 'feature' is a column of all of the features in the original dataset\n",
    "- 'ranking' is a column with the rankings (in range 0 to 1) of the feature"
   ]
  },
  {
   "cell_type": "code",
   "execution_count": null,
   "metadata": {},
   "outputs": [],
   "source": []
  }
 ],
 "metadata": {
  "kernelspec": {
   "display_name": "Python 3",
   "language": "python",
   "name": "python3"
  },
  "language_info": {
   "codemirror_mode": {
    "name": "ipython",
    "version": 3
   },
   "file_extension": ".py",
   "mimetype": "text/x-python",
   "name": "python",
   "nbconvert_exporter": "python",
   "pygments_lexer": "ipython3",
   "version": "3.8.5"
  }
 },
 "nbformat": 4,
 "nbformat_minor": 4
}
