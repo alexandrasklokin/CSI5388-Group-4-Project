{
 "cells": [
  {
   "cell_type": "markdown",
   "metadata": {},
   "source": [
    "# 1. Imports"
   ]
  },
  {
   "cell_type": "code",
   "execution_count": 1,
   "metadata": {},
   "outputs": [],
   "source": [
    "import pandas as pd\n",
    "from sklearn import preprocessing\n",
    "import numpy as np\n",
    "from sklearn.utils import shuffle\n",
    "from sklearn.model_selection import train_test_split"
   ]
  },
  {
   "cell_type": "markdown",
   "metadata": {},
   "source": [
    "# 2. Importing the Datasets"
   ]
  },
  {
   "cell_type": "code",
   "execution_count": 2,
   "metadata": {},
   "outputs": [],
   "source": [
    "ddos_portmap_2018_df = pd.read_csv(\"../data/original/CSE_CIC_IDS2018/ddos_portmap_2018.csv\")"
   ]
  },
  {
   "cell_type": "code",
   "execution_count": 3,
   "metadata": {},
   "outputs": [
    {
     "name": "stderr",
     "output_type": "stream",
     "text": [
      "c:\\users\\alexa\\appdata\\local\\programs\\python\\python38\\lib\\site-packages\\IPython\\core\\interactiveshell.py:3145: DtypeWarning: Columns (85) have mixed types.Specify dtype option on import or set low_memory=False.\n",
      "  has_raised = await self.run_ast_nodes(code_ast.body, cell_name,\n"
     ]
    }
   ],
   "source": [
    "ddos_ldap_2019_df = pd.read_csv(\"../data/original/CIC_DDoS2019/ddos_ldap_2019.csv\")"
   ]
  },
  {
   "cell_type": "code",
   "execution_count": 4,
   "metadata": {},
   "outputs": [],
   "source": [
    "ddos_netbios_2019_df = pd.read_csv(\"../data/original/CIC_DDoS2019/ddos_netbios_2019.csv\")"
   ]
  },
  {
   "cell_type": "code",
   "execution_count": 5,
   "metadata": {},
   "outputs": [],
   "source": [
    "ddos_syn_2019_df = pd.read_csv(\"../data/original/CIC_DDoS2019/ddos_syn_2019.csv\")"
   ]
  },
  {
   "cell_type": "code",
   "execution_count": 6,
   "metadata": {},
   "outputs": [],
   "source": [
    "ddos_udp_2019_df = pd.read_csv(\"../data/original/CIC_DDoS2019/ddos_udp_2019.csv\")"
   ]
  },
  {
   "cell_type": "code",
   "execution_count": 7,
   "metadata": {},
   "outputs": [],
   "source": [
    "target_feature = 'Label'"
   ]
  },
  {
   "cell_type": "markdown",
   "metadata": {},
   "source": [
    "# 3. Removing Null Entries, Normalizing Columns, and Reducing the Size of the Datasets\n",
    "\n",
    "The datasets are way too large to even store in GitHub. We will reduce the size while keeping the distribution of target feature.\n",
    "\n",
    "## 3.1 PORTMAN_2018 Dataset\n",
    "\n",
    "This dataset is not too large to save in GitHub. Only need to convert categorical features to numerical and save in new location. Also remove spaces from column titles, and remove time dependant features."
   ]
  },
  {
   "cell_type": "code",
   "execution_count": 8,
   "metadata": {},
   "outputs": [
    {
     "name": "stdout",
     "output_type": "stream",
     "text": [
      "<class 'pandas.core.frame.DataFrame'>\n",
      "RangeIndex: 225745 entries, 0 to 225744\n",
      "Data columns (total 79 columns):\n",
      " #   Column                        Non-Null Count   Dtype  \n",
      "---  ------                        --------------   -----  \n",
      " 0    Destination Port             225745 non-null  int64  \n",
      " 1    Flow Duration                225745 non-null  int64  \n",
      " 2    Total Fwd Packets            225745 non-null  int64  \n",
      " 3    Total Backward Packets       225745 non-null  int64  \n",
      " 4   Total Length of Fwd Packets   225745 non-null  int64  \n",
      " 5    Total Length of Bwd Packets  225745 non-null  int64  \n",
      " 6    Fwd Packet Length Max        225745 non-null  int64  \n",
      " 7    Fwd Packet Length Min        225745 non-null  int64  \n",
      " 8    Fwd Packet Length Mean       225745 non-null  float64\n",
      " 9    Fwd Packet Length Std        225745 non-null  float64\n",
      " 10  Bwd Packet Length Max         225745 non-null  int64  \n",
      " 11   Bwd Packet Length Min        225745 non-null  int64  \n",
      " 12   Bwd Packet Length Mean       225745 non-null  float64\n",
      " 13   Bwd Packet Length Std        225745 non-null  float64\n",
      " 14  Flow Bytes/s                  225741 non-null  float64\n",
      " 15   Flow Packets/s               225745 non-null  float64\n",
      " 16   Flow IAT Mean                225745 non-null  float64\n",
      " 17   Flow IAT Std                 225745 non-null  float64\n",
      " 18   Flow IAT Max                 225745 non-null  int64  \n",
      " 19   Flow IAT Min                 225745 non-null  int64  \n",
      " 20  Fwd IAT Total                 225745 non-null  int64  \n",
      " 21   Fwd IAT Mean                 225745 non-null  float64\n",
      " 22   Fwd IAT Std                  225745 non-null  float64\n",
      " 23   Fwd IAT Max                  225745 non-null  int64  \n",
      " 24   Fwd IAT Min                  225745 non-null  int64  \n",
      " 25  Bwd IAT Total                 225745 non-null  int64  \n",
      " 26   Bwd IAT Mean                 225745 non-null  float64\n",
      " 27   Bwd IAT Std                  225745 non-null  float64\n",
      " 28   Bwd IAT Max                  225745 non-null  int64  \n",
      " 29   Bwd IAT Min                  225745 non-null  int64  \n",
      " 30  Fwd PSH Flags                 225745 non-null  int64  \n",
      " 31   Bwd PSH Flags                225745 non-null  int64  \n",
      " 32   Fwd URG Flags                225745 non-null  int64  \n",
      " 33   Bwd URG Flags                225745 non-null  int64  \n",
      " 34   Fwd Header Length            225745 non-null  int64  \n",
      " 35   Bwd Header Length            225745 non-null  int64  \n",
      " 36  Fwd Packets/s                 225745 non-null  float64\n",
      " 37   Bwd Packets/s                225745 non-null  float64\n",
      " 38   Min Packet Length            225745 non-null  int64  \n",
      " 39   Max Packet Length            225745 non-null  int64  \n",
      " 40   Packet Length Mean           225745 non-null  float64\n",
      " 41   Packet Length Std            225745 non-null  float64\n",
      " 42   Packet Length Variance       225745 non-null  float64\n",
      " 43  FIN Flag Count                225745 non-null  int64  \n",
      " 44   SYN Flag Count               225745 non-null  int64  \n",
      " 45   RST Flag Count               225745 non-null  int64  \n",
      " 46   PSH Flag Count               225745 non-null  int64  \n",
      " 47   ACK Flag Count               225745 non-null  int64  \n",
      " 48   URG Flag Count               225745 non-null  int64  \n",
      " 49   CWE Flag Count               225745 non-null  int64  \n",
      " 50   ECE Flag Count               225745 non-null  int64  \n",
      " 51   Down/Up Ratio                225745 non-null  int64  \n",
      " 52   Average Packet Size          225745 non-null  float64\n",
      " 53   Avg Fwd Segment Size         225745 non-null  float64\n",
      " 54   Avg Bwd Segment Size         225745 non-null  float64\n",
      " 55   Fwd Header Length.1          225745 non-null  int64  \n",
      " 56  Fwd Avg Bytes/Bulk            225745 non-null  int64  \n",
      " 57   Fwd Avg Packets/Bulk         225745 non-null  int64  \n",
      " 58   Fwd Avg Bulk Rate            225745 non-null  int64  \n",
      " 59   Bwd Avg Bytes/Bulk           225745 non-null  int64  \n",
      " 60   Bwd Avg Packets/Bulk         225745 non-null  int64  \n",
      " 61  Bwd Avg Bulk Rate             225745 non-null  int64  \n",
      " 62  Subflow Fwd Packets           225745 non-null  int64  \n",
      " 63   Subflow Fwd Bytes            225745 non-null  int64  \n",
      " 64   Subflow Bwd Packets          225745 non-null  int64  \n",
      " 65   Subflow Bwd Bytes            225745 non-null  int64  \n",
      " 66  Init_Win_bytes_forward        225745 non-null  int64  \n",
      " 67   Init_Win_bytes_backward      225745 non-null  int64  \n",
      " 68   act_data_pkt_fwd             225745 non-null  int64  \n",
      " 69   min_seg_size_forward         225745 non-null  int64  \n",
      " 70  Active Mean                   225745 non-null  float64\n",
      " 71   Active Std                   225745 non-null  float64\n",
      " 72   Active Max                   225745 non-null  int64  \n",
      " 73   Active Min                   225745 non-null  int64  \n",
      " 74  Idle Mean                     225745 non-null  float64\n",
      " 75   Idle Std                     225745 non-null  float64\n",
      " 76   Idle Max                     225745 non-null  int64  \n",
      " 77   Idle Min                     225745 non-null  int64  \n",
      " 78   Label                        225745 non-null  object \n",
      "dtypes: float64(24), int64(54), object(1)\n",
      "memory usage: 136.1+ MB\n"
     ]
    }
   ],
   "source": [
    "ddos_portmap_2018_df.info()"
   ]
  },
  {
   "cell_type": "code",
   "execution_count": 9,
   "metadata": {},
   "outputs": [],
   "source": [
    "# Removing whitespace from column titles\n",
    "new_ddos_portmap_2018_df = ddos_portmap_2018_df.copy()\n",
    "new_ddos_portmap_2018_df.columns = ddos_portmap_2018_df.columns.str.replace(' ', '')"
   ]
  },
  {
   "cell_type": "code",
   "execution_count": 10,
   "metadata": {},
   "outputs": [
    {
     "data": {
      "text/plain": [
       "DDoS      128027\n",
       "BENIGN     97718\n",
       "Name: Label, dtype: int64"
      ]
     },
     "execution_count": 10,
     "metadata": {},
     "output_type": "execute_result"
    }
   ],
   "source": [
    "new_ddos_portmap_2018_df[target_feature].value_counts()"
   ]
  },
  {
   "cell_type": "code",
   "execution_count": 11,
   "metadata": {},
   "outputs": [],
   "source": [
    "le = preprocessing.LabelEncoder()\n",
    "le.fit(new_ddos_portmap_2018_df[target_feature])\n",
    "new_ddos_portmap_2018_df[target_feature] = le.transform(new_ddos_portmap_2018_df[target_feature])"
   ]
  },
  {
   "cell_type": "code",
   "execution_count": 12,
   "metadata": {},
   "outputs": [
    {
     "data": {
      "text/plain": [
       "1    128027\n",
       "0     97718\n",
       "Name: Label, dtype: int64"
      ]
     },
     "execution_count": 12,
     "metadata": {},
     "output_type": "execute_result"
    }
   ],
   "source": [
    "new_ddos_portmap_2018_df[target_feature].value_counts()"
   ]
  },
  {
   "cell_type": "code",
   "execution_count": 13,
   "metadata": {},
   "outputs": [
    {
     "name": "stdout",
     "output_type": "stream",
     "text": [
      "Columns with NaN values: ['FlowBytes/s']\n",
      "Inf Values count: 64 infinite values\n"
     ]
    }
   ],
   "source": [
    "# Find features with empty cells\n",
    "\n",
    "columns_with_nan = new_ddos_portmap_2018_df.columns[new_ddos_portmap_2018_df.isna().any()].tolist()\n",
    "print(\"Columns with NaN values:\", columns_with_nan)\n",
    "\n",
    "count = np.isinf(new_ddos_portmap_2018_df).values.sum() \n",
    "print(\"Inf Values count: \" + str(count) + \" infinite values\") "
   ]
  },
  {
   "cell_type": "code",
   "execution_count": 14,
   "metadata": {},
   "outputs": [],
   "source": [
    "# Removing empty and infinite cells\n",
    "\n",
    "new_ddos_portmap_2018_df.replace([np.inf, -np.inf], np.nan, inplace=True)\n",
    "new_ddos_portmap_2018_df = new_ddos_portmap_2018_df[new_ddos_portmap_2018_df['FlowBytes/s'].notna()]"
   ]
  },
  {
   "cell_type": "code",
   "execution_count": 15,
   "metadata": {},
   "outputs": [
    {
     "name": "stdout",
     "output_type": "stream",
     "text": [
      "Columns with NaN values: []\n",
      "Inf Values count: 0 infinite values\n"
     ]
    }
   ],
   "source": [
    "columns_with_nan = new_ddos_portmap_2018_df.columns[new_ddos_portmap_2018_df.isna().any()].tolist()\n",
    "print(\"Columns with NaN values:\", columns_with_nan)\n",
    "\n",
    "count = np.isinf(new_ddos_portmap_2018_df).values.sum() \n",
    "print(\"Inf Values count: \" + str(count) + \" infinite values\") "
   ]
  },
  {
   "cell_type": "code",
   "execution_count": 16,
   "metadata": {},
   "outputs": [
    {
     "name": "stdout",
     "output_type": "stream",
     "text": [
      "<class 'pandas.core.frame.DataFrame'>\n",
      "Int64Index: 225711 entries, 0 to 225744\n",
      "Data columns (total 79 columns):\n",
      " #   Column                   Non-Null Count   Dtype  \n",
      "---  ------                   --------------   -----  \n",
      " 0   DestinationPort          225711 non-null  int64  \n",
      " 1   FlowDuration             225711 non-null  int64  \n",
      " 2   TotalFwdPackets          225711 non-null  int64  \n",
      " 3   TotalBackwardPackets     225711 non-null  int64  \n",
      " 4   TotalLengthofFwdPackets  225711 non-null  int64  \n",
      " 5   TotalLengthofBwdPackets  225711 non-null  int64  \n",
      " 6   FwdPacketLengthMax       225711 non-null  int64  \n",
      " 7   FwdPacketLengthMin       225711 non-null  int64  \n",
      " 8   FwdPacketLengthMean      225711 non-null  float64\n",
      " 9   FwdPacketLengthStd       225711 non-null  float64\n",
      " 10  BwdPacketLengthMax       225711 non-null  int64  \n",
      " 11  BwdPacketLengthMin       225711 non-null  int64  \n",
      " 12  BwdPacketLengthMean      225711 non-null  float64\n",
      " 13  BwdPacketLengthStd       225711 non-null  float64\n",
      " 14  FlowBytes/s              225711 non-null  float64\n",
      " 15  FlowPackets/s            225711 non-null  float64\n",
      " 16  FlowIATMean              225711 non-null  float64\n",
      " 17  FlowIATStd               225711 non-null  float64\n",
      " 18  FlowIATMax               225711 non-null  int64  \n",
      " 19  FlowIATMin               225711 non-null  int64  \n",
      " 20  FwdIATTotal              225711 non-null  int64  \n",
      " 21  FwdIATMean               225711 non-null  float64\n",
      " 22  FwdIATStd                225711 non-null  float64\n",
      " 23  FwdIATMax                225711 non-null  int64  \n",
      " 24  FwdIATMin                225711 non-null  int64  \n",
      " 25  BwdIATTotal              225711 non-null  int64  \n",
      " 26  BwdIATMean               225711 non-null  float64\n",
      " 27  BwdIATStd                225711 non-null  float64\n",
      " 28  BwdIATMax                225711 non-null  int64  \n",
      " 29  BwdIATMin                225711 non-null  int64  \n",
      " 30  FwdPSHFlags              225711 non-null  int64  \n",
      " 31  BwdPSHFlags              225711 non-null  int64  \n",
      " 32  FwdURGFlags              225711 non-null  int64  \n",
      " 33  BwdURGFlags              225711 non-null  int64  \n",
      " 34  FwdHeaderLength          225711 non-null  int64  \n",
      " 35  BwdHeaderLength          225711 non-null  int64  \n",
      " 36  FwdPackets/s             225711 non-null  float64\n",
      " 37  BwdPackets/s             225711 non-null  float64\n",
      " 38  MinPacketLength          225711 non-null  int64  \n",
      " 39  MaxPacketLength          225711 non-null  int64  \n",
      " 40  PacketLengthMean         225711 non-null  float64\n",
      " 41  PacketLengthStd          225711 non-null  float64\n",
      " 42  PacketLengthVariance     225711 non-null  float64\n",
      " 43  FINFlagCount             225711 non-null  int64  \n",
      " 44  SYNFlagCount             225711 non-null  int64  \n",
      " 45  RSTFlagCount             225711 non-null  int64  \n",
      " 46  PSHFlagCount             225711 non-null  int64  \n",
      " 47  ACKFlagCount             225711 non-null  int64  \n",
      " 48  URGFlagCount             225711 non-null  int64  \n",
      " 49  CWEFlagCount             225711 non-null  int64  \n",
      " 50  ECEFlagCount             225711 non-null  int64  \n",
      " 51  Down/UpRatio             225711 non-null  int64  \n",
      " 52  AveragePacketSize        225711 non-null  float64\n",
      " 53  AvgFwdSegmentSize        225711 non-null  float64\n",
      " 54  AvgBwdSegmentSize        225711 non-null  float64\n",
      " 55  FwdHeaderLength.1        225711 non-null  int64  \n",
      " 56  FwdAvgBytes/Bulk         225711 non-null  int64  \n",
      " 57  FwdAvgPackets/Bulk       225711 non-null  int64  \n",
      " 58  FwdAvgBulkRate           225711 non-null  int64  \n",
      " 59  BwdAvgBytes/Bulk         225711 non-null  int64  \n",
      " 60  BwdAvgPackets/Bulk       225711 non-null  int64  \n",
      " 61  BwdAvgBulkRate           225711 non-null  int64  \n",
      " 62  SubflowFwdPackets        225711 non-null  int64  \n",
      " 63  SubflowFwdBytes          225711 non-null  int64  \n",
      " 64  SubflowBwdPackets        225711 non-null  int64  \n",
      " 65  SubflowBwdBytes          225711 non-null  int64  \n",
      " 66  Init_Win_bytes_forward   225711 non-null  int64  \n",
      " 67  Init_Win_bytes_backward  225711 non-null  int64  \n",
      " 68  act_data_pkt_fwd         225711 non-null  int64  \n",
      " 69  min_seg_size_forward     225711 non-null  int64  \n",
      " 70  ActiveMean               225711 non-null  float64\n",
      " 71  ActiveStd                225711 non-null  float64\n",
      " 72  ActiveMax                225711 non-null  int64  \n",
      " 73  ActiveMin                225711 non-null  int64  \n",
      " 74  IdleMean                 225711 non-null  float64\n",
      " 75  IdleStd                  225711 non-null  float64\n",
      " 76  IdleMax                  225711 non-null  int64  \n",
      " 77  IdleMin                  225711 non-null  int64  \n",
      " 78  Label                    225711 non-null  int32  \n",
      "dtypes: float64(24), int32(1), int64(54)\n",
      "memory usage: 136.9 MB\n"
     ]
    }
   ],
   "source": [
    "new_ddos_portmap_2018_df.info()"
   ]
  },
  {
   "cell_type": "code",
   "execution_count": 17,
   "metadata": {},
   "outputs": [],
   "source": [
    "scaler = preprocessing.MinMaxScaler()\n",
    "d = scaler.fit_transform(new_ddos_portmap_2018_df.values)\n",
    "\n",
    "scaled_ddos_portmap_2018_df = pd.DataFrame(d, columns=new_ddos_portmap_2018_df.columns)\n",
    "scaled_ddos_portmap_2018_df[target_feature] = new_ddos_portmap_2018_df[target_feature]"
   ]
  },
  {
   "cell_type": "code",
   "execution_count": 18,
   "metadata": {},
   "outputs": [],
   "source": [
    "scaled_ddos_portmap_2018_df = scaled_ddos_portmap_2018_df.round(9)"
   ]
  },
  {
   "cell_type": "code",
   "execution_count": 19,
   "metadata": {},
   "outputs": [
    {
     "data": {
      "text/plain": [
       "DestinationPort            0.0\n",
       "FlowDuration               0.0\n",
       "TotalFwdPackets            0.0\n",
       "TotalBackwardPackets       0.0\n",
       "TotalLengthofFwdPackets    0.0\n",
       "                          ... \n",
       "IdleMean                   0.0\n",
       "IdleStd                    0.0\n",
       "IdleMax                    0.0\n",
       "IdleMin                    0.0\n",
       "Label                      0.0\n",
       "Length: 79, dtype: float64"
      ]
     },
     "execution_count": 19,
     "metadata": {},
     "output_type": "execute_result"
    }
   ],
   "source": [
    "scaled_ddos_portmap_2018_df.min(axis=0) # will return min value of each column"
   ]
  },
  {
   "cell_type": "code",
   "execution_count": 20,
   "metadata": {},
   "outputs": [
    {
     "data": {
      "text/plain": [
       "DestinationPort            1.0\n",
       "FlowDuration               1.0\n",
       "TotalFwdPackets            1.0\n",
       "TotalBackwardPackets       1.0\n",
       "TotalLengthofFwdPackets    1.0\n",
       "                          ... \n",
       "IdleMean                   1.0\n",
       "IdleStd                    1.0\n",
       "IdleMax                    1.0\n",
       "IdleMin                    1.0\n",
       "Label                      1.0\n",
       "Length: 79, dtype: float64"
      ]
     },
     "execution_count": 20,
     "metadata": {},
     "output_type": "execute_result"
    }
   ],
   "source": [
    "scaled_ddos_portmap_2018_df.max(axis=0) # will return max value of each column"
   ]
  },
  {
   "cell_type": "code",
   "execution_count": 21,
   "metadata": {},
   "outputs": [],
   "source": [
    "scaled_ddos_portmap_2018_df.to_csv(\"../data/processed/CSE_CIC_IDS2018/ddos_portmap_2018.csv\")"
   ]
  },
  {
   "cell_type": "code",
   "execution_count": 22,
   "metadata": {},
   "outputs": [
    {
     "name": "stdout",
     "output_type": "stream",
     "text": [
      "<class 'pandas.core.frame.DataFrame'>\n",
      "RangeIndex: 225711 entries, 0 to 225710\n",
      "Data columns (total 79 columns):\n",
      " #   Column                   Non-Null Count   Dtype  \n",
      "---  ------                   --------------   -----  \n",
      " 0   DestinationPort          225711 non-null  float64\n",
      " 1   FlowDuration             225711 non-null  float64\n",
      " 2   TotalFwdPackets          225711 non-null  float64\n",
      " 3   TotalBackwardPackets     225711 non-null  float64\n",
      " 4   TotalLengthofFwdPackets  225711 non-null  float64\n",
      " 5   TotalLengthofBwdPackets  225711 non-null  float64\n",
      " 6   FwdPacketLengthMax       225711 non-null  float64\n",
      " 7   FwdPacketLengthMin       225711 non-null  float64\n",
      " 8   FwdPacketLengthMean      225711 non-null  float64\n",
      " 9   FwdPacketLengthStd       225711 non-null  float64\n",
      " 10  BwdPacketLengthMax       225711 non-null  float64\n",
      " 11  BwdPacketLengthMin       225711 non-null  float64\n",
      " 12  BwdPacketLengthMean      225711 non-null  float64\n",
      " 13  BwdPacketLengthStd       225711 non-null  float64\n",
      " 14  FlowBytes/s              225711 non-null  float64\n",
      " 15  FlowPackets/s            225711 non-null  float64\n",
      " 16  FlowIATMean              225711 non-null  float64\n",
      " 17  FlowIATStd               225711 non-null  float64\n",
      " 18  FlowIATMax               225711 non-null  float64\n",
      " 19  FlowIATMin               225711 non-null  float64\n",
      " 20  FwdIATTotal              225711 non-null  float64\n",
      " 21  FwdIATMean               225711 non-null  float64\n",
      " 22  FwdIATStd                225711 non-null  float64\n",
      " 23  FwdIATMax                225711 non-null  float64\n",
      " 24  FwdIATMin                225711 non-null  float64\n",
      " 25  BwdIATTotal              225711 non-null  float64\n",
      " 26  BwdIATMean               225711 non-null  float64\n",
      " 27  BwdIATStd                225711 non-null  float64\n",
      " 28  BwdIATMax                225711 non-null  float64\n",
      " 29  BwdIATMin                225711 non-null  float64\n",
      " 30  FwdPSHFlags              225711 non-null  float64\n",
      " 31  BwdPSHFlags              225711 non-null  float64\n",
      " 32  FwdURGFlags              225711 non-null  float64\n",
      " 33  BwdURGFlags              225711 non-null  float64\n",
      " 34  FwdHeaderLength          225711 non-null  float64\n",
      " 35  BwdHeaderLength          225711 non-null  float64\n",
      " 36  FwdPackets/s             225711 non-null  float64\n",
      " 37  BwdPackets/s             225711 non-null  float64\n",
      " 38  MinPacketLength          225711 non-null  float64\n",
      " 39  MaxPacketLength          225711 non-null  float64\n",
      " 40  PacketLengthMean         225711 non-null  float64\n",
      " 41  PacketLengthStd          225711 non-null  float64\n",
      " 42  PacketLengthVariance     225711 non-null  float64\n",
      " 43  FINFlagCount             225711 non-null  float64\n",
      " 44  SYNFlagCount             225711 non-null  float64\n",
      " 45  RSTFlagCount             225711 non-null  float64\n",
      " 46  PSHFlagCount             225711 non-null  float64\n",
      " 47  ACKFlagCount             225711 non-null  float64\n",
      " 48  URGFlagCount             225711 non-null  float64\n",
      " 49  CWEFlagCount             225711 non-null  float64\n",
      " 50  ECEFlagCount             225711 non-null  float64\n",
      " 51  Down/UpRatio             225711 non-null  float64\n",
      " 52  AveragePacketSize        225711 non-null  float64\n",
      " 53  AvgFwdSegmentSize        225711 non-null  float64\n",
      " 54  AvgBwdSegmentSize        225711 non-null  float64\n",
      " 55  FwdHeaderLength.1        225711 non-null  float64\n",
      " 56  FwdAvgBytes/Bulk         225711 non-null  float64\n",
      " 57  FwdAvgPackets/Bulk       225711 non-null  float64\n",
      " 58  FwdAvgBulkRate           225711 non-null  float64\n",
      " 59  BwdAvgBytes/Bulk         225711 non-null  float64\n",
      " 60  BwdAvgPackets/Bulk       225711 non-null  float64\n",
      " 61  BwdAvgBulkRate           225711 non-null  float64\n",
      " 62  SubflowFwdPackets        225711 non-null  float64\n",
      " 63  SubflowFwdBytes          225711 non-null  float64\n",
      " 64  SubflowBwdPackets        225711 non-null  float64\n",
      " 65  SubflowBwdBytes          225711 non-null  float64\n",
      " 66  Init_Win_bytes_forward   225711 non-null  float64\n",
      " 67  Init_Win_bytes_backward  225711 non-null  float64\n",
      " 68  act_data_pkt_fwd         225711 non-null  float64\n",
      " 69  min_seg_size_forward     225711 non-null  float64\n",
      " 70  ActiveMean               225711 non-null  float64\n",
      " 71  ActiveStd                225711 non-null  float64\n",
      " 72  ActiveMax                225711 non-null  float64\n",
      " 73  ActiveMin                225711 non-null  float64\n",
      " 74  IdleMean                 225711 non-null  float64\n",
      " 75  IdleStd                  225711 non-null  float64\n",
      " 76  IdleMax                  225711 non-null  float64\n",
      " 77  IdleMin                  225711 non-null  float64\n",
      " 78  Label                    225677 non-null  float64\n",
      "dtypes: float64(79)\n",
      "memory usage: 136.0 MB\n"
     ]
    }
   ],
   "source": [
    "scaled_ddos_portmap_2018_df.info()"
   ]
  },
  {
   "cell_type": "code",
   "execution_count": 23,
   "metadata": {},
   "outputs": [],
   "source": [
    "train, test = train_test_split(scaled_ddos_portmap_2018_df, test_size=0.3)\n",
    "train.to_csv(\"../data/train_test/CSE_CIC_IDS2018/ddos_portmap_2018_train.csv\")\n",
    "test.to_csv(\"../data/train_test/CSE_CIC_IDS2018/ddos_portmap_2018_test.csv\")"
   ]
  },
  {
   "cell_type": "markdown",
   "metadata": {},
   "source": [
    "## 3.2 LDAP_2019 Dataset"
   ]
  },
  {
   "cell_type": "code",
   "execution_count": 24,
   "metadata": {},
   "outputs": [],
   "source": [
    "# PREPROCESSING PIPELINE:\n",
    "\n",
    "def preprocess_ddos_2019 (ddos_df, remove_value, num_attacks):\n",
    "    \n",
    "    # Removing whitespace from column titles\n",
    "    print(\"Removing whitespaces from column titles....\")\n",
    "    new_ddos_df = ddos_df.copy()\n",
    "    new_ddos_df.columns = ddos_df.columns.str.replace(' ', '')\n",
    "    \n",
    "    # Drop unnamed columns\n",
    "    print(\"Dropping unnamed columns....\")\n",
    "    new_ddos_df = new_ddos_df.loc[:, ~new_ddos_df.columns.str.contains('^Unnamed')]\n",
    "    \n",
    "    # Drop extra values\n",
    "    print(\"Dropping extra values in target feature....\")\n",
    "    if remove_value!=None:\n",
    "        new_ddos_df = new_ddos_df.drop(new_ddos_df[new_ddos_df[target_feature] == remove_value].index)\n",
    "    \n",
    "    # Drop time dependant variables\n",
    "    print(\"Dropping time dependant variables....\")\n",
    "    new_ddos_df = new_ddos_df.drop('Timestamp', axis=1)\n",
    "    \n",
    "    # Categorical to numerical features\n",
    "    print(\"Converting categorical features to numerical....\")\n",
    "    categorical_features = ['FlowID', 'SourceIP', 'DestinationIP', 'SimillarHTTP', target_feature]\n",
    "\n",
    "    for categorical_feature in categorical_features:\n",
    "        new_ddos_df[categorical_feature] = new_ddos_df[categorical_feature].astype(\"string\")\n",
    "        le = preprocessing.LabelEncoder()\n",
    "        le.fit(new_ddos_df[categorical_feature])\n",
    "        new_ddos_df[categorical_feature] = le.transform(new_ddos_df[categorical_feature])\n",
    "        \n",
    "    # Drop empty and inf values\n",
    "    print(\"Dropping nan, inf, -inf values.....\")\n",
    "    new_ddos_df.replace([np.inf, -np.inf], np.nan, inplace=True)\n",
    "    new_ddos_df.dropna(inplace=True)\n",
    "    \n",
    "    # Normalize\n",
    "    print(\"Normalizing....\")\n",
    "    scaler = preprocessing.MinMaxScaler()\n",
    "    d = scaler.fit_transform(new_ddos_df.values)\n",
    "\n",
    "    scaled_ddos_df = pd.DataFrame(d, columns=new_ddos_df.columns)\n",
    "    scaled_ddos_df[target_feature] = new_ddos_df[target_feature]\n",
    "        \n",
    "    # Drop a lot of the attack instances\n",
    "    print(\"Keep only a certain ammount of samples......\")\n",
    "    attack_indices = scaled_ddos_df[scaled_ddos_df[target_feature] == 1].index\n",
    "    benign_indices = scaled_ddos_df[scaled_ddos_df[target_feature] == 0].index\n",
    "    random_indices = np.random.choice(attack_indices, num_attacks, replace=False)\n",
    "    all_indices = np.concatenate((benign_indices, random_indices))\n",
    "    scaled_ddos_df = scaled_ddos_df.loc[all_indices]\n",
    "    \n",
    "    # Round values\n",
    "    print(\"Rounding values......\")\n",
    "    scaled_ddos_df = scaled_ddos_df.round(9)\n",
    "    \n",
    "    # Shuffle entries\n",
    "    print(\"Shuffling....\")\n",
    "    scaled_ddos_df = shuffle(scaled_ddos_df)\n",
    "    \n",
    "    print(\"DONE!....\")\n",
    "    return scaled_ddos_df"
   ]
  },
  {
   "cell_type": "code",
   "execution_count": 25,
   "metadata": {},
   "outputs": [
    {
     "name": "stdout",
     "output_type": "stream",
     "text": [
      "<class 'pandas.core.frame.DataFrame'>\n",
      "RangeIndex: 2113234 entries, 0 to 2113233\n",
      "Data columns (total 88 columns):\n",
      " #   Column                        Dtype  \n",
      "---  ------                        -----  \n",
      " 0   Unnamed: 0                    int64  \n",
      " 1   Flow ID                       object \n",
      " 2    Source IP                    object \n",
      " 3    Source Port                  int64  \n",
      " 4    Destination IP               object \n",
      " 5    Destination Port             int64  \n",
      " 6    Protocol                     int64  \n",
      " 7    Timestamp                    object \n",
      " 8    Flow Duration                int64  \n",
      " 9    Total Fwd Packets            int64  \n",
      " 10   Total Backward Packets       int64  \n",
      " 11  Total Length of Fwd Packets   float64\n",
      " 12   Total Length of Bwd Packets  float64\n",
      " 13   Fwd Packet Length Max        float64\n",
      " 14   Fwd Packet Length Min        float64\n",
      " 15   Fwd Packet Length Mean       float64\n",
      " 16   Fwd Packet Length Std        float64\n",
      " 17  Bwd Packet Length Max         float64\n",
      " 18   Bwd Packet Length Min        float64\n",
      " 19   Bwd Packet Length Mean       float64\n",
      " 20   Bwd Packet Length Std        float64\n",
      " 21  Flow Bytes/s                  float64\n",
      " 22   Flow Packets/s               float64\n",
      " 23   Flow IAT Mean                float64\n",
      " 24   Flow IAT Std                 float64\n",
      " 25   Flow IAT Max                 float64\n",
      " 26   Flow IAT Min                 float64\n",
      " 27  Fwd IAT Total                 float64\n",
      " 28   Fwd IAT Mean                 float64\n",
      " 29   Fwd IAT Std                  float64\n",
      " 30   Fwd IAT Max                  float64\n",
      " 31   Fwd IAT Min                  float64\n",
      " 32  Bwd IAT Total                 float64\n",
      " 33   Bwd IAT Mean                 float64\n",
      " 34   Bwd IAT Std                  float64\n",
      " 35   Bwd IAT Max                  float64\n",
      " 36   Bwd IAT Min                  float64\n",
      " 37  Fwd PSH Flags                 int64  \n",
      " 38   Bwd PSH Flags                int64  \n",
      " 39   Fwd URG Flags                int64  \n",
      " 40   Bwd URG Flags                int64  \n",
      " 41   Fwd Header Length            int64  \n",
      " 42   Bwd Header Length            int64  \n",
      " 43  Fwd Packets/s                 float64\n",
      " 44   Bwd Packets/s                float64\n",
      " 45   Min Packet Length            float64\n",
      " 46   Max Packet Length            float64\n",
      " 47   Packet Length Mean           float64\n",
      " 48   Packet Length Std            float64\n",
      " 49   Packet Length Variance       float64\n",
      " 50  FIN Flag Count                int64  \n",
      " 51   SYN Flag Count               int64  \n",
      " 52   RST Flag Count               int64  \n",
      " 53   PSH Flag Count               int64  \n",
      " 54   ACK Flag Count               int64  \n",
      " 55   URG Flag Count               int64  \n",
      " 56   CWE Flag Count               int64  \n",
      " 57   ECE Flag Count               int64  \n",
      " 58   Down/Up Ratio                float64\n",
      " 59   Average Packet Size          float64\n",
      " 60   Avg Fwd Segment Size         float64\n",
      " 61   Avg Bwd Segment Size         float64\n",
      " 62   Fwd Header Length.1          int64  \n",
      " 63  Fwd Avg Bytes/Bulk            int64  \n",
      " 64   Fwd Avg Packets/Bulk         int64  \n",
      " 65   Fwd Avg Bulk Rate            int64  \n",
      " 66   Bwd Avg Bytes/Bulk           int64  \n",
      " 67   Bwd Avg Packets/Bulk         int64  \n",
      " 68  Bwd Avg Bulk Rate             int64  \n",
      " 69  Subflow Fwd Packets           int64  \n",
      " 70   Subflow Fwd Bytes            int64  \n",
      " 71   Subflow Bwd Packets          int64  \n",
      " 72   Subflow Bwd Bytes            int64  \n",
      " 73  Init_Win_bytes_forward        int64  \n",
      " 74   Init_Win_bytes_backward      int64  \n",
      " 75   act_data_pkt_fwd             int64  \n",
      " 76   min_seg_size_forward         int64  \n",
      " 77  Active Mean                   float64\n",
      " 78   Active Std                   float64\n",
      " 79   Active Max                   float64\n",
      " 80   Active Min                   float64\n",
      " 81  Idle Mean                     float64\n",
      " 82   Idle Std                     float64\n",
      " 83   Idle Max                     float64\n",
      " 84   Idle Min                     float64\n",
      " 85  SimillarHTTP                  object \n",
      " 86   Inbound                      int64  \n",
      " 87   Label                        object \n",
      "dtypes: float64(45), int64(37), object(6)\n",
      "memory usage: 1.4+ GB\n"
     ]
    }
   ],
   "source": [
    "ddos_ldap_2019_df.info()"
   ]
  },
  {
   "cell_type": "code",
   "execution_count": 26,
   "metadata": {},
   "outputs": [
    {
     "data": {
      "text/plain": [
       "LDAP       1905191\n",
       "NetBIOS     202919\n",
       "BENIGN        5124\n",
       "Name:  Label, dtype: int64"
      ]
     },
     "execution_count": 26,
     "metadata": {},
     "output_type": "execute_result"
    }
   ],
   "source": [
    "ddos_ldap_2019_df[' Label'].value_counts()"
   ]
  },
  {
   "cell_type": "code",
   "execution_count": 27,
   "metadata": {},
   "outputs": [
    {
     "name": "stdout",
     "output_type": "stream",
     "text": [
      "Removing whitespaces from column titles....\n",
      "Dropping unnamed columns....\n",
      "Dropping extra values in target feature....\n",
      "Dropping time dependant variables....\n",
      "Converting categorical features to numerical....\n",
      "Dropping nan, inf, -inf values.....\n",
      "Normalizing....\n",
      "Keep only a certain ammount of samples......\n",
      "Rounding values......\n",
      "Shuffling....\n",
      "DONE!....\n"
     ]
    }
   ],
   "source": [
    "new_ddos_ldap_2019_df = preprocess_ddos_2019(ddos_ldap_2019_df, 'NetBIOS', 200000)"
   ]
  },
  {
   "cell_type": "code",
   "execution_count": 28,
   "metadata": {},
   "outputs": [
    {
     "name": "stdout",
     "output_type": "stream",
     "text": [
      "Columns with NaN values: []\n",
      "Inf Values count: 0 infinite values\n"
     ]
    }
   ],
   "source": [
    "# Find features with empty cells\n",
    "\n",
    "columns_with_nan = new_ddos_ldap_2019_df.columns[new_ddos_ldap_2019_df.isna().any()].tolist()\n",
    "print(\"Columns with NaN values:\", columns_with_nan)\n",
    "\n",
    "count = np.isinf(new_ddos_ldap_2019_df).values.sum() \n",
    "print(\"Inf Values count: \" + str(count) + \" infinite values\") "
   ]
  },
  {
   "cell_type": "code",
   "execution_count": 29,
   "metadata": {},
   "outputs": [
    {
     "data": {
      "text/plain": [
       "FlowID             0.000001\n",
       "SourceIP           0.035857\n",
       "SourcePort         0.000000\n",
       "DestinationIP      0.022388\n",
       "DestinationPort    0.000000\n",
       "                     ...   \n",
       "IdleMax            0.000000\n",
       "IdleMin            0.000000\n",
       "SimillarHTTP       0.000000\n",
       "Inbound            0.000000\n",
       "Label              0.000000\n",
       "Length: 86, dtype: float64"
      ]
     },
     "execution_count": 29,
     "metadata": {},
     "output_type": "execute_result"
    }
   ],
   "source": [
    "new_ddos_ldap_2019_df.min(axis=0) # will return min value of each column"
   ]
  },
  {
   "cell_type": "code",
   "execution_count": 30,
   "metadata": {},
   "outputs": [
    {
     "data": {
      "text/plain": [
       "FlowID             1.000000\n",
       "SourceIP           1.000000\n",
       "SourcePort         0.996475\n",
       "DestinationIP      1.000000\n",
       "DestinationPort    1.000000\n",
       "                     ...   \n",
       "IdleMax            0.098563\n",
       "IdleMin            0.098563\n",
       "SimillarHTTP       0.611940\n",
       "Inbound            1.000000\n",
       "Label              1.000000\n",
       "Length: 86, dtype: float64"
      ]
     },
     "execution_count": 30,
     "metadata": {},
     "output_type": "execute_result"
    }
   ],
   "source": [
    "new_ddos_ldap_2019_df.max(axis=0) # will return max value of each column"
   ]
  },
  {
   "cell_type": "code",
   "execution_count": 31,
   "metadata": {},
   "outputs": [
    {
     "name": "stdout",
     "output_type": "stream",
     "text": [
      "<class 'pandas.core.frame.DataFrame'>\n",
      "Int64Index: 204842 entries, 712298 to 942367\n",
      "Data columns (total 86 columns):\n",
      " #   Column                   Non-Null Count   Dtype  \n",
      "---  ------                   --------------   -----  \n",
      " 0   FlowID                   204842 non-null  float64\n",
      " 1   SourceIP                 204842 non-null  float64\n",
      " 2   SourcePort               204842 non-null  float64\n",
      " 3   DestinationIP            204842 non-null  float64\n",
      " 4   DestinationPort          204842 non-null  float64\n",
      " 5   Protocol                 204842 non-null  float64\n",
      " 6   FlowDuration             204842 non-null  float64\n",
      " 7   TotalFwdPackets          204842 non-null  float64\n",
      " 8   TotalBackwardPackets     204842 non-null  float64\n",
      " 9   TotalLengthofFwdPackets  204842 non-null  float64\n",
      " 10  TotalLengthofBwdPackets  204842 non-null  float64\n",
      " 11  FwdPacketLengthMax       204842 non-null  float64\n",
      " 12  FwdPacketLengthMin       204842 non-null  float64\n",
      " 13  FwdPacketLengthMean      204842 non-null  float64\n",
      " 14  FwdPacketLengthStd       204842 non-null  float64\n",
      " 15  BwdPacketLengthMax       204842 non-null  float64\n",
      " 16  BwdPacketLengthMin       204842 non-null  float64\n",
      " 17  BwdPacketLengthMean      204842 non-null  float64\n",
      " 18  BwdPacketLengthStd       204842 non-null  float64\n",
      " 19  FlowBytes/s              204842 non-null  float64\n",
      " 20  FlowPackets/s            204842 non-null  float64\n",
      " 21  FlowIATMean              204842 non-null  float64\n",
      " 22  FlowIATStd               204842 non-null  float64\n",
      " 23  FlowIATMax               204842 non-null  float64\n",
      " 24  FlowIATMin               204842 non-null  float64\n",
      " 25  FwdIATTotal              204842 non-null  float64\n",
      " 26  FwdIATMean               204842 non-null  float64\n",
      " 27  FwdIATStd                204842 non-null  float64\n",
      " 28  FwdIATMax                204842 non-null  float64\n",
      " 29  FwdIATMin                204842 non-null  float64\n",
      " 30  BwdIATTotal              204842 non-null  float64\n",
      " 31  BwdIATMean               204842 non-null  float64\n",
      " 32  BwdIATStd                204842 non-null  float64\n",
      " 33  BwdIATMax                204842 non-null  float64\n",
      " 34  BwdIATMin                204842 non-null  float64\n",
      " 35  FwdPSHFlags              204842 non-null  float64\n",
      " 36  BwdPSHFlags              204842 non-null  float64\n",
      " 37  FwdURGFlags              204842 non-null  float64\n",
      " 38  BwdURGFlags              204842 non-null  float64\n",
      " 39  FwdHeaderLength          204842 non-null  float64\n",
      " 40  BwdHeaderLength          204842 non-null  float64\n",
      " 41  FwdPackets/s             204842 non-null  float64\n",
      " 42  BwdPackets/s             204842 non-null  float64\n",
      " 43  MinPacketLength          204842 non-null  float64\n",
      " 44  MaxPacketLength          204842 non-null  float64\n",
      " 45  PacketLengthMean         204842 non-null  float64\n",
      " 46  PacketLengthStd          204842 non-null  float64\n",
      " 47  PacketLengthVariance     204842 non-null  float64\n",
      " 48  FINFlagCount             204842 non-null  float64\n",
      " 49  SYNFlagCount             204842 non-null  float64\n",
      " 50  RSTFlagCount             204842 non-null  float64\n",
      " 51  PSHFlagCount             204842 non-null  float64\n",
      " 52  ACKFlagCount             204842 non-null  float64\n",
      " 53  URGFlagCount             204842 non-null  float64\n",
      " 54  CWEFlagCount             204842 non-null  float64\n",
      " 55  ECEFlagCount             204842 non-null  float64\n",
      " 56  Down/UpRatio             204842 non-null  float64\n",
      " 57  AveragePacketSize        204842 non-null  float64\n",
      " 58  AvgFwdSegmentSize        204842 non-null  float64\n",
      " 59  AvgBwdSegmentSize        204842 non-null  float64\n",
      " 60  FwdHeaderLength.1        204842 non-null  float64\n",
      " 61  FwdAvgBytes/Bulk         204842 non-null  float64\n",
      " 62  FwdAvgPackets/Bulk       204842 non-null  float64\n",
      " 63  FwdAvgBulkRate           204842 non-null  float64\n",
      " 64  BwdAvgBytes/Bulk         204842 non-null  float64\n",
      " 65  BwdAvgPackets/Bulk       204842 non-null  float64\n",
      " 66  BwdAvgBulkRate           204842 non-null  float64\n",
      " 67  SubflowFwdPackets        204842 non-null  float64\n",
      " 68  SubflowFwdBytes          204842 non-null  float64\n",
      " 69  SubflowBwdPackets        204842 non-null  float64\n",
      " 70  SubflowBwdBytes          204842 non-null  float64\n",
      " 71  Init_Win_bytes_forward   204842 non-null  float64\n",
      " 72  Init_Win_bytes_backward  204842 non-null  float64\n",
      " 73  act_data_pkt_fwd         204842 non-null  float64\n",
      " 74  min_seg_size_forward     204842 non-null  float64\n",
      " 75  ActiveMean               204842 non-null  float64\n",
      " 76  ActiveStd                204842 non-null  float64\n",
      " 77  ActiveMax                204842 non-null  float64\n",
      " 78  ActiveMin                204842 non-null  float64\n",
      " 79  IdleMean                 204842 non-null  float64\n",
      " 80  IdleStd                  204842 non-null  float64\n",
      " 81  IdleMax                  204842 non-null  float64\n",
      " 82  IdleMin                  204842 non-null  float64\n",
      " 83  SimillarHTTP             204842 non-null  float64\n",
      " 84  Inbound                  204842 non-null  float64\n",
      " 85  Label                    204842 non-null  float64\n",
      "dtypes: float64(86)\n",
      "memory usage: 136.0 MB\n"
     ]
    }
   ],
   "source": [
    "new_ddos_ldap_2019_df.info()"
   ]
  },
  {
   "cell_type": "code",
   "execution_count": 32,
   "metadata": {},
   "outputs": [
    {
     "data": {
      "text/plain": [
       "1.0    200000\n",
       "0.0      4842\n",
       "Name: Label, dtype: int64"
      ]
     },
     "execution_count": 32,
     "metadata": {},
     "output_type": "execute_result"
    }
   ],
   "source": [
    "new_ddos_ldap_2019_df['Label'].value_counts()"
   ]
  },
  {
   "cell_type": "code",
   "execution_count": 33,
   "metadata": {},
   "outputs": [],
   "source": [
    "new_ddos_ldap_2019_df.to_csv(\"../data/processed/CIC_DDoS2019/ddos_ldap_2019.csv\")"
   ]
  },
  {
   "cell_type": "code",
   "execution_count": 34,
   "metadata": {},
   "outputs": [],
   "source": [
    "train, test = train_test_split(new_ddos_ldap_2019_df, test_size=0.3)\n",
    "train.to_csv(\"../data/train_test/CIC_DDoS2019/ddos_ldap_2019_train.csv\")\n",
    "test.to_csv(\"../data/train_test/CIC_DDoS2019/ddos_ldap_2019_test.csv\")"
   ]
  },
  {
   "cell_type": "markdown",
   "metadata": {},
   "source": [
    "## 3.3 NETBIOS_2019 Dataset"
   ]
  },
  {
   "cell_type": "code",
   "execution_count": 35,
   "metadata": {},
   "outputs": [
    {
     "data": {
      "text/plain": [
       "DrDoS_NetBIOS    4093279\n",
       "BENIGN              1707\n",
       "Name:  Label, dtype: int64"
      ]
     },
     "execution_count": 35,
     "metadata": {},
     "output_type": "execute_result"
    }
   ],
   "source": [
    "ddos_netbios_2019_df[' Label'].value_counts()"
   ]
  },
  {
   "cell_type": "code",
   "execution_count": 36,
   "metadata": {},
   "outputs": [
    {
     "name": "stdout",
     "output_type": "stream",
     "text": [
      "Removing whitespaces from column titles....\n",
      "Dropping unnamed columns....\n",
      "Dropping extra values in target feature....\n",
      "Dropping time dependant variables....\n",
      "Converting categorical features to numerical....\n",
      "Dropping nan, inf, -inf values.....\n",
      "Normalizing....\n",
      "Keep only a certain ammount of samples......\n",
      "Rounding values......\n",
      "Shuffling....\n",
      "DONE!....\n"
     ]
    }
   ],
   "source": [
    "new_ddos_netbios_2019_df = preprocess_ddos_2019(ddos_netbios_2019_df, None, 200000)"
   ]
  },
  {
   "cell_type": "code",
   "execution_count": 37,
   "metadata": {},
   "outputs": [
    {
     "data": {
      "text/plain": [
       "1.0    200000\n",
       "0.0      1680\n",
       "Name: Label, dtype: int64"
      ]
     },
     "execution_count": 37,
     "metadata": {},
     "output_type": "execute_result"
    }
   ],
   "source": [
    "new_ddos_netbios_2019_df['Label'].value_counts()"
   ]
  },
  {
   "cell_type": "code",
   "execution_count": 38,
   "metadata": {},
   "outputs": [],
   "source": [
    "new_ddos_netbios_2019_df.to_csv(\"../data/processed/CIC_DDoS2019/ddos_netbios_2019.csv\")"
   ]
  },
  {
   "cell_type": "code",
   "execution_count": 39,
   "metadata": {},
   "outputs": [],
   "source": [
    "train, test = train_test_split(new_ddos_netbios_2019_df, test_size=0.3)\n",
    "train.to_csv(\"../data/train_test/CIC_DDoS2019/ddos_netbios_2019_train.csv\")\n",
    "test.to_csv(\"../data/train_test/CIC_DDoS2019/ddos_netbios_2019_test.csv\")"
   ]
  },
  {
   "cell_type": "markdown",
   "metadata": {},
   "source": [
    "## 3.4 UDP_2019 Dataset"
   ]
  },
  {
   "cell_type": "code",
   "execution_count": 40,
   "metadata": {},
   "outputs": [
    {
     "data": {
      "text/plain": [
       "UDP       3754680\n",
       "MSSQL       24392\n",
       "BENIGN       3134\n",
       "Name:  Label, dtype: int64"
      ]
     },
     "execution_count": 40,
     "metadata": {},
     "output_type": "execute_result"
    }
   ],
   "source": [
    "ddos_udp_2019_df[' Label'].value_counts()"
   ]
  },
  {
   "cell_type": "code",
   "execution_count": 41,
   "metadata": {},
   "outputs": [
    {
     "name": "stdout",
     "output_type": "stream",
     "text": [
      "Removing whitespaces from column titles....\n",
      "Dropping unnamed columns....\n",
      "Dropping extra values in target feature....\n",
      "Dropping time dependant variables....\n",
      "Converting categorical features to numerical....\n",
      "Dropping nan, inf, -inf values.....\n",
      "Normalizing....\n",
      "Keep only a certain ammount of samples......\n",
      "Rounding values......\n",
      "Shuffling....\n",
      "DONE!....\n"
     ]
    },
    {
     "data": {
      "text/plain": [
       "1.0    3134\n",
       "0.0    3077\n",
       "Name: Label, dtype: int64"
      ]
     },
     "execution_count": 41,
     "metadata": {},
     "output_type": "execute_result"
    }
   ],
   "source": [
    "new_ddos_udp_2019_df = preprocess_ddos_2019(ddos_udp_2019_df, None, 3134)\n",
    "new_ddos_udp_2019_df['Label'].value_counts()"
   ]
  },
  {
   "cell_type": "code",
   "execution_count": 42,
   "metadata": {},
   "outputs": [],
   "source": [
    "new_ddos_udp_2019_df.to_csv(\"../data/processed/CIC_DDoS2019/ddos_udp_2019.csv\")"
   ]
  },
  {
   "cell_type": "code",
   "execution_count": 43,
   "metadata": {},
   "outputs": [],
   "source": [
    "train, test = train_test_split(new_ddos_udp_2019_df, test_size=0.3)\n",
    "train.to_csv(\"../data/train_test/CIC_DDoS2019/ddos_udp_2019_train.csv\")\n",
    "test.to_csv(\"../data/train_test/CIC_DDoS2019/ddos_udp_2019_test.csv\")"
   ]
  },
  {
   "cell_type": "markdown",
   "metadata": {},
   "source": [
    "## 3.5 SYN_2019 Dataset"
   ]
  },
  {
   "cell_type": "code",
   "execution_count": 44,
   "metadata": {},
   "outputs": [
    {
     "data": {
      "text/plain": [
       "Syn       1582289\n",
       "BENIGN        392\n",
       "Name:  Label, dtype: int64"
      ]
     },
     "execution_count": 44,
     "metadata": {},
     "output_type": "execute_result"
    }
   ],
   "source": [
    "ddos_syn_2019_df[' Label'].value_counts()"
   ]
  },
  {
   "cell_type": "code",
   "execution_count": 45,
   "metadata": {},
   "outputs": [
    {
     "name": "stdout",
     "output_type": "stream",
     "text": [
      "Removing whitespaces from column titles....\n",
      "Dropping unnamed columns....\n",
      "Dropping extra values in target feature....\n",
      "Dropping time dependant variables....\n",
      "Converting categorical features to numerical....\n",
      "Dropping nan, inf, -inf values.....\n",
      "Normalizing....\n",
      "Keep only a certain ammount of samples......\n",
      "Rounding values......\n",
      "Shuffling....\n",
      "DONE!....\n"
     ]
    },
    {
     "data": {
      "text/plain": [
       "1.0    100000\n",
       "0.0       368\n",
       "Name: Label, dtype: int64"
      ]
     },
     "execution_count": 45,
     "metadata": {},
     "output_type": "execute_result"
    }
   ],
   "source": [
    "new_ddos_syn_2019_df = preprocess_ddos_2019(ddos_syn_2019_df, None, 100000)\n",
    "new_ddos_syn_2019_df['Label'].value_counts()"
   ]
  },
  {
   "cell_type": "code",
   "execution_count": 46,
   "metadata": {},
   "outputs": [],
   "source": [
    "new_ddos_syn_2019_df.to_csv(\"../data/processed/CIC_DDoS2019/ddos_syn_2019.csv\")"
   ]
  },
  {
   "cell_type": "code",
   "execution_count": 47,
   "metadata": {},
   "outputs": [],
   "source": [
    "train, test = train_test_split(new_ddos_syn_2019_df, test_size=0.3)\n",
    "train.to_csv(\"../data/train_test/CIC_DDoS2019/ddos_syn_2019_train.csv\")\n",
    "test.to_csv(\"../data/train_test/CIC_DDoS2019/ddos_syn_2019_test.csv\")"
   ]
  },
  {
   "cell_type": "code",
   "execution_count": 48,
   "metadata": {},
   "outputs": [],
   "source": [
    "# DONE"
   ]
  }
 ],
 "metadata": {
  "kernelspec": {
   "display_name": "Python 3",
   "language": "python",
   "name": "python3"
  },
  "language_info": {
   "codemirror_mode": {
    "name": "ipython",
    "version": 3
   },
   "file_extension": ".py",
   "mimetype": "text/x-python",
   "name": "python",
   "nbconvert_exporter": "python",
   "pygments_lexer": "ipython3",
   "version": "3.8.5"
  }
 },
 "nbformat": 4,
 "nbformat_minor": 4
}
