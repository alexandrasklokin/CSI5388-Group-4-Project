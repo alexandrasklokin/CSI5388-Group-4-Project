{
 "cells": [
  {
   "cell_type": "markdown",
   "metadata": {},
   "source": [
    "# 1. Imports"
   ]
  },
  {
   "cell_type": "code",
   "execution_count": 3,
   "metadata": {},
   "outputs": [],
   "source": [
    "import pandas as pd\n",
    "import numpy as np\n",
    "from sklearn.metrics import classification_report, precision_score, recall_score, f1_score, precision_recall_curve, auc\n",
    "from xgboost import XGBClassifier\n",
    "import matplotlib.pyplot as plt\n",
    "import pickle\n",
    "from sklearn.model_selection import KFold\n",
    "from sklearn.model_selection import cross_val_score\n",
    "from sklearn.metrics import make_scorer\n",
    "from numpy import mean\n",
    "from numpy import std"
   ]
  },
  {
   "cell_type": "markdown",
   "metadata": {},
   "source": [
    "# 2. Importing the Ranking Files"
   ]
  },
  {
   "cell_type": "code",
   "execution_count": 4,
   "metadata": {},
   "outputs": [],
   "source": [
    "portmap_ranking = pd.read_csv(\"../final_ranking/CSE_CIC_IDS2018/ddos_portmap_2018.csv\", index_col=0)\n",
    "syn_ranking = pd.read_csv(\"../final_ranking/CIC_DDoS2019/ddos_syn_2019.csv\", index_col=0)\n",
    "udp_ranking = pd.read_csv(\"../final_ranking/CIC_DDoS2019/ddos_udp_2019.csv\", index_col=0)\n",
    "netbios_ranking = pd.read_csv(\"../final_ranking/CIC_DDoS2019/ddos_netbios_2019.csv\", index_col=0)\n",
    "ldap_ranking = pd.read_csv(\"../final_ranking/CIC_DDoS2019/ddos_ldap_2019.csv\", index_col=0)"
   ]
  },
  {
   "cell_type": "markdown",
   "metadata": {},
   "source": [
    "# 3. Importing the Training Datasets"
   ]
  },
  {
   "cell_type": "code",
   "execution_count": 5,
   "metadata": {},
   "outputs": [],
   "source": [
    "portmap_train = pd.read_csv(\"../data/train_test/CSE_CIC_IDS2018/ddos_portmap_2018_train.csv\", index_col=0)\n",
    "ldap_train = pd.read_csv(\"../data/train_test/CIC_DDoS2019/ddos_ldap_2019_train.csv\", index_col=0)\n",
    "netbios_train = pd.read_csv(\"../data/train_test/CIC_DDoS2019/ddos_netbios_2019_train.csv\", index_col=0)\n",
    "syn_train = pd.read_csv(\"../data/train_test/CIC_DDoS2019/ddos_syn_2019_train.csv\", index_col=0)\n",
    "udp_train = pd.read_csv(\"../data/train_test/CIC_DDoS2019/ddos_udp_2019_train.csv\", index_col=0)\n",
    "target_feature = 'Label'"
   ]
  },
  {
   "cell_type": "code",
   "execution_count": 6,
   "metadata": {},
   "outputs": [],
   "source": [
    "portmap_test = pd.read_csv(\"../data/train_test/CSE_CIC_IDS2018/ddos_portmap_2018_test.csv\", index_col=0)\n",
    "ldap_test = pd.read_csv(\"../data/train_test/CIC_DDoS2019/ddos_ldap_2019_test.csv\", index_col=0)\n",
    "netbios_test = pd.read_csv(\"../data/train_test/CIC_DDoS2019/ddos_netbios_2019_test.csv\", index_col=0)\n",
    "syn_test = pd.read_csv(\"../data/train_test/CIC_DDoS2019/ddos_syn_2019_test.csv\", index_col=0)\n",
    "udp_test = pd.read_csv(\"../data/train_test/CIC_DDoS2019/ddos_udp_2019_test.csv\", index_col=0)"
   ]
  },
  {
   "cell_type": "markdown",
   "metadata": {},
   "source": [
    "# 3. Training the Model"
   ]
  },
  {
   "cell_type": "code",
   "execution_count": 11,
   "metadata": {},
   "outputs": [],
   "source": [
    "def trainTestSaveModel(train_df, test_df, master_ranking, threshold, saveLocation, cv_n, verbose):\n",
    "    \n",
    "    cv = KFold(n_splits=cv_n, random_state=1, shuffle=True)\n",
    "    f1_scorer = make_scorer(f1_score, average='weighted')\n",
    "    \n",
    "    methods = master_ranking.columns.tolist()[1:]\n",
    "    methods.insert(0, 'All Features')\n",
    "    #if verbose: print(methods)\n",
    "    \n",
    "    features = master_ranking['feature'].tolist()\n",
    "    #if verbose: print(features)\n",
    "        \n",
    "    for method in methods:\n",
    "        if verbose: print(\"___________________________________________________________________________________ \"+method)\n",
    "            \n",
    "        # _____________________________________________________________1. CREATE X BASED ON THE FEATURE SELECTED DURING FEATURE SELECTION\n",
    "        \n",
    "        # BASELINES\n",
    "        if method == 'All Features':\n",
    "            selected_features = master_ranking['feature'].tolist()\n",
    "        elif method !=\"STEF-Rank\":\n",
    "            selected_features = master_ranking[master_ranking[method] == 1]['feature'].tolist()\n",
    "        # STEF-RANK\n",
    "        else:\n",
    "            selected_features = master_ranking[master_ranking[method] >= threshold]['feature'].tolist()\n",
    "            \n",
    "        X_train = train_df[selected_features]\n",
    "        X_test = test_df[selected_features]\n",
    "        \n",
    "        y_train = train_df[target_feature].values\n",
    "        y_test = test_df[target_feature].values\n",
    "                \n",
    "        if verbose: print(\"Training Dataset size: rows =\", X_train.shape[0], \", columns =\", X_train.shape[1], \"+ 'Label'\")\n",
    "                \n",
    "        # _____________________________________________________________2. TRAIN THE MODEL USING CV (K=5)\n",
    "        model = XGBClassifier(random_state=0)\n",
    "        model.fit(X_train, y_train)\n",
    "        f1s = cross_val_score(model, X_train, y_train, scoring=f1_scorer, cv=cv, n_jobs=-1)\n",
    "\n",
    "        print('CV F1-Score Mean (std): %.3f (%.3f)' % (mean(f1s), std(f1s)))\n",
    "        \n",
    "        if verbose: print(\"Testing Dataset size: rows =\", X_test.shape[0], \", columns =\", X_test.shape[1], \"+ 'Label'\")\n",
    "        \n",
    "        # _____________________________________________________________3. EVALUATE THE MODEL\n",
    "        y_preds = model.predict(X_test)\n",
    "        test_f1 = f1_score(y_test, y_preds)\n",
    "        \n",
    "        y_pred_prob = model.predict_proba(X_test)\n",
    "        y_pred_prob = y_pred_prob[:, 1]\n",
    "        precision, recall, _ = precision_recall_curve(y_test, y_pred_prob)\n",
    "        auc_pr = auc(recall, precision)\n",
    "        \n",
    "        print(\"Test F1-Scrore \"+str(test_f1))\n",
    "        print(\"Test AUC-PR \"+str(auc_pr))\n",
    "        \n",
    "        # _____________________________________________________________4. SAVE THE MODEL"
   ]
  },
  {
   "cell_type": "code",
   "execution_count": null,
   "metadata": {},
   "outputs": [
    {
     "name": "stdout",
     "output_type": "stream",
     "text": [
      "['all', 'BackwardElimination', 'MutualInformation', 'RFE', 'SelectKBest', 'VarianceThreshold', 'VIF', 'STEF-Rank']\n",
      "___________________________________________________________________________________ all\n",
      "Training Dataset size: rows = 157997 , columns = 78 + 'Label'\n",
      "CV F1-Score Mean (std): 1.000 (0.000)\n",
      "Testing Dataset size: rows = 67714 , columns = 78 + 'Label'\n",
      "Test F1-Scrore 0.9999607930263863\n",
      "Test AUC-PR 0.9999999808838231\n",
      "___________________________________________________________________________________ BackwardElimination\n",
      "Training Dataset size: rows = 157997 , columns = 50 + 'Label'\n",
      "CV F1-Score Mean (std): 1.000 (0.000)\n",
      "Testing Dataset size: rows = 67714 , columns = 50 + 'Label'\n",
      "Test F1-Scrore 0.9999738616759893\n",
      "Test AUC-PR 0.9999999890736062\n",
      "___________________________________________________________________________________ MutualInformation\n",
      "Training Dataset size: rows = 157997 , columns = 65 + 'Label'\n",
      "CV F1-Score Mean (std): 1.000 (0.000)\n",
      "Testing Dataset size: rows = 67714 , columns = 65 + 'Label'\n",
      "Test F1-Scrore 0.9999738616759893\n",
      "Test AUC-PR 0.999999972699725\n",
      "___________________________________________________________________________________ RFE\n",
      "Training Dataset size: rows = 157997 , columns = 50 + 'Label'\n",
      "CV F1-Score Mean (std): 1.000 (0.000)\n",
      "Testing Dataset size: rows = 67714 , columns = 50 + 'Label'\n",
      "Test F1-Scrore 0.9999738616759893\n",
      "Test AUC-PR 0.9999999904384239\n",
      "___________________________________________________________________________________ SelectKBest\n",
      "Training Dataset size: rows = 157997 , columns = 40 + 'Label'\n",
      "CV F1-Score Mean (std): 1.000 (0.000)\n",
      "Testing Dataset size: rows = 67714 , columns = 40 + 'Label'\n",
      "Test F1-Scrore 0.999882369855315\n",
      "Test AUC-PR 0.9999996907680498\n",
      "___________________________________________________________________________________ VarianceThreshold\n",
      "Training Dataset size: rows = 157997 , columns = 36 + 'Label'\n",
      "CV F1-Score Mean (std): 1.000 (0.000)\n",
      "Testing Dataset size: rows = 67714 , columns = 36 + 'Label'\n",
      "Test F1-Scrore 0.9999607940511507\n",
      "Test AUC-PR 0.9999994371428689\n",
      "___________________________________________________________________________________ VIF\n",
      "Training Dataset size: rows = 157997 , columns = 13 + 'Label'\n",
      "CV F1-Score Mean (std): 1.000 (0.000)\n",
      "Testing Dataset size: rows = 67714 , columns = 13 + 'Label'\n",
      "Test F1-Scrore 0.9995949988895131\n",
      "Test AUC-PR 0.999991340696151\n",
      "___________________________________________________________________________________ STEF-Rank\n",
      "Training Dataset size: rows = 157997 , columns = 57 + 'Label'\n"
     ]
    }
   ],
   "source": [
    "trainTestSaveModel(portmap_train, portmap_test, portmap_ranking, 0.50, '../model/CSE_CIC_IDS2018/portmap', 2, verbose=True)"
   ]
  },
  {
   "cell_type": "code",
   "execution_count": null,
   "metadata": {},
   "outputs": [],
   "source": [
    "trainTestSaveModel(udp_train, udp_test, udp_ranking, 0.50, '../model/CIC_DDoS2019/udp', 2, verbose=True)"
   ]
  }
 ],
 "metadata": {
  "kernelspec": {
   "display_name": "Python 3",
   "language": "python",
   "name": "python3"
  },
  "language_info": {
   "codemirror_mode": {
    "name": "ipython",
    "version": 3
   },
   "file_extension": ".py",
   "mimetype": "text/x-python",
   "name": "python",
   "nbconvert_exporter": "python",
   "pygments_lexer": "ipython3",
   "version": "3.8.5"
  }
 },
 "nbformat": 4,
 "nbformat_minor": 4
}
